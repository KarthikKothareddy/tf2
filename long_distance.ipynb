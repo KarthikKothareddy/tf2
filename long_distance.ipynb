{
 "cells": [
  {
   "cell_type": "code",
   "execution_count": 43,
   "metadata": {
    "ExecuteTime": {
     "end_time": "2020-03-20T13:09:48.903999Z",
     "start_time": "2020-03-20T13:09:48.895577Z"
    }
   },
   "outputs": [],
   "source": [
    "from tensorflow.keras.layers import (\n",
    "    Input, Dense, SimpleRNN, \n",
    "    Flatten, GRU, LSTM,\n",
    "    GlobalMaxPooling1D\n",
    ")\n",
    "from tensorflow.keras.models import Model\n",
    "from tensorflow.keras.optimizers import SGD, Adam\n",
    "\n",
    "import numpy as np\n",
    "import pandas as pd\n",
    "import matplotlib.pyplot as plt\n",
    "%matplotlib inline\n"
   ]
  },
  {
   "cell_type": "code",
   "execution_count": 11,
   "metadata": {
    "ExecuteTime": {
     "end_time": "2020-03-20T12:41:36.307109Z",
     "start_time": "2020-03-20T12:41:36.301603Z"
    }
   },
   "outputs": [],
   "source": [
    "### build the dataset\n",
    "# This is a nonlinear AND long-distance dataset\n",
    "# (Actually, we will test long-distance vs. short-distance patterns)\n",
    "\n",
    "# Start with a small T and increase it later\n",
    "T = 10\n",
    "D = 1\n",
    "X = []\n",
    "Y = []\n",
    "\n",
    "\n",
    "def get_label(x, i1, i2, i3):\n",
    "    \n",
    "    if x[i1] < 0 and x[i2] < 0 and x[i3] < 0:\n",
    "        return 1\n",
    "    \n",
    "    if x[i1] < 0 and x[i2] > 0 and x[i3] > 0:\n",
    "        return 1\n",
    "    \n",
    "    if x[i1] > 0 and x[i2] < 0 and x[i3] > 0:\n",
    "        return 1\n",
    "    \n",
    "    if x[i1] < 0 and x[i2] > 0 and x[i3] < 0:\n",
    "        return 1\n",
    "    return 0"
   ]
  },
  {
   "cell_type": "code",
   "execution_count": 15,
   "metadata": {
    "ExecuteTime": {
     "end_time": "2020-03-20T12:43:58.949518Z",
     "start_time": "2020-03-20T12:43:58.919747Z"
    }
   },
   "outputs": [],
   "source": [
    "for t in range(5000):\n",
    "\n",
    "    x = np.random.randn(T)\n",
    "    X.append(x)\n",
    "    \n",
    "    # short distance\n",
    "    y = get_label(x, -1, -2, -3)\n",
    "    # long distance\n",
    "    # y = get_label(x, 0, 1, 2)\n",
    "    Y.append(y)\n",
    "    \n",
    "X = np.array(X)\n",
    "Y = np.array(Y)\n",
    "N = len(X)"
   ]
  },
  {
   "cell_type": "markdown",
   "metadata": {
    "heading_collapsed": true
   },
   "source": [
    "## SHORT DISTANCE MODE"
   ]
  },
  {
   "cell_type": "markdown",
   "metadata": {
    "ExecuteTime": {
     "end_time": "2020-03-20T12:41:37.560940Z",
     "start_time": "2020-03-20T12:41:37.557034Z"
    },
    "heading_collapsed": true,
    "hidden": true
   },
   "source": [
    "### Linear Model"
   ]
  },
  {
   "cell_type": "code",
   "execution_count": 16,
   "metadata": {
    "ExecuteTime": {
     "end_time": "2020-03-20T12:46:55.412460Z",
     "start_time": "2020-03-20T12:46:43.658316Z"
    },
    "collapsed": true,
    "hidden": true
   },
   "outputs": [
    {
     "name": "stdout",
     "output_type": "stream",
     "text": [
      "Train on 2500 samples, validate on 2500 samples\n",
      "Epoch 1/100\n",
      "2500/2500 [==============================] - 0s 152us/sample - loss: 0.8159 - accuracy: 0.5048 - val_loss: 0.6621 - val_accuracy: 0.6076\n",
      "Epoch 2/100\n",
      "2500/2500 [==============================] - 0s 43us/sample - loss: 0.6279 - accuracy: 0.7056 - val_loss: 0.6134 - val_accuracy: 0.7232\n",
      "Epoch 3/100\n",
      "2500/2500 [==============================] - 0s 41us/sample - loss: 0.6032 - accuracy: 0.7364 - val_loss: 0.6068 - val_accuracy: 0.7368\n",
      "Epoch 4/100\n",
      "2500/2500 [==============================] - 0s 42us/sample - loss: 0.5996 - accuracy: 0.7380 - val_loss: 0.6068 - val_accuracy: 0.7380\n",
      "Epoch 5/100\n",
      "2500/2500 [==============================] - 0s 41us/sample - loss: 0.5993 - accuracy: 0.7384 - val_loss: 0.6073 - val_accuracy: 0.7408\n",
      "Epoch 6/100\n",
      "2500/2500 [==============================] - 0s 44us/sample - loss: 0.5997 - accuracy: 0.7440 - val_loss: 0.6073 - val_accuracy: 0.7360\n",
      "Epoch 7/100\n",
      "2500/2500 [==============================] - 0s 48us/sample - loss: 0.5998 - accuracy: 0.7384 - val_loss: 0.6074 - val_accuracy: 0.7344\n",
      "Epoch 8/100\n",
      "2500/2500 [==============================] - 0s 45us/sample - loss: 0.5995 - accuracy: 0.7400 - val_loss: 0.6069 - val_accuracy: 0.7416\n",
      "Epoch 9/100\n",
      "2500/2500 [==============================] - 0s 42us/sample - loss: 0.5993 - accuracy: 0.7416 - val_loss: 0.6073 - val_accuracy: 0.7348\n",
      "Epoch 10/100\n",
      "2500/2500 [==============================] - 0s 43us/sample - loss: 0.5988 - accuracy: 0.7388 - val_loss: 0.6071 - val_accuracy: 0.7424\n",
      "Epoch 11/100\n",
      "2500/2500 [==============================] - 0s 44us/sample - loss: 0.5991 - accuracy: 0.7412 - val_loss: 0.6077 - val_accuracy: 0.7332\n",
      "Epoch 12/100\n",
      "2500/2500 [==============================] - 0s 43us/sample - loss: 0.5997 - accuracy: 0.7412 - val_loss: 0.6069 - val_accuracy: 0.7356\n",
      "Epoch 13/100\n",
      "2500/2500 [==============================] - 0s 41us/sample - loss: 0.5993 - accuracy: 0.7420 - val_loss: 0.6068 - val_accuracy: 0.7428\n",
      "Epoch 14/100\n",
      "2500/2500 [==============================] - 0s 41us/sample - loss: 0.6001 - accuracy: 0.7404 - val_loss: 0.6085 - val_accuracy: 0.7348\n",
      "Epoch 15/100\n",
      "2500/2500 [==============================] - 0s 40us/sample - loss: 0.5995 - accuracy: 0.7416 - val_loss: 0.6074 - val_accuracy: 0.7384\n",
      "Epoch 16/100\n",
      "2500/2500 [==============================] - 0s 41us/sample - loss: 0.5996 - accuracy: 0.7432 - val_loss: 0.6084 - val_accuracy: 0.7352\n",
      "Epoch 17/100\n",
      "2500/2500 [==============================] - 0s 42us/sample - loss: 0.5988 - accuracy: 0.7460 - val_loss: 0.6074 - val_accuracy: 0.7392\n",
      "Epoch 18/100\n",
      "2500/2500 [==============================] - 0s 42us/sample - loss: 0.5992 - accuracy: 0.7376 - val_loss: 0.6076 - val_accuracy: 0.7300\n",
      "Epoch 19/100\n",
      "2500/2500 [==============================] - 0s 42us/sample - loss: 0.5997 - accuracy: 0.7400 - val_loss: 0.6064 - val_accuracy: 0.7456\n",
      "Epoch 20/100\n",
      "2500/2500 [==============================] - 0s 41us/sample - loss: 0.6000 - accuracy: 0.7356 - val_loss: 0.6084 - val_accuracy: 0.7344\n",
      "Epoch 21/100\n",
      "2500/2500 [==============================] - 0s 46us/sample - loss: 0.6002 - accuracy: 0.7416 - val_loss: 0.6074 - val_accuracy: 0.7416\n",
      "Epoch 22/100\n",
      "2500/2500 [==============================] - 0s 41us/sample - loss: 0.6000 - accuracy: 0.7368 - val_loss: 0.6074 - val_accuracy: 0.7360\n",
      "Epoch 23/100\n",
      "2500/2500 [==============================] - 0s 42us/sample - loss: 0.6005 - accuracy: 0.7396 - val_loss: 0.6062 - val_accuracy: 0.7436\n",
      "Epoch 24/100\n",
      "2500/2500 [==============================] - 0s 41us/sample - loss: 0.5992 - accuracy: 0.7420 - val_loss: 0.6071 - val_accuracy: 0.7380\n",
      "Epoch 25/100\n",
      "2500/2500 [==============================] - 0s 40us/sample - loss: 0.5994 - accuracy: 0.7368 - val_loss: 0.6060 - val_accuracy: 0.7404\n",
      "Epoch 26/100\n",
      "2500/2500 [==============================] - 0s 41us/sample - loss: 0.5994 - accuracy: 0.7440 - val_loss: 0.6065 - val_accuracy: 0.7436\n",
      "Epoch 27/100\n",
      "2500/2500 [==============================] - 0s 41us/sample - loss: 0.5996 - accuracy: 0.7472 - val_loss: 0.6069 - val_accuracy: 0.7352\n",
      "Epoch 28/100\n",
      "2500/2500 [==============================] - 0s 41us/sample - loss: 0.5995 - accuracy: 0.7432 - val_loss: 0.6063 - val_accuracy: 0.7396\n",
      "Epoch 29/100\n",
      "2500/2500 [==============================] - 0s 40us/sample - loss: 0.5992 - accuracy: 0.7352 - val_loss: 0.6075 - val_accuracy: 0.7368\n",
      "Epoch 30/100\n",
      "2500/2500 [==============================] - 0s 42us/sample - loss: 0.5993 - accuracy: 0.7392 - val_loss: 0.6072 - val_accuracy: 0.7384\n",
      "Epoch 31/100\n",
      "2500/2500 [==============================] - 0s 43us/sample - loss: 0.5992 - accuracy: 0.7432 - val_loss: 0.6080 - val_accuracy: 0.7328\n",
      "Epoch 32/100\n",
      "2500/2500 [==============================] - 0s 45us/sample - loss: 0.6002 - accuracy: 0.7356 - val_loss: 0.6083 - val_accuracy: 0.7332\n",
      "Epoch 33/100\n",
      "2500/2500 [==============================] - 0s 47us/sample - loss: 0.5995 - accuracy: 0.7432 - val_loss: 0.6076 - val_accuracy: 0.7436\n",
      "Epoch 34/100\n",
      "2500/2500 [==============================] - 0s 41us/sample - loss: 0.6016 - accuracy: 0.7440 - val_loss: 0.6070 - val_accuracy: 0.7428\n",
      "Epoch 35/100\n",
      "2500/2500 [==============================] - 0s 41us/sample - loss: 0.5997 - accuracy: 0.7392 - val_loss: 0.6077 - val_accuracy: 0.7372\n",
      "Epoch 36/100\n",
      "2500/2500 [==============================] - 0s 48us/sample - loss: 0.5995 - accuracy: 0.7360 - val_loss: 0.6076 - val_accuracy: 0.7364\n",
      "Epoch 37/100\n",
      "2500/2500 [==============================] - 0s 42us/sample - loss: 0.5993 - accuracy: 0.7404 - val_loss: 0.6070 - val_accuracy: 0.7372\n",
      "Epoch 38/100\n",
      "2500/2500 [==============================] - 0s 42us/sample - loss: 0.5996 - accuracy: 0.7408 - val_loss: 0.6079 - val_accuracy: 0.7340\n",
      "Epoch 39/100\n",
      "2500/2500 [==============================] - 0s 45us/sample - loss: 0.5995 - accuracy: 0.7408 - val_loss: 0.6069 - val_accuracy: 0.7364\n",
      "Epoch 40/100\n",
      "2500/2500 [==============================] - 0s 42us/sample - loss: 0.5994 - accuracy: 0.7392 - val_loss: 0.6070 - val_accuracy: 0.7364\n",
      "Epoch 41/100\n",
      "2500/2500 [==============================] - 0s 42us/sample - loss: 0.5999 - accuracy: 0.7424 - val_loss: 0.6075 - val_accuracy: 0.7360\n",
      "Epoch 42/100\n",
      "2500/2500 [==============================] - 0s 41us/sample - loss: 0.5997 - accuracy: 0.7356 - val_loss: 0.6088 - val_accuracy: 0.7252\n",
      "Epoch 43/100\n",
      "2500/2500 [==============================] - 0s 41us/sample - loss: 0.5995 - accuracy: 0.7416 - val_loss: 0.6074 - val_accuracy: 0.7352\n",
      "Epoch 44/100\n",
      "2500/2500 [==============================] - 0s 46us/sample - loss: 0.5992 - accuracy: 0.7464 - val_loss: 0.6079 - val_accuracy: 0.7396\n",
      "Epoch 45/100\n",
      "2500/2500 [==============================] - 0s 45us/sample - loss: 0.5996 - accuracy: 0.7388 - val_loss: 0.6063 - val_accuracy: 0.7448\n",
      "Epoch 46/100\n",
      "2500/2500 [==============================] - 0s 48us/sample - loss: 0.5995 - accuracy: 0.7392 - val_loss: 0.6068 - val_accuracy: 0.7372\n",
      "Epoch 47/100\n",
      "2500/2500 [==============================] - 0s 44us/sample - loss: 0.6000 - accuracy: 0.7392 - val_loss: 0.6069 - val_accuracy: 0.7444\n",
      "Epoch 48/100\n",
      "2500/2500 [==============================] - 0s 42us/sample - loss: 0.5997 - accuracy: 0.7388 - val_loss: 0.6083 - val_accuracy: 0.7388\n",
      "Epoch 49/100\n",
      "2500/2500 [==============================] - 0s 42us/sample - loss: 0.5992 - accuracy: 0.7444 - val_loss: 0.6072 - val_accuracy: 0.7368\n",
      "Epoch 50/100\n",
      "2500/2500 [==============================] - 0s 41us/sample - loss: 0.6002 - accuracy: 0.7432 - val_loss: 0.6077 - val_accuracy: 0.7360\n",
      "Epoch 51/100\n",
      "2500/2500 [==============================] - 0s 41us/sample - loss: 0.5995 - accuracy: 0.7352 - val_loss: 0.6072 - val_accuracy: 0.7296\n",
      "Epoch 52/100\n",
      "2500/2500 [==============================] - 0s 40us/sample - loss: 0.5995 - accuracy: 0.7448 - val_loss: 0.6067 - val_accuracy: 0.7396\n",
      "Epoch 53/100\n",
      "2500/2500 [==============================] - 0s 42us/sample - loss: 0.6000 - accuracy: 0.7404 - val_loss: 0.6069 - val_accuracy: 0.7400\n",
      "Epoch 54/100\n",
      "2500/2500 [==============================] - 0s 45us/sample - loss: 0.6001 - accuracy: 0.7460 - val_loss: 0.6078 - val_accuracy: 0.7352\n",
      "Epoch 55/100\n",
      "2500/2500 [==============================] - 0s 42us/sample - loss: 0.5997 - accuracy: 0.7400 - val_loss: 0.6073 - val_accuracy: 0.7268\n"
     ]
    },
    {
     "name": "stdout",
     "output_type": "stream",
     "text": [
      "Epoch 56/100\n",
      "2500/2500 [==============================] - 0s 41us/sample - loss: 0.6002 - accuracy: 0.7340 - val_loss: 0.6076 - val_accuracy: 0.7340\n",
      "Epoch 57/100\n",
      "2500/2500 [==============================] - 0s 40us/sample - loss: 0.5993 - accuracy: 0.7444 - val_loss: 0.6068 - val_accuracy: 0.7348\n",
      "Epoch 58/100\n",
      "2500/2500 [==============================] - 0s 42us/sample - loss: 0.5996 - accuracy: 0.7328 - val_loss: 0.6070 - val_accuracy: 0.7344\n",
      "Epoch 59/100\n",
      "2500/2500 [==============================] - 0s 50us/sample - loss: 0.5994 - accuracy: 0.7368 - val_loss: 0.6068 - val_accuracy: 0.7344\n",
      "Epoch 60/100\n",
      "2500/2500 [==============================] - 0s 44us/sample - loss: 0.5992 - accuracy: 0.7376 - val_loss: 0.6073 - val_accuracy: 0.7348\n",
      "Epoch 61/100\n",
      "2500/2500 [==============================] - 0s 43us/sample - loss: 0.5998 - accuracy: 0.7332 - val_loss: 0.6074 - val_accuracy: 0.7440\n",
      "Epoch 62/100\n",
      "2500/2500 [==============================] - 0s 43us/sample - loss: 0.6000 - accuracy: 0.7460 - val_loss: 0.6067 - val_accuracy: 0.7420\n",
      "Epoch 63/100\n",
      "2500/2500 [==============================] - 0s 43us/sample - loss: 0.5992 - accuracy: 0.7424 - val_loss: 0.6069 - val_accuracy: 0.7400\n",
      "Epoch 64/100\n",
      "2500/2500 [==============================] - 0s 43us/sample - loss: 0.6000 - accuracy: 0.7436 - val_loss: 0.6082 - val_accuracy: 0.7276\n",
      "Epoch 65/100\n",
      "2500/2500 [==============================] - 0s 42us/sample - loss: 0.6007 - accuracy: 0.7356 - val_loss: 0.6084 - val_accuracy: 0.7308\n",
      "Epoch 66/100\n",
      "2500/2500 [==============================] - 0s 42us/sample - loss: 0.5992 - accuracy: 0.7400 - val_loss: 0.6069 - val_accuracy: 0.7340\n",
      "Epoch 67/100\n",
      "2500/2500 [==============================] - 0s 46us/sample - loss: 0.5995 - accuracy: 0.7388 - val_loss: 0.6073 - val_accuracy: 0.7416\n",
      "Epoch 68/100\n",
      "2500/2500 [==============================] - 0s 50us/sample - loss: 0.5999 - accuracy: 0.7448 - val_loss: 0.6069 - val_accuracy: 0.7328\n",
      "Epoch 69/100\n",
      "2500/2500 [==============================] - 0s 47us/sample - loss: 0.6009 - accuracy: 0.7348 - val_loss: 0.6070 - val_accuracy: 0.7332\n",
      "Epoch 70/100\n",
      "2500/2500 [==============================] - 0s 53us/sample - loss: 0.5995 - accuracy: 0.7424 - val_loss: 0.6070 - val_accuracy: 0.7384\n",
      "Epoch 71/100\n",
      "2500/2500 [==============================] - 0s 52us/sample - loss: 0.5991 - accuracy: 0.7396 - val_loss: 0.6075 - val_accuracy: 0.7420\n",
      "Epoch 72/100\n",
      "2500/2500 [==============================] - 0s 50us/sample - loss: 0.6002 - accuracy: 0.7484 - val_loss: 0.6076 - val_accuracy: 0.7332\n",
      "Epoch 73/100\n",
      "2500/2500 [==============================] - 0s 50us/sample - loss: 0.6000 - accuracy: 0.7416 - val_loss: 0.6070 - val_accuracy: 0.7376\n",
      "Epoch 74/100\n",
      "2500/2500 [==============================] - 0s 45us/sample - loss: 0.5991 - accuracy: 0.7464 - val_loss: 0.6070 - val_accuracy: 0.7388\n",
      "Epoch 75/100\n",
      "2500/2500 [==============================] - 0s 47us/sample - loss: 0.5992 - accuracy: 0.7400 - val_loss: 0.6063 - val_accuracy: 0.7432\n",
      "Epoch 76/100\n",
      "2500/2500 [==============================] - 0s 52us/sample - loss: 0.5990 - accuracy: 0.7404 - val_loss: 0.6071 - val_accuracy: 0.7376\n",
      "Epoch 77/100\n",
      "2500/2500 [==============================] - 0s 52us/sample - loss: 0.6001 - accuracy: 0.7420 - val_loss: 0.6073 - val_accuracy: 0.7388\n",
      "Epoch 78/100\n",
      "2500/2500 [==============================] - 0s 48us/sample - loss: 0.5990 - accuracy: 0.7408 - val_loss: 0.6073 - val_accuracy: 0.7364\n",
      "Epoch 79/100\n",
      "2500/2500 [==============================] - 0s 45us/sample - loss: 0.5992 - accuracy: 0.7388 - val_loss: 0.6075 - val_accuracy: 0.7424\n",
      "Epoch 80/100\n",
      "2500/2500 [==============================] - 0s 43us/sample - loss: 0.5999 - accuracy: 0.7368 - val_loss: 0.6073 - val_accuracy: 0.7400\n",
      "Epoch 81/100\n",
      "2500/2500 [==============================] - 0s 46us/sample - loss: 0.6007 - accuracy: 0.7424 - val_loss: 0.6070 - val_accuracy: 0.7424\n",
      "Epoch 82/100\n",
      "2500/2500 [==============================] - 0s 47us/sample - loss: 0.5994 - accuracy: 0.7428 - val_loss: 0.6066 - val_accuracy: 0.7460\n",
      "Epoch 83/100\n",
      "2500/2500 [==============================] - 0s 43us/sample - loss: 0.5989 - accuracy: 0.7428 - val_loss: 0.6073 - val_accuracy: 0.7388\n",
      "Epoch 84/100\n",
      "2500/2500 [==============================] - 0s 44us/sample - loss: 0.5990 - accuracy: 0.7428 - val_loss: 0.6063 - val_accuracy: 0.7392\n",
      "Epoch 85/100\n",
      "2500/2500 [==============================] - 0s 52us/sample - loss: 0.5997 - accuracy: 0.7348 - val_loss: 0.6073 - val_accuracy: 0.7460\n",
      "Epoch 86/100\n",
      "2500/2500 [==============================] - 0s 56us/sample - loss: 0.5994 - accuracy: 0.7440 - val_loss: 0.6063 - val_accuracy: 0.7408\n",
      "Epoch 87/100\n",
      "2500/2500 [==============================] - 0s 50us/sample - loss: 0.5992 - accuracy: 0.7392 - val_loss: 0.6083 - val_accuracy: 0.7312\n",
      "Epoch 88/100\n",
      "2500/2500 [==============================] - 0s 58us/sample - loss: 0.5987 - accuracy: 0.7404 - val_loss: 0.6067 - val_accuracy: 0.7396\n",
      "Epoch 89/100\n",
      "2500/2500 [==============================] - 0s 62us/sample - loss: 0.5998 - accuracy: 0.7360 - val_loss: 0.6073 - val_accuracy: 0.7380\n",
      "Epoch 90/100\n",
      "2500/2500 [==============================] - 0s 51us/sample - loss: 0.5997 - accuracy: 0.7420 - val_loss: 0.6075 - val_accuracy: 0.7452\n",
      "Epoch 91/100\n",
      "2500/2500 [==============================] - 0s 52us/sample - loss: 0.5997 - accuracy: 0.7432 - val_loss: 0.6071 - val_accuracy: 0.7376\n",
      "Epoch 92/100\n",
      "2500/2500 [==============================] - 0s 51us/sample - loss: 0.5992 - accuracy: 0.7424 - val_loss: 0.6072 - val_accuracy: 0.7368\n",
      "Epoch 93/100\n",
      "2500/2500 [==============================] - 0s 52us/sample - loss: 0.5990 - accuracy: 0.7392 - val_loss: 0.6078 - val_accuracy: 0.7344\n",
      "Epoch 94/100\n",
      "2500/2500 [==============================] - 0s 52us/sample - loss: 0.5994 - accuracy: 0.7460 - val_loss: 0.6075 - val_accuracy: 0.7372\n",
      "Epoch 95/100\n",
      "2500/2500 [==============================] - 0s 50us/sample - loss: 0.6001 - accuracy: 0.7408 - val_loss: 0.6072 - val_accuracy: 0.7364\n",
      "Epoch 96/100\n",
      "2500/2500 [==============================] - 0s 50us/sample - loss: 0.5994 - accuracy: 0.7456 - val_loss: 0.6084 - val_accuracy: 0.7340\n",
      "Epoch 97/100\n",
      "2500/2500 [==============================] - 0s 50us/sample - loss: 0.5996 - accuracy: 0.7348 - val_loss: 0.6076 - val_accuracy: 0.7372\n",
      "Epoch 98/100\n",
      "2500/2500 [==============================] - 0s 51us/sample - loss: 0.5991 - accuracy: 0.7416 - val_loss: 0.6079 - val_accuracy: 0.7396\n",
      "Epoch 99/100\n",
      "2500/2500 [==============================] - 0s 50us/sample - loss: 0.5994 - accuracy: 0.7460 - val_loss: 0.6069 - val_accuracy: 0.7356\n",
      "Epoch 100/100\n",
      "2500/2500 [==============================] - 0s 52us/sample - loss: 0.5992 - accuracy: 0.7392 - val_loss: 0.6081 - val_accuracy: 0.7344\n"
     ]
    }
   ],
   "source": [
    "_input = Input(shape=(T, ))\n",
    "x = Dense(1, activation=\"sigmoid\")(_input)\n",
    "\n",
    "# init\n",
    "model = Model(_input, x)\n",
    "\n",
    "# compile\n",
    "model.compile(\n",
    "    loss=\"binary_crossentropy\",\n",
    "    optimizer=Adam(lr=0.01),\n",
    "    metrics=[\"accuracy\"]\n",
    ")\n",
    "\n",
    "# train\n",
    "r = model.fit(\n",
    "    X, Y,\n",
    "    epochs=100,\n",
    "    validation_split=0.5\n",
    ")"
   ]
  },
  {
   "cell_type": "code",
   "execution_count": 19,
   "metadata": {
    "ExecuteTime": {
     "end_time": "2020-03-20T12:48:21.417225Z",
     "start_time": "2020-03-20T12:48:21.275083Z"
    },
    "hidden": true
   },
   "outputs": [
    {
     "data": {
      "image/png": "[encoded data removed]",
      "text/plain": [
       "<Figure size 432x288 with 1 Axes>"
      ]
     },
     "metadata": {
      "needs_background": "light"
     },
     "output_type": "display_data"
    }
   ],
   "source": [
    "# plot loss per iteration\n",
    "plt.plot(r.history[\"loss\"], label=\"loss\")\n",
    "plt.plot(r.history[\"val_loss\"], label=\"val_loss\")\n",
    "plt.legend();"
   ]
  },
  {
   "cell_type": "code",
   "execution_count": 20,
   "metadata": {
    "ExecuteTime": {
     "end_time": "2020-03-20T12:48:24.250480Z",
     "start_time": "2020-03-20T12:48:24.100945Z"
    },
    "hidden": true
   },
   "outputs": [
    {
     "data": {
      "image/png": "[encoded data removed]",
      "text/plain": [
       "<Figure size 432x288 with 1 Axes>"
      ]
     },
     "metadata": {
      "needs_background": "light"
     },
     "output_type": "display_data"
    }
   ],
   "source": [
    "# plot loss per iteration\n",
    "plt.plot(r.history[\"accuracy\"], label=\"accuracy\")\n",
    "plt.plot(r.history[\"val_accuracy\"], label=\"val_accuracy\")\n",
    "plt.legend();"
   ]
  },
  {
   "cell_type": "markdown",
   "metadata": {
    "heading_collapsed": true,
    "hidden": true
   },
   "source": [
    "### Simple RNN"
   ]
  },
  {
   "cell_type": "code",
   "execution_count": 24,
   "metadata": {
    "ExecuteTime": {
     "end_time": "2020-03-20T12:53:28.206673Z",
     "start_time": "2020-03-20T12:52:58.143703Z"
    },
    "collapsed": true,
    "hidden": true
   },
   "outputs": [
    {
     "name": "stdout",
     "output_type": "stream",
     "text": [
      "Train on 2500 samples, validate on 2500 samples\n",
      "Epoch 1/100\n",
      "2500/2500 [==============================] - 1s 363us/sample - loss: 0.5967 - accuracy: 0.7264 - val_loss: 0.5896 - val_accuracy: 0.7432\n",
      "Epoch 2/100\n",
      "2500/2500 [==============================] - 0s 106us/sample - loss: 0.5732 - accuracy: 0.7452 - val_loss: 0.5623 - val_accuracy: 0.7508\n",
      "Epoch 3/100\n",
      "2500/2500 [==============================] - 0s 104us/sample - loss: 0.5353 - accuracy: 0.7520 - val_loss: 0.5028 - val_accuracy: 0.7456\n",
      "Epoch 4/100\n",
      "2500/2500 [==============================] - 0s 100us/sample - loss: 0.4771 - accuracy: 0.7732 - val_loss: 0.4491 - val_accuracy: 0.7708\n",
      "Epoch 5/100\n",
      "2500/2500 [==============================] - 0s 106us/sample - loss: 0.4367 - accuracy: 0.7756 - val_loss: 0.4201 - val_accuracy: 0.7716\n",
      "Epoch 6/100\n",
      "2500/2500 [==============================] - 0s 113us/sample - loss: 0.4107 - accuracy: 0.7848 - val_loss: 0.3894 - val_accuracy: 0.7948\n",
      "Epoch 7/100\n",
      "2500/2500 [==============================] - 0s 105us/sample - loss: 0.3840 - accuracy: 0.8084 - val_loss: 0.3600 - val_accuracy: 0.8068\n",
      "Epoch 8/100\n",
      "2500/2500 [==============================] - 0s 107us/sample - loss: 0.3525 - accuracy: 0.8588 - val_loss: 0.3260 - val_accuracy: 0.8772\n",
      "Epoch 9/100\n",
      "2500/2500 [==============================] - 0s 109us/sample - loss: 0.3223 - accuracy: 0.8720 - val_loss: 0.3039 - val_accuracy: 0.8876\n",
      "Epoch 10/100\n",
      "2500/2500 [==============================] - 0s 105us/sample - loss: 0.3071 - accuracy: 0.8784 - val_loss: 0.2901 - val_accuracy: 0.8876\n",
      "Epoch 11/100\n",
      "2500/2500 [==============================] - 0s 100us/sample - loss: 0.2933 - accuracy: 0.8832 - val_loss: 0.2787 - val_accuracy: 0.8952\n",
      "Epoch 12/100\n",
      "2500/2500 [==============================] - 0s 104us/sample - loss: 0.2841 - accuracy: 0.8840 - val_loss: 0.2775 - val_accuracy: 0.8832\n",
      "Epoch 13/100\n",
      "2500/2500 [==============================] - 0s 103us/sample - loss: 0.2809 - accuracy: 0.8748 - val_loss: 0.2594 - val_accuracy: 0.9020\n",
      "Epoch 14/100\n",
      "2500/2500 [==============================] - 0s 106us/sample - loss: 0.2656 - accuracy: 0.8968 - val_loss: 0.2519 - val_accuracy: 0.9036\n",
      "Epoch 15/100\n",
      "2500/2500 [==============================] - 0s 98us/sample - loss: 0.2565 - accuracy: 0.8956 - val_loss: 0.2378 - val_accuracy: 0.9160\n",
      "Epoch 16/100\n",
      "2500/2500 [==============================] - 0s 106us/sample - loss: 0.2444 - accuracy: 0.9104 - val_loss: 0.2295 - val_accuracy: 0.9204\n",
      "Epoch 17/100\n",
      "2500/2500 [==============================] - 0s 112us/sample - loss: 0.2392 - accuracy: 0.9096 - val_loss: 0.2211 - val_accuracy: 0.9244\n",
      "Epoch 18/100\n",
      "2500/2500 [==============================] - 0s 121us/sample - loss: 0.2265 - accuracy: 0.9144 - val_loss: 0.2116 - val_accuracy: 0.9320\n",
      "Epoch 19/100\n",
      "2500/2500 [==============================] - 0s 122us/sample - loss: 0.2177 - accuracy: 0.9220 - val_loss: 0.2028 - val_accuracy: 0.9364\n",
      "Epoch 20/100\n",
      "2500/2500 [==============================] - 0s 116us/sample - loss: 0.2091 - accuracy: 0.9300 - val_loss: 0.1962 - val_accuracy: 0.9388\n",
      "Epoch 21/100\n",
      "2500/2500 [==============================] - 0s 119us/sample - loss: 0.2025 - accuracy: 0.9328 - val_loss: 0.1846 - val_accuracy: 0.9404\n",
      "Epoch 22/100\n",
      "2500/2500 [==============================] - 0s 119us/sample - loss: 0.1914 - accuracy: 0.9372 - val_loss: 0.1775 - val_accuracy: 0.9420\n",
      "Epoch 23/100\n",
      "2500/2500 [==============================] - 0s 124us/sample - loss: 0.1830 - accuracy: 0.9428 - val_loss: 0.1754 - val_accuracy: 0.9372\n",
      "Epoch 24/100\n",
      "2500/2500 [==============================] - 0s 117us/sample - loss: 0.1794 - accuracy: 0.9408 - val_loss: 0.1596 - val_accuracy: 0.9524\n",
      "Epoch 25/100\n",
      "2500/2500 [==============================] - 0s 119us/sample - loss: 0.1715 - accuracy: 0.9464 - val_loss: 0.1545 - val_accuracy: 0.9516\n",
      "Epoch 26/100\n",
      "2500/2500 [==============================] - 0s 135us/sample - loss: 0.1686 - accuracy: 0.9464 - val_loss: 0.1564 - val_accuracy: 0.9456\n",
      "Epoch 27/100\n",
      "2500/2500 [==============================] - 0s 124us/sample - loss: 0.1635 - accuracy: 0.9472 - val_loss: 0.1471 - val_accuracy: 0.9520\n",
      "Epoch 28/100\n",
      "2500/2500 [==============================] - 0s 118us/sample - loss: 0.1600 - accuracy: 0.9480 - val_loss: 0.1437 - val_accuracy: 0.9532\n",
      "Epoch 29/100\n",
      "2500/2500 [==============================] - 0s 134us/sample - loss: 0.1505 - accuracy: 0.9520 - val_loss: 0.1406 - val_accuracy: 0.9536\n",
      "Epoch 30/100\n",
      "2500/2500 [==============================] - 0s 135us/sample - loss: 0.1507 - accuracy: 0.9508 - val_loss: 0.1345 - val_accuracy: 0.9548\n",
      "Epoch 31/100\n",
      "2500/2500 [==============================] - 0s 124us/sample - loss: 0.1469 - accuracy: 0.9492 - val_loss: 0.1318 - val_accuracy: 0.9576\n",
      "Epoch 32/100\n",
      "2500/2500 [==============================] - 0s 136us/sample - loss: 0.1473 - accuracy: 0.9480 - val_loss: 0.1337 - val_accuracy: 0.9552\n",
      "Epoch 33/100\n",
      "2500/2500 [==============================] - 0s 130us/sample - loss: 0.1413 - accuracy: 0.9536 - val_loss: 0.1266 - val_accuracy: 0.9560\n",
      "Epoch 34/100\n",
      "2500/2500 [==============================] - 0s 128us/sample - loss: 0.1377 - accuracy: 0.9512 - val_loss: 0.1248 - val_accuracy: 0.9596\n",
      "Epoch 35/100\n",
      "2500/2500 [==============================] - 0s 129us/sample - loss: 0.1431 - accuracy: 0.9512 - val_loss: 0.1213 - val_accuracy: 0.9608\n",
      "Epoch 36/100\n",
      "2500/2500 [==============================] - 0s 128us/sample - loss: 0.1334 - accuracy: 0.9572 - val_loss: 0.1191 - val_accuracy: 0.9636\n",
      "Epoch 37/100\n",
      "2500/2500 [==============================] - 0s 115us/sample - loss: 0.1299 - accuracy: 0.9592 - val_loss: 0.1171 - val_accuracy: 0.9632\n",
      "Epoch 38/100\n",
      "2500/2500 [==============================] - 0s 124us/sample - loss: 0.1286 - accuracy: 0.9580 - val_loss: 0.1212 - val_accuracy: 0.9600\n",
      "Epoch 39/100\n",
      "2500/2500 [==============================] - 0s 127us/sample - loss: 0.1275 - accuracy: 0.9588 - val_loss: 0.1170 - val_accuracy: 0.9612\n",
      "Epoch 40/100\n",
      "2500/2500 [==============================] - 0s 124us/sample - loss: 0.1269 - accuracy: 0.9576 - val_loss: 0.1209 - val_accuracy: 0.9556\n",
      "Epoch 41/100\n",
      "2500/2500 [==============================] - 0s 120us/sample - loss: 0.1209 - accuracy: 0.9580 - val_loss: 0.1100 - val_accuracy: 0.9628\n",
      "Epoch 42/100\n",
      "2500/2500 [==============================] - 0s 115us/sample - loss: 0.1238 - accuracy: 0.9604 - val_loss: 0.1115 - val_accuracy: 0.9600\n",
      "Epoch 43/100\n",
      "2500/2500 [==============================] - 0s 104us/sample - loss: 0.1243 - accuracy: 0.9576 - val_loss: 0.1108 - val_accuracy: 0.9632\n",
      "Epoch 44/100\n",
      "2500/2500 [==============================] - 0s 105us/sample - loss: 0.1232 - accuracy: 0.9620 - val_loss: 0.1067 - val_accuracy: 0.9696\n",
      "Epoch 45/100\n",
      "2500/2500 [==============================] - 0s 103us/sample - loss: 0.1153 - accuracy: 0.9628 - val_loss: 0.1152 - val_accuracy: 0.9592\n",
      "Epoch 46/100\n",
      "2500/2500 [==============================] - 0s 102us/sample - loss: 0.1166 - accuracy: 0.9604 - val_loss: 0.1089 - val_accuracy: 0.9628\n",
      "Epoch 47/100\n",
      "2500/2500 [==============================] - 0s 102us/sample - loss: 0.1190 - accuracy: 0.9568 - val_loss: 0.1012 - val_accuracy: 0.9660\n",
      "Epoch 48/100\n",
      "2500/2500 [==============================] - 0s 103us/sample - loss: 0.1127 - accuracy: 0.9592 - val_loss: 0.1042 - val_accuracy: 0.9672\n",
      "Epoch 49/100\n",
      "2500/2500 [==============================] - 0s 102us/sample - loss: 0.1248 - accuracy: 0.9628 - val_loss: 0.1066 - val_accuracy: 0.9660\n",
      "Epoch 50/100\n",
      "2500/2500 [==============================] - 0s 103us/sample - loss: 0.1089 - accuracy: 0.9640 - val_loss: 0.1003 - val_accuracy: 0.9660\n",
      "Epoch 51/100\n",
      "2500/2500 [==============================] - 0s 101us/sample - loss: 0.1126 - accuracy: 0.9604 - val_loss: 0.1026 - val_accuracy: 0.9684\n",
      "Epoch 52/100\n",
      "2500/2500 [==============================] - 0s 103us/sample - loss: 0.1022 - accuracy: 0.9636 - val_loss: 0.1008 - val_accuracy: 0.9696\n",
      "Epoch 53/100\n",
      "2500/2500 [==============================] - 0s 103us/sample - loss: 0.1106 - accuracy: 0.9600 - val_loss: 0.0958 - val_accuracy: 0.9700\n",
      "Epoch 54/100\n",
      "2500/2500 [==============================] - 0s 101us/sample - loss: 0.1071 - accuracy: 0.9636 - val_loss: 0.0943 - val_accuracy: 0.9728\n",
      "Epoch 55/100\n"
     ]
    },
    {
     "name": "stdout",
     "output_type": "stream",
     "text": [
      "2500/2500 [==============================] - 0s 103us/sample - loss: 0.1012 - accuracy: 0.9684 - val_loss: 0.0939 - val_accuracy: 0.9712\n",
      "Epoch 56/100\n",
      "2500/2500 [==============================] - 0s 102us/sample - loss: 0.1021 - accuracy: 0.9660 - val_loss: 0.0962 - val_accuracy: 0.9684\n",
      "Epoch 57/100\n",
      "2500/2500 [==============================] - 0s 105us/sample - loss: 0.0978 - accuracy: 0.9668 - val_loss: 0.0886 - val_accuracy: 0.9752\n",
      "Epoch 58/100\n",
      "2500/2500 [==============================] - 0s 113us/sample - loss: 0.1017 - accuracy: 0.9616 - val_loss: 0.0904 - val_accuracy: 0.9728\n",
      "Epoch 59/100\n",
      "2500/2500 [==============================] - 0s 117us/sample - loss: 0.0960 - accuracy: 0.9680 - val_loss: 0.0888 - val_accuracy: 0.9768\n",
      "Epoch 60/100\n",
      "2500/2500 [==============================] - 0s 117us/sample - loss: 0.0952 - accuracy: 0.9680 - val_loss: 0.0892 - val_accuracy: 0.9712\n",
      "Epoch 61/100\n",
      "2500/2500 [==============================] - 0s 118us/sample - loss: 0.0926 - accuracy: 0.9676 - val_loss: 0.0867 - val_accuracy: 0.9788\n",
      "Epoch 62/100\n",
      "2500/2500 [==============================] - 0s 119us/sample - loss: 0.0954 - accuracy: 0.9648 - val_loss: 0.0896 - val_accuracy: 0.9692\n",
      "Epoch 63/100\n",
      "2500/2500 [==============================] - 0s 116us/sample - loss: 0.0871 - accuracy: 0.9708 - val_loss: 0.0847 - val_accuracy: 0.9736\n",
      "Epoch 64/100\n",
      "2500/2500 [==============================] - 0s 115us/sample - loss: 0.0933 - accuracy: 0.9688 - val_loss: 0.0854 - val_accuracy: 0.9756\n",
      "Epoch 65/100\n",
      "2500/2500 [==============================] - 0s 115us/sample - loss: 0.0885 - accuracy: 0.9704 - val_loss: 0.0832 - val_accuracy: 0.9752\n",
      "Epoch 66/100\n",
      "2500/2500 [==============================] - 0s 114us/sample - loss: 0.0873 - accuracy: 0.9716 - val_loss: 0.0905 - val_accuracy: 0.9664\n",
      "Epoch 67/100\n",
      "2500/2500 [==============================] - 0s 114us/sample - loss: 0.0874 - accuracy: 0.9700 - val_loss: 0.0843 - val_accuracy: 0.9732\n",
      "Epoch 68/100\n",
      "2500/2500 [==============================] - 0s 116us/sample - loss: 0.0866 - accuracy: 0.9716 - val_loss: 0.0845 - val_accuracy: 0.9716\n",
      "Epoch 69/100\n",
      "2500/2500 [==============================] - 0s 113us/sample - loss: 0.0882 - accuracy: 0.9672 - val_loss: 0.0828 - val_accuracy: 0.9768\n",
      "Epoch 70/100\n",
      "2500/2500 [==============================] - 0s 111us/sample - loss: 0.0850 - accuracy: 0.9752 - val_loss: 0.0766 - val_accuracy: 0.9788\n",
      "Epoch 71/100\n",
      "2500/2500 [==============================] - 0s 116us/sample - loss: 0.0799 - accuracy: 0.9764 - val_loss: 0.0832 - val_accuracy: 0.9728\n",
      "Epoch 72/100\n",
      "2500/2500 [==============================] - 0s 112us/sample - loss: 0.0929 - accuracy: 0.9732 - val_loss: 0.0825 - val_accuracy: 0.9768\n",
      "Epoch 73/100\n",
      "2500/2500 [==============================] - 0s 115us/sample - loss: 0.0776 - accuracy: 0.9772 - val_loss: 0.0759 - val_accuracy: 0.9784\n",
      "Epoch 74/100\n",
      "2500/2500 [==============================] - 0s 131us/sample - loss: 0.0826 - accuracy: 0.9760 - val_loss: 0.0747 - val_accuracy: 0.9824\n",
      "Epoch 75/100\n",
      "2500/2500 [==============================] - 0s 122us/sample - loss: 0.0805 - accuracy: 0.9764 - val_loss: 0.0737 - val_accuracy: 0.9780\n",
      "Epoch 76/100\n",
      "2500/2500 [==============================] - 0s 116us/sample - loss: 0.0775 - accuracy: 0.9792 - val_loss: 0.0775 - val_accuracy: 0.9768\n",
      "Epoch 77/100\n",
      "2500/2500 [==============================] - 0s 116us/sample - loss: 0.0782 - accuracy: 0.9740 - val_loss: 0.0738 - val_accuracy: 0.9780\n",
      "Epoch 78/100\n",
      "2500/2500 [==============================] - 0s 116us/sample - loss: 0.0752 - accuracy: 0.9796 - val_loss: 0.0729 - val_accuracy: 0.9816\n",
      "Epoch 79/100\n",
      "2500/2500 [==============================] - 0s 127us/sample - loss: 0.0771 - accuracy: 0.9780 - val_loss: 0.0740 - val_accuracy: 0.9760\n",
      "Epoch 80/100\n",
      "2500/2500 [==============================] - 0s 126us/sample - loss: 0.0765 - accuracy: 0.9748 - val_loss: 0.0699 - val_accuracy: 0.9816\n",
      "Epoch 81/100\n",
      "2500/2500 [==============================] - 0s 128us/sample - loss: 0.0734 - accuracy: 0.9776 - val_loss: 0.0704 - val_accuracy: 0.9808\n",
      "Epoch 82/100\n",
      "2500/2500 [==============================] - 0s 129us/sample - loss: 0.0699 - accuracy: 0.9788 - val_loss: 0.0739 - val_accuracy: 0.9808\n",
      "Epoch 83/100\n",
      "2500/2500 [==============================] - 0s 136us/sample - loss: 0.0748 - accuracy: 0.9776 - val_loss: 0.0671 - val_accuracy: 0.9840\n",
      "Epoch 84/100\n",
      "2500/2500 [==============================] - 0s 136us/sample - loss: 0.0679 - accuracy: 0.9812 - val_loss: 0.0737 - val_accuracy: 0.9796\n",
      "Epoch 85/100\n",
      "2500/2500 [==============================] - 0s 124us/sample - loss: 0.0738 - accuracy: 0.9752 - val_loss: 0.0750 - val_accuracy: 0.9820\n",
      "Epoch 86/100\n",
      "2500/2500 [==============================] - 0s 126us/sample - loss: 0.0777 - accuracy: 0.9732 - val_loss: 0.0688 - val_accuracy: 0.9824\n",
      "Epoch 87/100\n",
      "2500/2500 [==============================] - 0s 118us/sample - loss: 0.0705 - accuracy: 0.9812 - val_loss: 0.0697 - val_accuracy: 0.9788\n",
      "Epoch 88/100\n",
      "2500/2500 [==============================] - 0s 116us/sample - loss: 0.0693 - accuracy: 0.9792 - val_loss: 0.0670 - val_accuracy: 0.9776\n",
      "Epoch 89/100\n",
      "2500/2500 [==============================] - 0s 114us/sample - loss: 0.0657 - accuracy: 0.9832 - val_loss: 0.0734 - val_accuracy: 0.9816\n",
      "Epoch 90/100\n",
      "2500/2500 [==============================] - 0s 118us/sample - loss: 0.0720 - accuracy: 0.9768 - val_loss: 0.0666 - val_accuracy: 0.9788\n",
      "Epoch 91/100\n",
      "2500/2500 [==============================] - 0s 129us/sample - loss: 0.0674 - accuracy: 0.9744 - val_loss: 0.0710 - val_accuracy: 0.9764\n",
      "Epoch 92/100\n",
      "2500/2500 [==============================] - 0s 131us/sample - loss: 0.0714 - accuracy: 0.9772 - val_loss: 0.0645 - val_accuracy: 0.9816\n",
      "Epoch 93/100\n",
      "2500/2500 [==============================] - 0s 127us/sample - loss: 0.0596 - accuracy: 0.9820 - val_loss: 0.0675 - val_accuracy: 0.9832\n",
      "Epoch 94/100\n",
      "2500/2500 [==============================] - 0s 131us/sample - loss: 0.0636 - accuracy: 0.9804 - val_loss: 0.0638 - val_accuracy: 0.9864\n",
      "Epoch 95/100\n",
      "2500/2500 [==============================] - 0s 138us/sample - loss: 0.0676 - accuracy: 0.9788 - val_loss: 0.0742 - val_accuracy: 0.9776\n",
      "Epoch 96/100\n",
      "2500/2500 [==============================] - 0s 133us/sample - loss: 0.0584 - accuracy: 0.9824 - val_loss: 0.0713 - val_accuracy: 0.9756\n",
      "Epoch 97/100\n",
      "2500/2500 [==============================] - 0s 132us/sample - loss: 0.0677 - accuracy: 0.9800 - val_loss: 0.0673 - val_accuracy: 0.9764\n",
      "Epoch 98/100\n",
      "2500/2500 [==============================] - 0s 128us/sample - loss: 0.0609 - accuracy: 0.9812 - val_loss: 0.0640 - val_accuracy: 0.9856\n",
      "Epoch 99/100\n",
      "2500/2500 [==============================] - 0s 137us/sample - loss: 0.0563 - accuracy: 0.9824 - val_loss: 0.0609 - val_accuracy: 0.9868\n",
      "Epoch 100/100\n",
      "2500/2500 [==============================] - 0s 138us/sample - loss: 0.0553 - accuracy: 0.9840 - val_loss: 0.0643 - val_accuracy: 0.9812\n"
     ]
    }
   ],
   "source": [
    "inputs = np.expand_dims(X, -1)\n",
    "\n",
    "# make RNN\n",
    "_input = Input(shape=(T, D))\n",
    "x = SimpleRNN(5)(_input)\n",
    "x = Dense(1, activation=\"sigmoid\")(x)\n",
    "\n",
    "model = Model(_input, x)\n",
    "# compile\n",
    "model.compile(\n",
    "    loss=\"binary_crossentropy\",\n",
    "    optimizer=Adam(lr=0.01),\n",
    "    metrics=[\"accuracy\"]\n",
    ")\n",
    "\n",
    "# train\n",
    "r = model.fit(\n",
    "    inputs, Y,\n",
    "    epochs=100,\n",
    "    validation_split=0.5\n",
    ")"
   ]
  },
  {
   "cell_type": "code",
   "execution_count": 25,
   "metadata": {
    "ExecuteTime": {
     "end_time": "2020-03-20T12:53:40.490143Z",
     "start_time": "2020-03-20T12:53:40.327983Z"
    },
    "hidden": true
   },
   "outputs": [
    {
     "data": {
      "image/png": "[encoded data removed]",
      "text/plain": [
       "<Figure size 432x288 with 1 Axes>"
      ]
     },
     "metadata": {
      "needs_background": "light"
     },
     "output_type": "display_data"
    }
   ],
   "source": [
    "# plot loss per iteration\n",
    "plt.plot(r.history[\"loss\"], label=\"loss\")\n",
    "plt.plot(r.history[\"val_loss\"], label=\"val_loss\")\n",
    "plt.legend();"
   ]
  },
  {
   "cell_type": "code",
   "execution_count": 26,
   "metadata": {
    "ExecuteTime": {
     "end_time": "2020-03-20T12:53:48.322670Z",
     "start_time": "2020-03-20T12:53:48.176769Z"
    },
    "hidden": true
   },
   "outputs": [
    {
     "data": {
      "image/png": "[encoded data removed]",
      "text/plain": [
       "<Figure size 432x288 with 1 Axes>"
      ]
     },
     "metadata": {
      "needs_background": "light"
     },
     "output_type": "display_data"
    }
   ],
   "source": [
    "# plot loss per iteration\n",
    "plt.plot(r.history[\"accuracy\"], label=\"accuracy\")\n",
    "plt.plot(r.history[\"val_accuracy\"], label=\"val_accuracy\")\n",
    "plt.legend();"
   ]
  },
  {
   "cell_type": "markdown",
   "metadata": {},
   "source": [
    "## LONG DISTANCE MODE"
   ]
  },
  {
   "cell_type": "code",
   "execution_count": 27,
   "metadata": {
    "ExecuteTime": {
     "end_time": "2020-03-20T12:55:24.636821Z",
     "start_time": "2020-03-20T12:55:24.602504Z"
    }
   },
   "outputs": [],
   "source": [
    "# Start with a small T and increase it later\n",
    "T = 10\n",
    "D = 1\n",
    "X = []\n",
    "Y = []\n",
    "\n",
    "def get_label(x, i1, i2, i3):\n",
    "    if x[i1] < 0 and x[i2] < 0 and x[i3] < 0:\n",
    "        return 1\n",
    "    if x[i1] < 0 and x[i2] > 0 and x[i3] > 0:\n",
    "        return 1\n",
    "    if x[i1] > 0 and x[i2] < 0 and x[i3] > 0:\n",
    "        return 1\n",
    "    if x[i1] < 0 and x[i2] > 0 and x[i3] < 0:\n",
    "        return 1\n",
    "    return 0\n",
    "\n",
    "for t in range(5000):\n",
    "    x = np.random.randn(T)\n",
    "    X.append(x)\n",
    "    # short distance\n",
    "    #y = get_label(x, -1, -2, -3)\n",
    "    # long distance\n",
    "    y = get_label(x, 0, 1, 2)\n",
    "    Y.append(y)\n",
    "    \n",
    "X = np.array(X)\n",
    "Y = np.array(Y)\n",
    "N = len(X)"
   ]
  },
  {
   "cell_type": "markdown",
   "metadata": {
    "heading_collapsed": true
   },
   "source": [
    "### Simple RNN"
   ]
  },
  {
   "cell_type": "code",
   "execution_count": 28,
   "metadata": {
    "ExecuteTime": {
     "end_time": "2020-03-20T12:55:54.801658Z",
     "start_time": "2020-03-20T12:55:26.081051Z"
    },
    "collapsed": true,
    "hidden": true
   },
   "outputs": [
    {
     "name": "stdout",
     "output_type": "stream",
     "text": [
      "Train on 2500 samples, validate on 2500 samples\n",
      "Epoch 1/100\n",
      "2500/2500 [==============================] - 1s 417us/sample - loss: 0.7040 - accuracy: 0.4916 - val_loss: 0.6933 - val_accuracy: 0.5184\n",
      "Epoch 2/100\n",
      "2500/2500 [==============================] - 0s 114us/sample - loss: 0.6773 - accuracy: 0.5592 - val_loss: 0.6354 - val_accuracy: 0.6584\n",
      "Epoch 3/100\n",
      "2500/2500 [==============================] - 0s 126us/sample - loss: 0.5964 - accuracy: 0.7008 - val_loss: 0.6176 - val_accuracy: 0.6484\n",
      "Epoch 4/100\n",
      "2500/2500 [==============================] - 0s 123us/sample - loss: 0.5929 - accuracy: 0.7088 - val_loss: 0.5639 - val_accuracy: 0.7260\n",
      "Epoch 5/100\n",
      "2500/2500 [==============================] - 0s 114us/sample - loss: 0.5500 - accuracy: 0.7396 - val_loss: 0.5508 - val_accuracy: 0.7296\n",
      "Epoch 6/100\n",
      "2500/2500 [==============================] - 0s 115us/sample - loss: 0.5257 - accuracy: 0.7516 - val_loss: 0.6061 - val_accuracy: 0.6792\n",
      "Epoch 7/100\n",
      "2500/2500 [==============================] - 0s 128us/sample - loss: 0.5126 - accuracy: 0.7500 - val_loss: 0.4989 - val_accuracy: 0.7440\n",
      "Epoch 8/100\n",
      "2500/2500 [==============================] - 0s 131us/sample - loss: 0.4894 - accuracy: 0.7604 - val_loss: 0.4644 - val_accuracy: 0.7688\n",
      "Epoch 9/100\n",
      "2500/2500 [==============================] - 0s 129us/sample - loss: 0.4410 - accuracy: 0.7864 - val_loss: 0.4613 - val_accuracy: 0.7760\n",
      "Epoch 10/100\n",
      "2500/2500 [==============================] - 0s 131us/sample - loss: 0.4336 - accuracy: 0.7820 - val_loss: 0.4474 - val_accuracy: 0.7704\n",
      "Epoch 11/100\n",
      "2500/2500 [==============================] - 0s 122us/sample - loss: 0.4047 - accuracy: 0.7900 - val_loss: 0.3864 - val_accuracy: 0.8044\n",
      "Epoch 12/100\n",
      "2500/2500 [==============================] - 0s 126us/sample - loss: 0.4061 - accuracy: 0.7916 - val_loss: 0.4058 - val_accuracy: 0.8052\n",
      "Epoch 13/100\n",
      "2500/2500 [==============================] - 0s 116us/sample - loss: 0.3812 - accuracy: 0.8136 - val_loss: 0.4061 - val_accuracy: 0.8132\n",
      "Epoch 14/100\n",
      "2500/2500 [==============================] - 0s 113us/sample - loss: 0.3922 - accuracy: 0.7988 - val_loss: 0.3917 - val_accuracy: 0.7800\n",
      "Epoch 15/100\n",
      "2500/2500 [==============================] - 0s 115us/sample - loss: 0.4247 - accuracy: 0.7800 - val_loss: 0.4246 - val_accuracy: 0.7992\n",
      "Epoch 16/100\n",
      "2500/2500 [==============================] - 0s 116us/sample - loss: 0.3620 - accuracy: 0.8220 - val_loss: 0.3658 - val_accuracy: 0.8204\n",
      "Epoch 17/100\n",
      "2500/2500 [==============================] - 0s 119us/sample - loss: 0.4228 - accuracy: 0.8016 - val_loss: 0.4439 - val_accuracy: 0.7856\n",
      "Epoch 18/100\n",
      "2500/2500 [==============================] - 0s 115us/sample - loss: 0.3985 - accuracy: 0.8028 - val_loss: 0.4086 - val_accuracy: 0.8096\n",
      "Epoch 19/100\n",
      "2500/2500 [==============================] - 0s 118us/sample - loss: 0.3884 - accuracy: 0.8276 - val_loss: 0.3863 - val_accuracy: 0.8276\n",
      "Epoch 20/100\n",
      "2500/2500 [==============================] - 0s 131us/sample - loss: 0.3692 - accuracy: 0.8212 - val_loss: 0.3668 - val_accuracy: 0.8096\n",
      "Epoch 21/100\n",
      "2500/2500 [==============================] - 0s 124us/sample - loss: 0.3380 - accuracy: 0.8372 - val_loss: 0.3604 - val_accuracy: 0.8184\n",
      "Epoch 22/100\n",
      "2500/2500 [==============================] - 0s 121us/sample - loss: 0.3608 - accuracy: 0.8148 - val_loss: 0.3577 - val_accuracy: 0.7976\n",
      "Epoch 23/100\n",
      "2500/2500 [==============================] - 0s 121us/sample - loss: 0.3558 - accuracy: 0.8064 - val_loss: 0.3558 - val_accuracy: 0.8088\n",
      "Epoch 24/100\n",
      "2500/2500 [==============================] - 0s 134us/sample - loss: 0.3913 - accuracy: 0.8044 - val_loss: 0.4641 - val_accuracy: 0.7760\n",
      "Epoch 25/100\n",
      "2500/2500 [==============================] - 0s 128us/sample - loss: 0.3894 - accuracy: 0.8176 - val_loss: 0.4211 - val_accuracy: 0.7984\n",
      "Epoch 26/100\n",
      "2500/2500 [==============================] - 0s 119us/sample - loss: 0.3607 - accuracy: 0.8144 - val_loss: 0.3246 - val_accuracy: 0.8228\n",
      "Epoch 27/100\n",
      "2500/2500 [==============================] - 0s 128us/sample - loss: 0.3229 - accuracy: 0.8368 - val_loss: 0.3781 - val_accuracy: 0.8040\n",
      "Epoch 28/100\n",
      "2500/2500 [==============================] - 0s 115us/sample - loss: 0.3444 - accuracy: 0.8224 - val_loss: 0.3152 - val_accuracy: 0.8332\n",
      "Epoch 29/100\n",
      "2500/2500 [==============================] - 0s 117us/sample - loss: 0.3176 - accuracy: 0.8444 - val_loss: 0.4028 - val_accuracy: 0.8180\n",
      "Epoch 30/100\n",
      "2500/2500 [==============================] - 0s 115us/sample - loss: 0.3610 - accuracy: 0.8456 - val_loss: 0.3625 - val_accuracy: 0.8348\n",
      "Epoch 31/100\n",
      "2500/2500 [==============================] - 0s 117us/sample - loss: 0.3509 - accuracy: 0.8236 - val_loss: 0.3345 - val_accuracy: 0.8304\n",
      "Epoch 32/100\n",
      "2500/2500 [==============================] - 0s 116us/sample - loss: 0.3086 - accuracy: 0.8492 - val_loss: 0.3068 - val_accuracy: 0.8728\n",
      "Epoch 33/100\n",
      "2500/2500 [==============================] - 0s 116us/sample - loss: 0.3280 - accuracy: 0.8680 - val_loss: 0.3630 - val_accuracy: 0.8500\n",
      "Epoch 34/100\n",
      "2500/2500 [==============================] - 0s 116us/sample - loss: 0.3574 - accuracy: 0.8432 - val_loss: 0.3895 - val_accuracy: 0.8032\n",
      "Epoch 35/100\n",
      "2500/2500 [==============================] - 0s 119us/sample - loss: 0.5332 - accuracy: 0.7256 - val_loss: 0.5265 - val_accuracy: 0.7180\n",
      "Epoch 36/100\n",
      "2500/2500 [==============================] - 0s 117us/sample - loss: 0.4683 - accuracy: 0.7492 - val_loss: 0.4154 - val_accuracy: 0.7760\n",
      "Epoch 37/100\n",
      "2500/2500 [==============================] - 0s 108us/sample - loss: 0.3973 - accuracy: 0.7936 - val_loss: 0.3800 - val_accuracy: 0.7956\n",
      "Epoch 38/100\n",
      "2500/2500 [==============================] - 0s 109us/sample - loss: 0.3672 - accuracy: 0.8100 - val_loss: 0.3613 - val_accuracy: 0.7980\n",
      "Epoch 39/100\n",
      "2500/2500 [==============================] - 0s 110us/sample - loss: 0.3636 - accuracy: 0.8128 - val_loss: 0.3467 - val_accuracy: 0.8180\n",
      "Epoch 40/100\n",
      "2500/2500 [==============================] - 0s 110us/sample - loss: 0.3946 - accuracy: 0.8252 - val_loss: 0.3625 - val_accuracy: 0.8428\n",
      "Epoch 41/100\n",
      "2500/2500 [==============================] - 0s 113us/sample - loss: 0.3181 - accuracy: 0.8612 - val_loss: 0.3115 - val_accuracy: 0.8660\n",
      "Epoch 42/100\n",
      "2500/2500 [==============================] - 0s 103us/sample - loss: 0.3080 - accuracy: 0.8628 - val_loss: 0.3155 - val_accuracy: 0.8464\n",
      "Epoch 43/100\n",
      "2500/2500 [==============================] - 0s 103us/sample - loss: 0.2948 - accuracy: 0.8576 - val_loss: 0.3542 - val_accuracy: 0.8252\n",
      "Epoch 44/100\n",
      "2500/2500 [==============================] - 0s 115us/sample - loss: 0.3085 - accuracy: 0.8524 - val_loss: 0.3268 - val_accuracy: 0.8612\n",
      "Epoch 45/100\n",
      "2500/2500 [==============================] - 0s 113us/sample - loss: 0.2974 - accuracy: 0.8676 - val_loss: 0.3136 - val_accuracy: 0.8496\n",
      "Epoch 46/100\n",
      "2500/2500 [==============================] - 0s 116us/sample - loss: 0.2959 - accuracy: 0.8508 - val_loss: 0.3132 - val_accuracy: 0.8316\n",
      "Epoch 47/100\n",
      "2500/2500 [==============================] - 0s 114us/sample - loss: 0.2933 - accuracy: 0.8496 - val_loss: 0.2956 - val_accuracy: 0.8720\n",
      "Epoch 48/100\n",
      "2500/2500 [==============================] - 0s 99us/sample - loss: 0.3290 - accuracy: 0.8644 - val_loss: 0.3517 - val_accuracy: 0.8564\n",
      "Epoch 49/100\n",
      "2500/2500 [==============================] - 0s 103us/sample - loss: 0.2902 - accuracy: 0.8740 - val_loss: 0.3151 - val_accuracy: 0.8744\n",
      "Epoch 50/100\n",
      "2500/2500 [==============================] - 0s 101us/sample - loss: 0.3113 - accuracy: 0.8660 - val_loss: 0.3400 - val_accuracy: 0.8396\n",
      "Epoch 51/100\n",
      "2500/2500 [==============================] - 0s 101us/sample - loss: 0.3098 - accuracy: 0.8480 - val_loss: 0.3149 - val_accuracy: 0.8492\n",
      "Epoch 52/100\n",
      "2500/2500 [==============================] - 0s 101us/sample - loss: 0.2898 - accuracy: 0.8716 - val_loss: 0.3438 - val_accuracy: 0.8256\n",
      "Epoch 53/100\n",
      "2500/2500 [==============================] - 0s 104us/sample - loss: 0.2924 - accuracy: 0.8576 - val_loss: 0.5144 - val_accuracy: 0.7308\n",
      "Epoch 54/100\n",
      "2500/2500 [==============================] - 0s 103us/sample - loss: 0.3354 - accuracy: 0.8212 - val_loss: 0.3259 - val_accuracy: 0.8176\n",
      "Epoch 55/100\n"
     ]
    },
    {
     "name": "stdout",
     "output_type": "stream",
     "text": [
      "2500/2500 [==============================] - 0s 108us/sample - loss: 0.3474 - accuracy: 0.8196 - val_loss: 0.3433 - val_accuracy: 0.8084\n",
      "Epoch 56/100\n",
      "2500/2500 [==============================] - 0s 101us/sample - loss: 0.3045 - accuracy: 0.8436 - val_loss: 0.2860 - val_accuracy: 0.8516\n",
      "Epoch 57/100\n",
      "2500/2500 [==============================] - 0s 102us/sample - loss: 0.3605 - accuracy: 0.8448 - val_loss: 0.3875 - val_accuracy: 0.8256\n",
      "Epoch 58/100\n",
      "2500/2500 [==============================] - 0s 103us/sample - loss: 0.4007 - accuracy: 0.8216 - val_loss: 0.3893 - val_accuracy: 0.8436\n",
      "Epoch 59/100\n",
      "2500/2500 [==============================] - 0s 104us/sample - loss: 0.3517 - accuracy: 0.8576 - val_loss: 0.3538 - val_accuracy: 0.8468\n",
      "Epoch 60/100\n",
      "2500/2500 [==============================] - 0s 102us/sample - loss: 0.3325 - accuracy: 0.8532 - val_loss: 0.3611 - val_accuracy: 0.8324\n",
      "Epoch 61/100\n",
      "2500/2500 [==============================] - 0s 101us/sample - loss: 0.3016 - accuracy: 0.8600 - val_loss: 0.2880 - val_accuracy: 0.8644\n",
      "Epoch 62/100\n",
      "2500/2500 [==============================] - 0s 102us/sample - loss: 0.2850 - accuracy: 0.8656 - val_loss: 0.2863 - val_accuracy: 0.8620\n",
      "Epoch 63/100\n",
      "2500/2500 [==============================] - 0s 102us/sample - loss: 0.3425 - accuracy: 0.8272 - val_loss: 0.4026 - val_accuracy: 0.7688\n",
      "Epoch 64/100\n",
      "2500/2500 [==============================] - 0s 104us/sample - loss: 0.3806 - accuracy: 0.8008 - val_loss: 0.3665 - val_accuracy: 0.8012\n",
      "Epoch 65/100\n",
      "2500/2500 [==============================] - 0s 103us/sample - loss: 0.3280 - accuracy: 0.8380 - val_loss: 0.3502 - val_accuracy: 0.8060\n",
      "Epoch 66/100\n",
      "2500/2500 [==============================] - 0s 104us/sample - loss: 0.3665 - accuracy: 0.7884 - val_loss: 0.3635 - val_accuracy: 0.8212\n",
      "Epoch 67/100\n",
      "2500/2500 [==============================] - 0s 107us/sample - loss: 0.4167 - accuracy: 0.8236 - val_loss: 0.3318 - val_accuracy: 0.8692\n",
      "Epoch 68/100\n",
      "2500/2500 [==============================] - 0s 101us/sample - loss: 0.3236 - accuracy: 0.8596 - val_loss: 0.3802 - val_accuracy: 0.8472\n",
      "Epoch 69/100\n",
      "2500/2500 [==============================] - 0s 102us/sample - loss: 0.3961 - accuracy: 0.8168 - val_loss: 0.3665 - val_accuracy: 0.8164\n",
      "Epoch 70/100\n",
      "2500/2500 [==============================] - 0s 101us/sample - loss: 0.3659 - accuracy: 0.8276 - val_loss: 0.3951 - val_accuracy: 0.8112\n",
      "Epoch 71/100\n",
      "2500/2500 [==============================] - 0s 103us/sample - loss: 0.3339 - accuracy: 0.8480 - val_loss: 0.4508 - val_accuracy: 0.7640\n",
      "Epoch 72/100\n",
      "2500/2500 [==============================] - 0s 102us/sample - loss: 0.3486 - accuracy: 0.8416 - val_loss: 0.3425 - val_accuracy: 0.8544\n",
      "Epoch 73/100\n",
      "2500/2500 [==============================] - 0s 103us/sample - loss: 0.3137 - accuracy: 0.8784 - val_loss: 0.3324 - val_accuracy: 0.8716\n",
      "Epoch 74/100\n",
      "2500/2500 [==============================] - 0s 102us/sample - loss: 0.3142 - accuracy: 0.8696 - val_loss: 0.3083 - val_accuracy: 0.8656\n",
      "Epoch 75/100\n",
      "2500/2500 [==============================] - 0s 102us/sample - loss: 0.3255 - accuracy: 0.8372 - val_loss: 0.3552 - val_accuracy: 0.8152\n",
      "Epoch 76/100\n",
      "2500/2500 [==============================] - 0s 107us/sample - loss: 0.3073 - accuracy: 0.8424 - val_loss: 0.2974 - val_accuracy: 0.8780\n",
      "Epoch 77/100\n",
      "2500/2500 [==============================] - 0s 103us/sample - loss: 0.2982 - accuracy: 0.8724 - val_loss: 0.3644 - val_accuracy: 0.8388\n",
      "Epoch 78/100\n",
      "2500/2500 [==============================] - 0s 102us/sample - loss: 0.3835 - accuracy: 0.8256 - val_loss: 0.4450 - val_accuracy: 0.7940\n",
      "Epoch 79/100\n",
      "2500/2500 [==============================] - 0s 104us/sample - loss: 0.3583 - accuracy: 0.8456 - val_loss: 0.3844 - val_accuracy: 0.8236\n",
      "Epoch 80/100\n",
      "2500/2500 [==============================] - 0s 105us/sample - loss: 0.4023 - accuracy: 0.8164 - val_loss: 0.4547 - val_accuracy: 0.7612\n",
      "Epoch 81/100\n",
      "2500/2500 [==============================] - 0s 103us/sample - loss: 0.4214 - accuracy: 0.7968 - val_loss: 0.4199 - val_accuracy: 0.8220\n",
      "Epoch 82/100\n",
      "2500/2500 [==============================] - 0s 109us/sample - loss: 0.4467 - accuracy: 0.7828 - val_loss: 0.4365 - val_accuracy: 0.7900\n",
      "Epoch 83/100\n",
      "2500/2500 [==============================] - 0s 108us/sample - loss: 0.3958 - accuracy: 0.8116 - val_loss: 0.3776 - val_accuracy: 0.8168\n",
      "Epoch 84/100\n",
      "2500/2500 [==============================] - 0s 107us/sample - loss: 0.3862 - accuracy: 0.8264 - val_loss: 0.8630 - val_accuracy: 0.6324\n",
      "Epoch 85/100\n",
      "2500/2500 [==============================] - 0s 108us/sample - loss: 0.6293 - accuracy: 0.6964 - val_loss: 0.5713 - val_accuracy: 0.7396\n",
      "Epoch 86/100\n",
      "2500/2500 [==============================] - 0s 110us/sample - loss: 0.5721 - accuracy: 0.7480 - val_loss: 0.5693 - val_accuracy: 0.7424\n",
      "Epoch 87/100\n",
      "2500/2500 [==============================] - 0s 109us/sample - loss: 0.5805 - accuracy: 0.7308 - val_loss: 0.5874 - val_accuracy: 0.7140\n",
      "Epoch 88/100\n",
      "2500/2500 [==============================] - 0s 114us/sample - loss: 0.5925 - accuracy: 0.7184 - val_loss: 0.5860 - val_accuracy: 0.7320\n",
      "Epoch 89/100\n",
      "2500/2500 [==============================] - 0s 113us/sample - loss: 0.5943 - accuracy: 0.7132 - val_loss: 0.5780 - val_accuracy: 0.7348\n",
      "Epoch 90/100\n",
      "2500/2500 [==============================] - 0s 111us/sample - loss: 0.5987 - accuracy: 0.7140 - val_loss: 0.5732 - val_accuracy: 0.7296\n",
      "Epoch 91/100\n",
      "2500/2500 [==============================] - 0s 115us/sample - loss: 0.5682 - accuracy: 0.7364 - val_loss: 0.5516 - val_accuracy: 0.7568\n",
      "Epoch 92/100\n",
      "2500/2500 [==============================] - 0s 112us/sample - loss: 0.5578 - accuracy: 0.7488 - val_loss: 0.5484 - val_accuracy: 0.7640\n",
      "Epoch 93/100\n",
      "2500/2500 [==============================] - 0s 113us/sample - loss: 0.5585 - accuracy: 0.7620 - val_loss: 0.5482 - val_accuracy: 0.7600\n",
      "Epoch 94/100\n",
      "2500/2500 [==============================] - 0s 110us/sample - loss: 0.5508 - accuracy: 0.7632 - val_loss: 0.5335 - val_accuracy: 0.7740\n",
      "Epoch 95/100\n",
      "2500/2500 [==============================] - 0s 103us/sample - loss: 0.5426 - accuracy: 0.7692 - val_loss: 0.5268 - val_accuracy: 0.7780\n",
      "Epoch 96/100\n",
      "2500/2500 [==============================] - 0s 108us/sample - loss: 0.5470 - accuracy: 0.7676 - val_loss: 0.5381 - val_accuracy: 0.7628\n",
      "Epoch 97/100\n",
      "2500/2500 [==============================] - 0s 103us/sample - loss: 0.5438 - accuracy: 0.7640 - val_loss: 0.5417 - val_accuracy: 0.7636\n",
      "Epoch 98/100\n",
      "2500/2500 [==============================] - 0s 104us/sample - loss: 0.5392 - accuracy: 0.7672 - val_loss: 0.5337 - val_accuracy: 0.7664\n",
      "Epoch 99/100\n",
      "2500/2500 [==============================] - 0s 104us/sample - loss: 0.5376 - accuracy: 0.7704 - val_loss: 0.5324 - val_accuracy: 0.7684\n",
      "Epoch 100/100\n",
      "2500/2500 [==============================] - 0s 103us/sample - loss: 0.5492 - accuracy: 0.7632 - val_loss: 0.5253 - val_accuracy: 0.7744\n"
     ]
    }
   ],
   "source": [
    "inputs = np.expand_dims(X, -1)\n",
    "\n",
    "# make RNN\n",
    "_input = Input(shape=(T, D))\n",
    "x = SimpleRNN(5)(_input)\n",
    "x = Dense(1, activation=\"sigmoid\")(x)\n",
    "\n",
    "model = Model(_input, x)\n",
    "# compile\n",
    "model.compile(\n",
    "    loss=\"binary_crossentropy\",\n",
    "    optimizer=Adam(lr=0.01),\n",
    "    metrics=[\"accuracy\"]\n",
    ")\n",
    "\n",
    "# train\n",
    "r = model.fit(\n",
    "    inputs, Y,\n",
    "    epochs=100,\n",
    "    validation_split=0.5\n",
    ")"
   ]
  },
  {
   "cell_type": "code",
   "execution_count": 29,
   "metadata": {
    "ExecuteTime": {
     "end_time": "2020-03-20T12:56:42.522470Z",
     "start_time": "2020-03-20T12:56:42.371988Z"
    },
    "hidden": true
   },
   "outputs": [
    {
     "data": {
      "image/png": "[encoded data removed]",
      "text/plain": [
       "<Figure size 432x288 with 1 Axes>"
      ]
     },
     "metadata": {
      "needs_background": "light"
     },
     "output_type": "display_data"
    }
   ],
   "source": [
    "# plot loss per iteration\n",
    "plt.plot(r.history[\"loss\"], label=\"loss\")\n",
    "plt.plot(r.history[\"val_loss\"], label=\"val_loss\")\n",
    "plt.legend();"
   ]
  },
  {
   "cell_type": "code",
   "execution_count": 30,
   "metadata": {
    "ExecuteTime": {
     "end_time": "2020-03-20T12:56:44.679550Z",
     "start_time": "2020-03-20T12:56:44.523411Z"
    },
    "hidden": true
   },
   "outputs": [
    {
     "data": {
      "image/png": "[encoded data removed]",
      "text/plain": [
       "<Figure size 432x288 with 1 Axes>"
      ]
     },
     "metadata": {
      "needs_background": "light"
     },
     "output_type": "display_data"
    }
   ],
   "source": [
    "# plot loss per iteration\n",
    "plt.plot(r.history[\"accuracy\"], label=\"accuracy\")\n",
    "plt.plot(r.history[\"val_accuracy\"], label=\"val_accuracy\")\n",
    "plt.legend();"
   ]
  },
  {
   "cell_type": "code",
   "execution_count": null,
   "metadata": {
    "hidden": true
   },
   "outputs": [],
   "source": []
  },
  {
   "cell_type": "markdown",
   "metadata": {},
   "source": [
    "### LSTM "
   ]
  },
  {
   "cell_type": "code",
   "execution_count": 31,
   "metadata": {
    "ExecuteTime": {
     "end_time": "2020-03-20T12:58:54.353986Z",
     "start_time": "2020-03-20T12:58:08.836407Z"
    },
    "collapsed": true
   },
   "outputs": [
    {
     "name": "stdout",
     "output_type": "stream",
     "text": [
      "Train on 2500 samples, validate on 2500 samples\n",
      "Epoch 1/100\n",
      "2500/2500 [==============================] - 2s 771us/sample - loss: 0.6889 - accuracy: 0.5396 - val_loss: 0.6753 - val_accuracy: 0.5708\n",
      "Epoch 2/100\n",
      "2500/2500 [==============================] - 0s 163us/sample - loss: 0.6700 - accuracy: 0.5920 - val_loss: 0.6602 - val_accuracy: 0.6240\n",
      "Epoch 3/100\n",
      "2500/2500 [==============================] - 0s 164us/sample - loss: 0.6406 - accuracy: 0.6412 - val_loss: 0.6166 - val_accuracy: 0.6780\n",
      "Epoch 4/100\n",
      "2500/2500 [==============================] - 0s 166us/sample - loss: 0.6321 - accuracy: 0.6596 - val_loss: 0.6152 - val_accuracy: 0.6644\n",
      "Epoch 5/100\n",
      "2500/2500 [==============================] - 0s 170us/sample - loss: 0.6079 - accuracy: 0.6788 - val_loss: 0.5908 - val_accuracy: 0.7112\n",
      "Epoch 6/100\n",
      "2500/2500 [==============================] - 0s 175us/sample - loss: 0.5579 - accuracy: 0.7436 - val_loss: 0.5374 - val_accuracy: 0.7580\n",
      "Epoch 7/100\n",
      "2500/2500 [==============================] - 0s 168us/sample - loss: 0.5027 - accuracy: 0.7744 - val_loss: 0.4940 - val_accuracy: 0.7864\n",
      "Epoch 8/100\n",
      "2500/2500 [==============================] - 0s 172us/sample - loss: 0.4715 - accuracy: 0.7840 - val_loss: 0.4407 - val_accuracy: 0.8008\n",
      "Epoch 9/100\n",
      "2500/2500 [==============================] - 0s 172us/sample - loss: 0.3981 - accuracy: 0.8120 - val_loss: 0.3392 - val_accuracy: 0.8656\n",
      "Epoch 10/100\n",
      "2500/2500 [==============================] - 0s 173us/sample - loss: 0.3043 - accuracy: 0.8744 - val_loss: 0.2892 - val_accuracy: 0.8820\n",
      "Epoch 11/100\n",
      "2500/2500 [==============================] - 0s 180us/sample - loss: 0.2595 - accuracy: 0.9028 - val_loss: 0.2100 - val_accuracy: 0.9184\n",
      "Epoch 12/100\n",
      "2500/2500 [==============================] - 0s 176us/sample - loss: 0.2045 - accuracy: 0.9232 - val_loss: 0.1784 - val_accuracy: 0.9356\n",
      "Epoch 13/100\n",
      "2500/2500 [==============================] - 0s 169us/sample - loss: 0.1878 - accuracy: 0.9312 - val_loss: 0.1817 - val_accuracy: 0.9380\n",
      "Epoch 14/100\n",
      "2500/2500 [==============================] - 0s 165us/sample - loss: 0.1722 - accuracy: 0.9380 - val_loss: 0.1809 - val_accuracy: 0.9392\n",
      "Epoch 15/100\n",
      "2500/2500 [==============================] - 0s 166us/sample - loss: 0.1507 - accuracy: 0.9484 - val_loss: 0.1331 - val_accuracy: 0.9516\n",
      "Epoch 16/100\n",
      "2500/2500 [==============================] - 0s 171us/sample - loss: 0.1294 - accuracy: 0.9540 - val_loss: 0.1650 - val_accuracy: 0.9440\n",
      "Epoch 17/100\n",
      "2500/2500 [==============================] - 0s 169us/sample - loss: 0.1425 - accuracy: 0.9476 - val_loss: 0.1389 - val_accuracy: 0.9496\n",
      "Epoch 18/100\n",
      "2500/2500 [==============================] - 0s 168us/sample - loss: 0.1374 - accuracy: 0.9500 - val_loss: 0.1329 - val_accuracy: 0.9480\n",
      "Epoch 19/100\n",
      "2500/2500 [==============================] - 0s 174us/sample - loss: 0.1140 - accuracy: 0.9600 - val_loss: 0.1115 - val_accuracy: 0.9596\n",
      "Epoch 20/100\n",
      "2500/2500 [==============================] - 0s 169us/sample - loss: 0.1039 - accuracy: 0.9660 - val_loss: 0.1210 - val_accuracy: 0.9584\n",
      "Epoch 21/100\n",
      "2500/2500 [==============================] - 0s 169us/sample - loss: 0.1039 - accuracy: 0.9620 - val_loss: 0.0992 - val_accuracy: 0.9668\n",
      "Epoch 22/100\n",
      "2500/2500 [==============================] - 0s 170us/sample - loss: 0.1063 - accuracy: 0.9660 - val_loss: 0.1239 - val_accuracy: 0.9580\n",
      "Epoch 23/100\n",
      "2500/2500 [==============================] - 0s 165us/sample - loss: 0.0974 - accuracy: 0.9652 - val_loss: 0.0849 - val_accuracy: 0.9720\n",
      "Epoch 24/100\n",
      "2500/2500 [==============================] - 0s 169us/sample - loss: 0.0957 - accuracy: 0.9692 - val_loss: 0.1355 - val_accuracy: 0.9556\n",
      "Epoch 25/100\n",
      "2500/2500 [==============================] - 0s 165us/sample - loss: 0.0891 - accuracy: 0.9704 - val_loss: 0.0990 - val_accuracy: 0.9672\n",
      "Epoch 26/100\n",
      "2500/2500 [==============================] - 0s 164us/sample - loss: 0.0882 - accuracy: 0.9712 - val_loss: 0.0858 - val_accuracy: 0.9688\n",
      "Epoch 27/100\n",
      "2500/2500 [==============================] - 0s 161us/sample - loss: 0.0883 - accuracy: 0.9684 - val_loss: 0.0691 - val_accuracy: 0.9756\n",
      "Epoch 28/100\n",
      "2500/2500 [==============================] - 0s 165us/sample - loss: 0.0732 - accuracy: 0.9740 - val_loss: 0.0781 - val_accuracy: 0.9784\n",
      "Epoch 29/100\n",
      "2500/2500 [==============================] - 0s 188us/sample - loss: 0.0709 - accuracy: 0.9768 - val_loss: 0.0759 - val_accuracy: 0.9760\n",
      "Epoch 30/100\n",
      "2500/2500 [==============================] - 0s 180us/sample - loss: 0.0715 - accuracy: 0.9736 - val_loss: 0.1103 - val_accuracy: 0.9588\n",
      "Epoch 31/100\n",
      "2500/2500 [==============================] - 0s 165us/sample - loss: 0.0785 - accuracy: 0.9736 - val_loss: 0.0681 - val_accuracy: 0.9808\n",
      "Epoch 32/100\n",
      "2500/2500 [==============================] - 0s 169us/sample - loss: 0.0758 - accuracy: 0.9760 - val_loss: 0.0723 - val_accuracy: 0.9700\n",
      "Epoch 33/100\n",
      "2500/2500 [==============================] - 0s 167us/sample - loss: 0.0674 - accuracy: 0.9772 - val_loss: 0.0644 - val_accuracy: 0.9760\n",
      "Epoch 34/100\n",
      "2500/2500 [==============================] - 0s 169us/sample - loss: 0.0614 - accuracy: 0.9784 - val_loss: 0.0690 - val_accuracy: 0.9752\n",
      "Epoch 35/100\n",
      "2500/2500 [==============================] - 0s 188us/sample - loss: 0.0628 - accuracy: 0.9784 - val_loss: 0.0762 - val_accuracy: 0.9700\n",
      "Epoch 36/100\n",
      "2500/2500 [==============================] - 0s 184us/sample - loss: 0.0648 - accuracy: 0.9792 - val_loss: 0.0698 - val_accuracy: 0.9780\n",
      "Epoch 37/100\n",
      "2500/2500 [==============================] - 0s 172us/sample - loss: 0.0613 - accuracy: 0.9792 - val_loss: 0.0664 - val_accuracy: 0.9772\n",
      "Epoch 38/100\n",
      "2500/2500 [==============================] - 0s 173us/sample - loss: 0.0495 - accuracy: 0.9828 - val_loss: 0.1187 - val_accuracy: 0.9604\n",
      "Epoch 39/100\n",
      "2500/2500 [==============================] - 0s 167us/sample - loss: 0.0548 - accuracy: 0.9800 - val_loss: 0.0571 - val_accuracy: 0.9800\n",
      "Epoch 40/100\n",
      "2500/2500 [==============================] - 0s 166us/sample - loss: 0.0470 - accuracy: 0.9844 - val_loss: 0.0670 - val_accuracy: 0.9752\n",
      "Epoch 41/100\n",
      "2500/2500 [==============================] - 0s 178us/sample - loss: 0.0590 - accuracy: 0.9772 - val_loss: 0.0644 - val_accuracy: 0.9732\n",
      "Epoch 42/100\n",
      "2500/2500 [==============================] - 0s 174us/sample - loss: 0.0539 - accuracy: 0.9812 - val_loss: 0.0546 - val_accuracy: 0.9804\n",
      "Epoch 43/100\n",
      "2500/2500 [==============================] - 0s 178us/sample - loss: 0.0454 - accuracy: 0.9852 - val_loss: 0.0541 - val_accuracy: 0.9820\n",
      "Epoch 44/100\n",
      "2500/2500 [==============================] - 0s 182us/sample - loss: 0.0495 - accuracy: 0.9820 - val_loss: 0.0519 - val_accuracy: 0.9820\n",
      "Epoch 45/100\n",
      "2500/2500 [==============================] - 0s 172us/sample - loss: 0.0476 - accuracy: 0.9804 - val_loss: 0.0515 - val_accuracy: 0.9804\n",
      "Epoch 46/100\n",
      "2500/2500 [==============================] - 0s 170us/sample - loss: 0.0411 - accuracy: 0.9844 - val_loss: 0.0438 - val_accuracy: 0.9856\n",
      "Epoch 47/100\n",
      "2500/2500 [==============================] - 0s 174us/sample - loss: 0.0716 - accuracy: 0.9776 - val_loss: 0.0518 - val_accuracy: 0.9820\n",
      "Epoch 48/100\n",
      "2500/2500 [==============================] - 0s 173us/sample - loss: 0.0389 - accuracy: 0.9856 - val_loss: 0.0498 - val_accuracy: 0.9828\n",
      "Epoch 49/100\n",
      "2500/2500 [==============================] - 0s 169us/sample - loss: 0.0330 - accuracy: 0.9872 - val_loss: 0.0477 - val_accuracy: 0.9824\n",
      "Epoch 50/100\n",
      "2500/2500 [==============================] - 0s 171us/sample - loss: 0.0658 - accuracy: 0.9784 - val_loss: 0.0440 - val_accuracy: 0.9844\n",
      "Epoch 51/100\n",
      "2500/2500 [==============================] - 0s 171us/sample - loss: 0.0377 - accuracy: 0.9872 - val_loss: 0.0452 - val_accuracy: 0.9860\n",
      "Epoch 52/100\n",
      "2500/2500 [==============================] - 0s 175us/sample - loss: 0.0387 - accuracy: 0.9876 - val_loss: 0.0377 - val_accuracy: 0.9876\n",
      "Epoch 53/100\n",
      "2500/2500 [==============================] - 0s 184us/sample - loss: 0.0595 - accuracy: 0.9796 - val_loss: 0.0484 - val_accuracy: 0.9848\n",
      "Epoch 54/100\n",
      "2500/2500 [==============================] - 0s 178us/sample - loss: 0.0626 - accuracy: 0.9780 - val_loss: 0.0592 - val_accuracy: 0.9776\n",
      "Epoch 55/100\n"
     ]
    },
    {
     "name": "stdout",
     "output_type": "stream",
     "text": [
      "2500/2500 [==============================] - 0s 172us/sample - loss: 0.0369 - accuracy: 0.9860 - val_loss: 0.0633 - val_accuracy: 0.9820\n",
      "Epoch 56/100\n",
      "2500/2500 [==============================] - 0s 170us/sample - loss: 0.0365 - accuracy: 0.9876 - val_loss: 0.0479 - val_accuracy: 0.9824\n",
      "Epoch 57/100\n",
      "2500/2500 [==============================] - 0s 172us/sample - loss: 0.0346 - accuracy: 0.9876 - val_loss: 0.0596 - val_accuracy: 0.9812\n",
      "Epoch 58/100\n",
      "2500/2500 [==============================] - 0s 167us/sample - loss: 0.0404 - accuracy: 0.9836 - val_loss: 0.0464 - val_accuracy: 0.9840\n",
      "Epoch 59/100\n",
      "2500/2500 [==============================] - 0s 171us/sample - loss: 0.0284 - accuracy: 0.9888 - val_loss: 0.0386 - val_accuracy: 0.9876\n",
      "Epoch 60/100\n",
      "2500/2500 [==============================] - 0s 176us/sample - loss: 0.0648 - accuracy: 0.9780 - val_loss: 0.0472 - val_accuracy: 0.9844\n",
      "Epoch 61/100\n",
      "2500/2500 [==============================] - 0s 174us/sample - loss: 0.0292 - accuracy: 0.9888 - val_loss: 0.0391 - val_accuracy: 0.9884\n",
      "Epoch 62/100\n",
      "2500/2500 [==============================] - 0s 179us/sample - loss: 0.0232 - accuracy: 0.9916 - val_loss: 0.0303 - val_accuracy: 0.9896\n",
      "Epoch 63/100\n",
      "2500/2500 [==============================] - 0s 174us/sample - loss: 0.0235 - accuracy: 0.9904 - val_loss: 0.0267 - val_accuracy: 0.9912\n",
      "Epoch 64/100\n",
      "2500/2500 [==============================] - 0s 173us/sample - loss: 0.0333 - accuracy: 0.9884 - val_loss: 0.0399 - val_accuracy: 0.9852\n",
      "Epoch 65/100\n",
      "2500/2500 [==============================] - 0s 174us/sample - loss: 0.0387 - accuracy: 0.9860 - val_loss: 0.0493 - val_accuracy: 0.9840\n",
      "Epoch 66/100\n",
      "2500/2500 [==============================] - 0s 174us/sample - loss: 0.0335 - accuracy: 0.9896 - val_loss: 0.0717 - val_accuracy: 0.9792\n",
      "Epoch 67/100\n",
      "2500/2500 [==============================] - 0s 174us/sample - loss: 0.0275 - accuracy: 0.9912 - val_loss: 0.0385 - val_accuracy: 0.9868\n",
      "Epoch 68/100\n",
      "2500/2500 [==============================] - 0s 171us/sample - loss: 0.0212 - accuracy: 0.9920 - val_loss: 0.0292 - val_accuracy: 0.9904\n",
      "Epoch 69/100\n",
      "2500/2500 [==============================] - 0s 176us/sample - loss: 0.0238 - accuracy: 0.9916 - val_loss: 0.0360 - val_accuracy: 0.9868\n",
      "Epoch 70/100\n",
      "2500/2500 [==============================] - 0s 176us/sample - loss: 0.0355 - accuracy: 0.9896 - val_loss: 0.0359 - val_accuracy: 0.9892\n",
      "Epoch 71/100\n",
      "2500/2500 [==============================] - 0s 176us/sample - loss: 0.0297 - accuracy: 0.9892 - val_loss: 0.0408 - val_accuracy: 0.9888\n",
      "Epoch 72/100\n",
      "2500/2500 [==============================] - 0s 176us/sample - loss: 0.0363 - accuracy: 0.9892 - val_loss: 0.0311 - val_accuracy: 0.9892\n",
      "Epoch 73/100\n",
      "2500/2500 [==============================] - 0s 176us/sample - loss: 0.0310 - accuracy: 0.9880 - val_loss: 0.0758 - val_accuracy: 0.9764\n",
      "Epoch 74/100\n",
      "2500/2500 [==============================] - 0s 174us/sample - loss: 0.0413 - accuracy: 0.9860 - val_loss: 0.0384 - val_accuracy: 0.9872\n",
      "Epoch 75/100\n",
      "2500/2500 [==============================] - 0s 177us/sample - loss: 0.0223 - accuracy: 0.9936 - val_loss: 0.0324 - val_accuracy: 0.9896\n",
      "Epoch 76/100\n",
      "2500/2500 [==============================] - 0s 178us/sample - loss: 0.0224 - accuracy: 0.9936 - val_loss: 0.0275 - val_accuracy: 0.9904\n",
      "Epoch 77/100\n",
      "2500/2500 [==============================] - 0s 173us/sample - loss: 0.0200 - accuracy: 0.9924 - val_loss: 0.0312 - val_accuracy: 0.9888\n",
      "Epoch 78/100\n",
      "2500/2500 [==============================] - 0s 172us/sample - loss: 0.0168 - accuracy: 0.9940 - val_loss: 0.0295 - val_accuracy: 0.9924\n",
      "Epoch 79/100\n",
      "2500/2500 [==============================] - 0s 175us/sample - loss: 0.0332 - accuracy: 0.9880 - val_loss: 0.0276 - val_accuracy: 0.9900\n",
      "Epoch 80/100\n",
      "2500/2500 [==============================] - 0s 180us/sample - loss: 0.0289 - accuracy: 0.9892 - val_loss: 0.0243 - val_accuracy: 0.9928\n",
      "Epoch 81/100\n",
      "2500/2500 [==============================] - 0s 179us/sample - loss: 0.0204 - accuracy: 0.9920 - val_loss: 0.0305 - val_accuracy: 0.9912\n",
      "Epoch 82/100\n",
      "2500/2500 [==============================] - 0s 179us/sample - loss: 0.0151 - accuracy: 0.9948 - val_loss: 0.0311 - val_accuracy: 0.9908\n",
      "Epoch 83/100\n",
      "2500/2500 [==============================] - 0s 175us/sample - loss: 0.0244 - accuracy: 0.9916 - val_loss: 0.0278 - val_accuracy: 0.9908\n",
      "Epoch 84/100\n",
      "2500/2500 [==============================] - 0s 175us/sample - loss: 0.0436 - accuracy: 0.9880 - val_loss: 0.0581 - val_accuracy: 0.9828\n",
      "Epoch 85/100\n",
      "2500/2500 [==============================] - 0s 183us/sample - loss: 0.0220 - accuracy: 0.9920 - val_loss: 0.0486 - val_accuracy: 0.9852\n",
      "Epoch 86/100\n",
      "2500/2500 [==============================] - 0s 176us/sample - loss: 0.0243 - accuracy: 0.9920 - val_loss: 0.0265 - val_accuracy: 0.9916\n",
      "Epoch 87/100\n",
      "2500/2500 [==============================] - 0s 180us/sample - loss: 0.0200 - accuracy: 0.9932 - val_loss: 0.0256 - val_accuracy: 0.9904\n",
      "Epoch 88/100\n",
      "2500/2500 [==============================] - 0s 181us/sample - loss: 0.0206 - accuracy: 0.9920 - val_loss: 0.0430 - val_accuracy: 0.9872\n",
      "Epoch 89/100\n",
      "2500/2500 [==============================] - 0s 188us/sample - loss: 0.0235 - accuracy: 0.9916 - val_loss: 0.0246 - val_accuracy: 0.9932\n",
      "Epoch 90/100\n",
      "2500/2500 [==============================] - 0s 192us/sample - loss: 0.0231 - accuracy: 0.9904 - val_loss: 0.0341 - val_accuracy: 0.9912\n",
      "Epoch 91/100\n",
      "2500/2500 [==============================] - 0s 192us/sample - loss: 0.0177 - accuracy: 0.9940 - val_loss: 0.0211 - val_accuracy: 0.9928\n",
      "Epoch 92/100\n",
      "2500/2500 [==============================] - 0s 193us/sample - loss: 0.0150 - accuracy: 0.9940 - val_loss: 0.0450 - val_accuracy: 0.9848\n",
      "Epoch 93/100\n",
      "2500/2500 [==============================] - 0s 184us/sample - loss: 0.0253 - accuracy: 0.9896 - val_loss: 0.0242 - val_accuracy: 0.9912\n",
      "Epoch 94/100\n",
      "2500/2500 [==============================] - 0s 183us/sample - loss: 0.0180 - accuracy: 0.9940 - val_loss: 0.0224 - val_accuracy: 0.9912\n",
      "Epoch 95/100\n",
      "2500/2500 [==============================] - 0s 183us/sample - loss: 0.0120 - accuracy: 0.9960 - val_loss: 0.0308 - val_accuracy: 0.9912\n",
      "Epoch 96/100\n",
      "2500/2500 [==============================] - 0s 186us/sample - loss: 0.0123 - accuracy: 0.9964 - val_loss: 0.0263 - val_accuracy: 0.9916\n",
      "Epoch 97/100\n",
      "2500/2500 [==============================] - 0s 193us/sample - loss: 0.0207 - accuracy: 0.9932 - val_loss: 0.0355 - val_accuracy: 0.9868\n",
      "Epoch 98/100\n",
      "2500/2500 [==============================] - 1s 204us/sample - loss: 0.0287 - accuracy: 0.9908 - val_loss: 0.0439 - val_accuracy: 0.9872\n",
      "Epoch 99/100\n",
      "2500/2500 [==============================] - 0s 192us/sample - loss: 0.0229 - accuracy: 0.9916 - val_loss: 0.0218 - val_accuracy: 0.9928\n",
      "Epoch 100/100\n",
      "2500/2500 [==============================] - 0s 186us/sample - loss: 0.0142 - accuracy: 0.9960 - val_loss: 0.0235 - val_accuracy: 0.9924\n"
     ]
    }
   ],
   "source": [
    "inputs = np.expand_dims(X, -1)\n",
    "\n",
    "# make LSTM\n",
    "_input = Input(shape=(T, D))\n",
    "x = LSTM(5)(_input)\n",
    "x = Dense(1, activation=\"sigmoid\")(x)\n",
    "\n",
    "model = Model(_input, x)\n",
    "# compile\n",
    "model.compile(\n",
    "    loss=\"binary_crossentropy\",\n",
    "    optimizer=Adam(lr=0.01),\n",
    "    metrics=[\"accuracy\"]\n",
    ")\n",
    "\n",
    "# train\n",
    "r = model.fit(\n",
    "    inputs, Y,\n",
    "    epochs=100,\n",
    "    validation_split=0.5\n",
    ")"
   ]
  },
  {
   "cell_type": "code",
   "execution_count": 32,
   "metadata": {
    "ExecuteTime": {
     "end_time": "2020-03-20T12:59:27.771804Z",
     "start_time": "2020-03-20T12:59:27.599628Z"
    }
   },
   "outputs": [
    {
     "data": {
      "image/png": "[encoded data removed]",
      "text/plain": [
       "<Figure size 432x288 with 1 Axes>"
      ]
     },
     "metadata": {
      "needs_background": "light"
     },
     "output_type": "display_data"
    }
   ],
   "source": [
    "# plot loss per iteration\n",
    "plt.plot(r.history[\"loss\"], label=\"loss\")\n",
    "plt.plot(r.history[\"val_loss\"], label=\"val_loss\")\n",
    "plt.legend();"
   ]
  },
  {
   "cell_type": "code",
   "execution_count": 33,
   "metadata": {
    "ExecuteTime": {
     "end_time": "2020-03-20T12:59:30.118504Z",
     "start_time": "2020-03-20T12:59:29.974031Z"
    }
   },
   "outputs": [
    {
     "data": {
      "image/png": "[encoded data removed]",
      "text/plain": [
       "<Figure size 432x288 with 1 Axes>"
      ]
     },
     "metadata": {
      "needs_background": "light"
     },
     "output_type": "display_data"
    }
   ],
   "source": [
    "# plot loss per iteration\n",
    "plt.plot(r.history[\"accuracy\"], label=\"accuracy\")\n",
    "plt.plot(r.history[\"val_accuracy\"], label=\"val_accuracy\")\n",
    "plt.legend();"
   ]
  },
  {
   "cell_type": "markdown",
   "metadata": {},
   "source": [
    "### LSTM with Sequence length 20"
   ]
  },
  {
   "cell_type": "code",
   "execution_count": 34,
   "metadata": {
    "ExecuteTime": {
     "end_time": "2020-03-20T13:01:12.315474Z",
     "start_time": "2020-03-20T13:01:12.279726Z"
    }
   },
   "outputs": [],
   "source": [
    "# Start with a small T and increase it later\n",
    "T = 20\n",
    "D = 1\n",
    "X = []\n",
    "Y = []\n",
    "\n",
    "def get_label(x, i1, i2, i3):\n",
    "    if x[i1] < 0 and x[i2] < 0 and x[i3] < 0:\n",
    "        return 1\n",
    "    if x[i1] < 0 and x[i2] > 0 and x[i3] > 0:\n",
    "        return 1\n",
    "    if x[i1] > 0 and x[i2] < 0 and x[i3] > 0:\n",
    "        return 1\n",
    "    if x[i1] < 0 and x[i2] > 0 and x[i3] < 0:\n",
    "        return 1\n",
    "    return 0\n",
    "\n",
    "for t in range(5000):\n",
    "    x = np.random.randn(T)\n",
    "    X.append(x)\n",
    "    # short distance\n",
    "    #y = get_label(x, -1, -2, -3)\n",
    "    # long distance\n",
    "    y = get_label(x, 0, 1, 2)\n",
    "    Y.append(y)\n",
    "    \n",
    "X = np.array(X)\n",
    "Y = np.array(Y)\n",
    "N = len(X)"
   ]
  },
  {
   "cell_type": "code",
   "execution_count": 35,
   "metadata": {
    "ExecuteTime": {
     "end_time": "2020-03-20T13:03:09.303623Z",
     "start_time": "2020-03-20T13:01:15.111545Z"
    },
    "scrolled": true
   },
   "outputs": [
    {
     "name": "stdout",
     "output_type": "stream",
     "text": [
      "Train on 2500 samples, validate on 2500 samples\n",
      "Epoch 1/100\n",
      "2500/2500 [==============================] - 2s 787us/sample - loss: 0.6953 - accuracy: 0.5080 - val_loss: 0.6938 - val_accuracy: 0.5072\n",
      "Epoch 2/100\n",
      "2500/2500 [==============================] - 1s 257us/sample - loss: 0.6922 - accuracy: 0.5136 - val_loss: 0.6923 - val_accuracy: 0.5216\n",
      "Epoch 3/100\n",
      "2500/2500 [==============================] - 1s 264us/sample - loss: 0.6848 - accuracy: 0.5604 - val_loss: 0.6860 - val_accuracy: 0.5676\n",
      "Epoch 4/100\n",
      "2500/2500 [==============================] - 1s 259us/sample - loss: 0.6856 - accuracy: 0.5544 - val_loss: 0.6953 - val_accuracy: 0.4784\n",
      "Epoch 5/100\n",
      "2500/2500 [==============================] - 1s 263us/sample - loss: 0.6941 - accuracy: 0.5096 - val_loss: 0.6950 - val_accuracy: 0.4968\n",
      "Epoch 6/100\n",
      "2500/2500 [==============================] - 1s 264us/sample - loss: 0.6933 - accuracy: 0.5100 - val_loss: 0.6947 - val_accuracy: 0.5044\n",
      "Epoch 7/100\n",
      "2500/2500 [==============================] - 1s 271us/sample - loss: 0.6937 - accuracy: 0.5068 - val_loss: 0.6948 - val_accuracy: 0.5048\n",
      "Epoch 8/100\n",
      "2500/2500 [==============================] - 1s 290us/sample - loss: 0.6944 - accuracy: 0.5060 - val_loss: 0.6983 - val_accuracy: 0.5032\n",
      "Epoch 9/100\n",
      "2500/2500 [==============================] - 1s 265us/sample - loss: 0.6934 - accuracy: 0.5040 - val_loss: 0.6944 - val_accuracy: 0.5044\n",
      "Epoch 10/100\n",
      "2500/2500 [==============================] - 1s 271us/sample - loss: 0.6931 - accuracy: 0.5140 - val_loss: 0.6938 - val_accuracy: 0.5068\n",
      "Epoch 11/100\n",
      "2500/2500 [==============================] - 1s 268us/sample - loss: 0.6935 - accuracy: 0.5008 - val_loss: 0.6936 - val_accuracy: 0.5028\n",
      "Epoch 12/100\n",
      "2500/2500 [==============================] - 1s 262us/sample - loss: 0.6932 - accuracy: 0.5188 - val_loss: 0.6947 - val_accuracy: 0.5044\n",
      "Epoch 13/100\n",
      "2500/2500 [==============================] - 1s 256us/sample - loss: 0.6935 - accuracy: 0.5084 - val_loss: 0.6946 - val_accuracy: 0.5032\n",
      "Epoch 14/100\n",
      "2500/2500 [==============================] - 1s 272us/sample - loss: 0.6937 - accuracy: 0.5180 - val_loss: 0.6957 - val_accuracy: 0.5032\n",
      "Epoch 15/100\n",
      "2500/2500 [==============================] - 1s 262us/sample - loss: 0.6951 - accuracy: 0.4956 - val_loss: 0.6957 - val_accuracy: 0.5032\n",
      "Epoch 16/100\n",
      "2500/2500 [==============================] - 1s 260us/sample - loss: 0.6934 - accuracy: 0.5152 - val_loss: 0.6960 - val_accuracy: 0.5032\n",
      "Epoch 17/100\n",
      "2500/2500 [==============================] - 1s 276us/sample - loss: 0.6930 - accuracy: 0.5160 - val_loss: 0.6944 - val_accuracy: 0.5040\n",
      "Epoch 18/100\n",
      "2500/2500 [==============================] - 1s 267us/sample - loss: 0.6931 - accuracy: 0.5144 - val_loss: 0.6935 - val_accuracy: 0.5004\n",
      "Epoch 19/100\n",
      "2500/2500 [==============================] - 1s 264us/sample - loss: 0.6932 - accuracy: 0.5108 - val_loss: 0.6957 - val_accuracy: 0.5032\n",
      "Epoch 20/100\n",
      "2500/2500 [==============================] - 1s 264us/sample - loss: 0.6932 - accuracy: 0.5112 - val_loss: 0.6953 - val_accuracy: 0.5032\n",
      "Epoch 21/100\n",
      "2500/2500 [==============================] - 1s 261us/sample - loss: 0.6933 - accuracy: 0.5168 - val_loss: 0.6936 - val_accuracy: 0.5012\n",
      "Epoch 22/100\n",
      "2500/2500 [==============================] - 1s 265us/sample - loss: 0.6924 - accuracy: 0.5180 - val_loss: 0.6936 - val_accuracy: 0.4964\n",
      "Epoch 23/100\n",
      "2500/2500 [==============================] - 1s 523us/sample - loss: 0.6922 - accuracy: 0.5124 - val_loss: 0.6934 - val_accuracy: 0.5012\n",
      "Epoch 24/100\n",
      "2500/2500 [==============================] - 1s 513us/sample - loss: 0.6940 - accuracy: 0.5052 - val_loss: 0.6934 - val_accuracy: 0.5068\n",
      "Epoch 25/100\n",
      "2500/2500 [==============================] - 1s 515us/sample - loss: 0.6928 - accuracy: 0.5176 - val_loss: 0.6979 - val_accuracy: 0.5032\n",
      "Epoch 26/100\n",
      "2500/2500 [==============================] - 1s 523us/sample - loss: 0.6926 - accuracy: 0.5300 - val_loss: 0.6944 - val_accuracy: 0.5040\n",
      "Epoch 27/100\n",
      "2500/2500 [==============================] - 1s 509us/sample - loss: 0.6918 - accuracy: 0.5188 - val_loss: 0.6923 - val_accuracy: 0.5164\n",
      "Epoch 28/100\n",
      "2500/2500 [==============================] - 1s 515us/sample - loss: 0.6899 - accuracy: 0.5320 - val_loss: 0.6869 - val_accuracy: 0.5520\n",
      "Epoch 29/100\n",
      "2500/2500 [==============================] - 1s 511us/sample - loss: 0.6672 - accuracy: 0.5812 - val_loss: 0.6525 - val_accuracy: 0.6628\n",
      "Epoch 30/100\n",
      "2500/2500 [==============================] - 1s 501us/sample - loss: 0.6903 - accuracy: 0.5452 - val_loss: 0.6987 - val_accuracy: 0.5068\n",
      "Epoch 31/100\n",
      "2500/2500 [==============================] - 1s 504us/sample - loss: 0.6940 - accuracy: 0.5080 - val_loss: 0.6933 - val_accuracy: 0.5072\n",
      "Epoch 32/100\n",
      "2500/2500 [==============================] - 1s 513us/sample - loss: 0.6934 - accuracy: 0.5156 - val_loss: 0.6934 - val_accuracy: 0.5112\n",
      "Epoch 33/100\n",
      "2500/2500 [==============================] - 1s 508us/sample - loss: 0.6942 - accuracy: 0.5080 - val_loss: 0.6905 - val_accuracy: 0.5248\n",
      "Epoch 34/100\n",
      "2500/2500 [==============================] - 1s 509us/sample - loss: 0.6789 - accuracy: 0.5812 - val_loss: 0.6600 - val_accuracy: 0.6172\n",
      "Epoch 35/100\n",
      "2500/2500 [==============================] - 1s 502us/sample - loss: 0.6521 - accuracy: 0.6092 - val_loss: 0.6754 - val_accuracy: 0.5276\n",
      "Epoch 36/100\n",
      "2500/2500 [==============================] - 1s 510us/sample - loss: 0.6602 - accuracy: 0.6316 - val_loss: 0.6656 - val_accuracy: 0.6232\n",
      "Epoch 37/100\n",
      "2500/2500 [==============================] - 1s 507us/sample - loss: 0.6492 - accuracy: 0.6444 - val_loss: 0.6486 - val_accuracy: 0.6460\n",
      "Epoch 38/100\n",
      "2500/2500 [==============================] - 1s 504us/sample - loss: 0.6303 - accuracy: 0.6520 - val_loss: 0.6269 - val_accuracy: 0.6520\n",
      "Epoch 39/100\n",
      "2500/2500 [==============================] - 1s 523us/sample - loss: 0.6162 - accuracy: 0.6556 - val_loss: 0.6285 - val_accuracy: 0.6516\n",
      "Epoch 40/100\n",
      "2500/2500 [==============================] - 1s 508us/sample - loss: 0.6154 - accuracy: 0.6560 - val_loss: 0.6280 - val_accuracy: 0.6516\n",
      "Epoch 41/100\n",
      "2500/2500 [==============================] - 1s 510us/sample - loss: 0.6174 - accuracy: 0.6556 - val_loss: 0.6277 - val_accuracy: 0.6528\n",
      "Epoch 42/100\n",
      "2500/2500 [==============================] - 1s 508us/sample - loss: 0.6169 - accuracy: 0.6560 - val_loss: 0.6273 - val_accuracy: 0.6528\n",
      "Epoch 43/100\n",
      "2500/2500 [==============================] - 1s 507us/sample - loss: 0.6164 - accuracy: 0.6568 - val_loss: 0.6282 - val_accuracy: 0.6528\n",
      "Epoch 44/100\n",
      "2500/2500 [==============================] - 1s 513us/sample - loss: 0.6174 - accuracy: 0.6560 - val_loss: 0.6282 - val_accuracy: 0.6532\n",
      "Epoch 45/100\n",
      "2500/2500 [==============================] - 1s 520us/sample - loss: 0.6168 - accuracy: 0.6568 - val_loss: 0.6266 - val_accuracy: 0.6540\n",
      "Epoch 46/100\n",
      "2500/2500 [==============================] - 1s 520us/sample - loss: 0.6160 - accuracy: 0.6576 - val_loss: 0.6279 - val_accuracy: 0.6612\n",
      "Epoch 47/100\n",
      "2500/2500 [==============================] - 1s 521us/sample - loss: 0.6121 - accuracy: 0.6664 - val_loss: 0.6223 - val_accuracy: 0.6664\n",
      "Epoch 48/100\n",
      "2500/2500 [==============================] - 1s 517us/sample - loss: 0.6117 - accuracy: 0.6708 - val_loss: 0.6218 - val_accuracy: 0.6676\n",
      "Epoch 49/100\n",
      "2500/2500 [==============================] - 1s 510us/sample - loss: 0.6105 - accuracy: 0.6716 - val_loss: 0.6204 - val_accuracy: 0.6680\n",
      "Epoch 50/100\n",
      "2500/2500 [==============================] - 1s 503us/sample - loss: 0.6107 - accuracy: 0.6716 - val_loss: 0.6215 - val_accuracy: 0.6680\n",
      "Epoch 51/100\n",
      "2500/2500 [==============================] - 1s 562us/sample - loss: 0.6125 - accuracy: 0.6708 - val_loss: 0.6208 - val_accuracy: 0.6680\n",
      "Epoch 52/100\n",
      "2500/2500 [==============================] - 1s 541us/sample - loss: 0.6103 - accuracy: 0.6720 - val_loss: 0.6235 - val_accuracy: 0.6668\n",
      "Epoch 53/100\n",
      "2500/2500 [==============================] - 1s 540us/sample - loss: 0.6105 - accuracy: 0.6724 - val_loss: 0.6235 - val_accuracy: 0.6672\n",
      "Epoch 54/100\n",
      "2500/2500 [==============================] - 1s 514us/sample - loss: 0.6108 - accuracy: 0.6720 - val_loss: 0.6234 - val_accuracy: 0.6672\n",
      "Epoch 55/100\n"
     ]
    },
    {
     "name": "stdout",
     "output_type": "stream",
     "text": [
      "2500/2500 [==============================] - 1s 508us/sample - loss: 0.6134 - accuracy: 0.6708 - val_loss: 0.6219 - val_accuracy: 0.6676\n",
      "Epoch 56/100\n",
      "2500/2500 [==============================] - 1s 503us/sample - loss: 0.6127 - accuracy: 0.6704 - val_loss: 0.6226 - val_accuracy: 0.6676\n",
      "Epoch 57/100\n",
      "2500/2500 [==============================] - 1s 504us/sample - loss: 0.6126 - accuracy: 0.6704 - val_loss: 0.6222 - val_accuracy: 0.6672\n",
      "Epoch 58/100\n",
      "2500/2500 [==============================] - 1s 502us/sample - loss: 0.6133 - accuracy: 0.6704 - val_loss: 0.6224 - val_accuracy: 0.6676\n",
      "Epoch 59/100\n",
      "2500/2500 [==============================] - 1s 509us/sample - loss: 0.6133 - accuracy: 0.6712 - val_loss: 0.6232 - val_accuracy: 0.6676\n",
      "Epoch 60/100\n",
      "2500/2500 [==============================] - 1s 511us/sample - loss: 0.6132 - accuracy: 0.6704 - val_loss: 0.6223 - val_accuracy: 0.6688\n",
      "Epoch 61/100\n",
      "2500/2500 [==============================] - 1s 501us/sample - loss: 0.6133 - accuracy: 0.6708 - val_loss: 0.6202 - val_accuracy: 0.6708\n",
      "Epoch 62/100\n",
      "2500/2500 [==============================] - 1s 507us/sample - loss: 0.6120 - accuracy: 0.6744 - val_loss: 0.6214 - val_accuracy: 0.6724\n",
      "Epoch 63/100\n",
      "2500/2500 [==============================] - 1s 505us/sample - loss: 0.6149 - accuracy: 0.6736 - val_loss: 0.6222 - val_accuracy: 0.6732\n",
      "Epoch 64/100\n",
      "2500/2500 [==============================] - 1s 498us/sample - loss: 0.6157 - accuracy: 0.6732 - val_loss: 0.6194 - val_accuracy: 0.6748\n",
      "Epoch 65/100\n",
      "2500/2500 [==============================] - 1s 488us/sample - loss: 0.6145 - accuracy: 0.6744 - val_loss: 0.6196 - val_accuracy: 0.6748\n",
      "Epoch 66/100\n",
      "2500/2500 [==============================] - 1s 500us/sample - loss: 0.6113 - accuracy: 0.6748 - val_loss: 0.6162 - val_accuracy: 0.6740\n",
      "Epoch 67/100\n",
      "2500/2500 [==============================] - 1s 520us/sample - loss: 0.5995 - accuracy: 0.6860 - val_loss: 0.6043 - val_accuracy: 0.7136\n",
      "Epoch 68/100\n",
      "2500/2500 [==============================] - 1s 500us/sample - loss: 0.5755 - accuracy: 0.7364 - val_loss: 0.5952 - val_accuracy: 0.7064\n",
      "Epoch 69/100\n",
      "2500/2500 [==============================] - 1s 489us/sample - loss: 0.5540 - accuracy: 0.7472 - val_loss: 0.5639 - val_accuracy: 0.7444\n",
      "Epoch 70/100\n",
      "2500/2500 [==============================] - 1s 488us/sample - loss: 0.5401 - accuracy: 0.7556 - val_loss: 0.5647 - val_accuracy: 0.7408\n",
      "Epoch 71/100\n",
      "2500/2500 [==============================] - 1s 490us/sample - loss: 0.5284 - accuracy: 0.7652 - val_loss: 0.5449 - val_accuracy: 0.7628\n",
      "Epoch 72/100\n",
      "2500/2500 [==============================] - 1s 489us/sample - loss: 0.5069 - accuracy: 0.7796 - val_loss: 0.5250 - val_accuracy: 0.7528\n",
      "Epoch 73/100\n",
      "2500/2500 [==============================] - 1s 483us/sample - loss: 0.5063 - accuracy: 0.7608 - val_loss: 0.4930 - val_accuracy: 0.7520\n",
      "Epoch 74/100\n",
      "2500/2500 [==============================] - 1s 482us/sample - loss: 0.4671 - accuracy: 0.7768 - val_loss: 0.4524 - val_accuracy: 0.7852\n",
      "Epoch 75/100\n",
      "2500/2500 [==============================] - 1s 484us/sample - loss: 0.4429 - accuracy: 0.7960 - val_loss: 0.4978 - val_accuracy: 0.7464\n",
      "Epoch 76/100\n",
      "2500/2500 [==============================] - 1s 485us/sample - loss: 0.4393 - accuracy: 0.7976 - val_loss: 0.4629 - val_accuracy: 0.7736\n",
      "Epoch 77/100\n",
      "2500/2500 [==============================] - 1s 490us/sample - loss: 0.4243 - accuracy: 0.8024 - val_loss: 0.5540 - val_accuracy: 0.7700\n",
      "Epoch 78/100\n",
      "2500/2500 [==============================] - 1s 481us/sample - loss: 0.4229 - accuracy: 0.8148 - val_loss: 0.4097 - val_accuracy: 0.8200\n",
      "Epoch 79/100\n",
      "2500/2500 [==============================] - 1s 483us/sample - loss: 0.4453 - accuracy: 0.8168 - val_loss: 0.5412 - val_accuracy: 0.7648\n",
      "Epoch 80/100\n",
      "2500/2500 [==============================] - 1s 482us/sample - loss: 0.4390 - accuracy: 0.8116 - val_loss: 0.4102 - val_accuracy: 0.8228\n",
      "Epoch 81/100\n",
      "2500/2500 [==============================] - 1s 484us/sample - loss: 0.4014 - accuracy: 0.8340 - val_loss: 0.4272 - val_accuracy: 0.8084\n",
      "Epoch 82/100\n",
      "2500/2500 [==============================] - 1s 486us/sample - loss: 0.3899 - accuracy: 0.8356 - val_loss: 0.4266 - val_accuracy: 0.8144\n",
      "Epoch 83/100\n",
      "2500/2500 [==============================] - 1s 492us/sample - loss: 0.3848 - accuracy: 0.8388 - val_loss: 0.4318 - val_accuracy: 0.8016\n",
      "Epoch 84/100\n",
      "2500/2500 [==============================] - 1s 489us/sample - loss: 0.3837 - accuracy: 0.8384 - val_loss: 0.4112 - val_accuracy: 0.8252\n",
      "Epoch 85/100\n",
      "2500/2500 [==============================] - 1s 490us/sample - loss: 0.4081 - accuracy: 0.8296 - val_loss: 0.4406 - val_accuracy: 0.8092\n",
      "Epoch 86/100\n",
      "2500/2500 [==============================] - 1s 485us/sample - loss: 0.3929 - accuracy: 0.8328 - val_loss: 0.4004 - val_accuracy: 0.8320\n",
      "Epoch 87/100\n",
      "2500/2500 [==============================] - 1s 488us/sample - loss: 0.3916 - accuracy: 0.8356 - val_loss: 0.4061 - val_accuracy: 0.8272\n",
      "Epoch 88/100\n",
      "2500/2500 [==============================] - 1s 482us/sample - loss: 0.3983 - accuracy: 0.8264 - val_loss: 0.4258 - val_accuracy: 0.8104\n",
      "Epoch 89/100\n",
      "2500/2500 [==============================] - 1s 489us/sample - loss: 0.4044 - accuracy: 0.8204 - val_loss: 0.4011 - val_accuracy: 0.8316\n",
      "Epoch 90/100\n",
      "2500/2500 [==============================] - 1s 492us/sample - loss: 0.3713 - accuracy: 0.8512 - val_loss: 0.4123 - val_accuracy: 0.8324\n",
      "Epoch 91/100\n",
      "2500/2500 [==============================] - 1s 492us/sample - loss: 0.3804 - accuracy: 0.8408 - val_loss: 0.4148 - val_accuracy: 0.8308\n",
      "Epoch 92/100\n",
      "2500/2500 [==============================] - 1s 495us/sample - loss: 0.3760 - accuracy: 0.8460 - val_loss: 0.4115 - val_accuracy: 0.8252\n",
      "Epoch 93/100\n",
      "2500/2500 [==============================] - 1s 510us/sample - loss: 0.4165 - accuracy: 0.8136 - val_loss: 0.4077 - val_accuracy: 0.8268\n",
      "Epoch 94/100\n",
      "2500/2500 [==============================] - 1s 497us/sample - loss: 0.3860 - accuracy: 0.8376 - val_loss: 0.3992 - val_accuracy: 0.8292\n",
      "Epoch 95/100\n",
      "2500/2500 [==============================] - 1s 487us/sample - loss: 0.3677 - accuracy: 0.8500 - val_loss: 0.4076 - val_accuracy: 0.8304\n",
      "Epoch 96/100\n",
      "2500/2500 [==============================] - 1s 494us/sample - loss: 0.3869 - accuracy: 0.8340 - val_loss: 0.4033 - val_accuracy: 0.8312\n",
      "Epoch 97/100\n",
      "2500/2500 [==============================] - 1s 489us/sample - loss: 0.3672 - accuracy: 0.8548 - val_loss: 0.4038 - val_accuracy: 0.8244\n",
      "Epoch 98/100\n",
      "2500/2500 [==============================] - 1s 492us/sample - loss: 0.3734 - accuracy: 0.8528 - val_loss: 0.3923 - val_accuracy: 0.8344\n",
      "Epoch 99/100\n",
      "2500/2500 [==============================] - 1s 491us/sample - loss: 0.3591 - accuracy: 0.8556 - val_loss: 0.3884 - val_accuracy: 0.8332\n",
      "Epoch 100/100\n",
      "2500/2500 [==============================] - 1s 486us/sample - loss: 0.3586 - accuracy: 0.8544 - val_loss: 0.3855 - val_accuracy: 0.8400\n"
     ]
    }
   ],
   "source": [
    "inputs = np.expand_dims(X, -1)\n",
    "\n",
    "# make LSTM\n",
    "_input = Input(shape=(T, D))\n",
    "x = LSTM(5)(_input)\n",
    "x = Dense(1, activation=\"sigmoid\")(x)\n",
    "\n",
    "model = Model(_input, x)\n",
    "# compile\n",
    "model.compile(\n",
    "    loss=\"binary_crossentropy\",\n",
    "    optimizer=Adam(lr=0.01),\n",
    "    metrics=[\"accuracy\"]\n",
    ")\n",
    "\n",
    "# train\n",
    "r = model.fit(\n",
    "    inputs, Y,\n",
    "    epochs=100,\n",
    "    validation_split=0.5\n",
    ")"
   ]
  },
  {
   "cell_type": "code",
   "execution_count": 36,
   "metadata": {
    "ExecuteTime": {
     "end_time": "2020-03-20T13:03:20.799856Z",
     "start_time": "2020-03-20T13:03:20.505675Z"
    }
   },
   "outputs": [
    {
     "data": {
      "image/png": "[encoded data removed]",
      "text/plain": [
       "<Figure size 432x288 with 1 Axes>"
      ]
     },
     "metadata": {
      "needs_background": "light"
     },
     "output_type": "display_data"
    }
   ],
   "source": [
    "# plot loss per iteration\n",
    "plt.plot(r.history[\"loss\"], label=\"loss\")\n",
    "plt.plot(r.history[\"val_loss\"], label=\"val_loss\")\n",
    "plt.legend();"
   ]
  },
  {
   "cell_type": "code",
   "execution_count": 37,
   "metadata": {
    "ExecuteTime": {
     "end_time": "2020-03-20T13:03:22.732099Z",
     "start_time": "2020-03-20T13:03:22.449282Z"
    }
   },
   "outputs": [
    {
     "data": {
      "image/png": "[encoded data removed]",
      "text/plain": [
       "<Figure size 432x288 with 1 Axes>"
      ]
     },
     "metadata": {
      "needs_background": "light"
     },
     "output_type": "display_data"
    }
   ],
   "source": [
    "# plot loss per iteration\n",
    "plt.plot(r.history[\"accuracy\"], label=\"accuracy\")\n",
    "plt.plot(r.history[\"val_accuracy\"], label=\"val_accuracy\")\n",
    "plt.legend();"
   ]
  },
  {
   "cell_type": "code",
   "execution_count": null,
   "metadata": {},
   "outputs": [],
   "source": []
  },
  {
   "cell_type": "markdown",
   "metadata": {},
   "source": [
    "### GRU with Sequence length 20"
   ]
  },
  {
   "cell_type": "code",
   "execution_count": 38,
   "metadata": {
    "ExecuteTime": {
     "end_time": "2020-03-20T13:06:35.746657Z",
     "start_time": "2020-03-20T13:03:57.729179Z"
    },
    "collapsed": true
   },
   "outputs": [
    {
     "name": "stdout",
     "output_type": "stream",
     "text": [
      "Train on 2500 samples, validate on 2500 samples\n",
      "Epoch 1/100\n",
      "2500/2500 [==============================] - 4s 2ms/sample - loss: 0.6955 - accuracy: 0.5112 - val_loss: 0.6956 - val_accuracy: 0.5000\n",
      "Epoch 2/100\n",
      "2500/2500 [==============================] - 1s 596us/sample - loss: 0.6928 - accuracy: 0.5156 - val_loss: 0.6945 - val_accuracy: 0.4932\n",
      "Epoch 3/100\n",
      "2500/2500 [==============================] - 2s 600us/sample - loss: 0.6937 - accuracy: 0.5212 - val_loss: 0.6924 - val_accuracy: 0.5160\n",
      "Epoch 4/100\n",
      "2500/2500 [==============================] - 1s 595us/sample - loss: 0.6924 - accuracy: 0.5272 - val_loss: 0.6936 - val_accuracy: 0.5084\n",
      "Epoch 5/100\n",
      "2500/2500 [==============================] - 2s 601us/sample - loss: 0.6922 - accuracy: 0.5156 - val_loss: 0.6960 - val_accuracy: 0.4956\n",
      "Epoch 6/100\n",
      "2500/2500 [==============================] - 2s 645us/sample - loss: 0.6927 - accuracy: 0.5076 - val_loss: 0.6948 - val_accuracy: 0.5024\n",
      "Epoch 7/100\n",
      "2500/2500 [==============================] - 2s 628us/sample - loss: 0.6921 - accuracy: 0.5148 - val_loss: 0.6922 - val_accuracy: 0.5100\n",
      "Epoch 8/100\n",
      "2500/2500 [==============================] - 2s 619us/sample - loss: 0.6922 - accuracy: 0.5160 - val_loss: 0.6956 - val_accuracy: 0.5004\n",
      "Epoch 9/100\n",
      "2500/2500 [==============================] - 2s 619us/sample - loss: 0.6921 - accuracy: 0.5208 - val_loss: 0.6930 - val_accuracy: 0.5100\n",
      "Epoch 10/100\n",
      "2500/2500 [==============================] - 2s 611us/sample - loss: 0.6909 - accuracy: 0.5264 - val_loss: 0.6938 - val_accuracy: 0.5108\n",
      "Epoch 11/100\n",
      "2500/2500 [==============================] - 2s 615us/sample - loss: 0.6909 - accuracy: 0.5288 - val_loss: 0.6927 - val_accuracy: 0.5088\n",
      "Epoch 12/100\n",
      "2500/2500 [==============================] - 2s 623us/sample - loss: 0.6910 - accuracy: 0.5144 - val_loss: 0.6944 - val_accuracy: 0.5012\n",
      "Epoch 13/100\n",
      "2500/2500 [==============================] - 2s 616us/sample - loss: 0.6910 - accuracy: 0.5168 - val_loss: 0.6937 - val_accuracy: 0.5080\n",
      "Epoch 14/100\n",
      "2500/2500 [==============================] - 2s 642us/sample - loss: 0.6904 - accuracy: 0.5192 - val_loss: 0.6936 - val_accuracy: 0.5080\n",
      "Epoch 15/100\n",
      "2500/2500 [==============================] - 2s 620us/sample - loss: 0.6899 - accuracy: 0.5244 - val_loss: 0.6950 - val_accuracy: 0.5112\n",
      "Epoch 16/100\n",
      "2500/2500 [==============================] - 2s 626us/sample - loss: 0.6903 - accuracy: 0.5196 - val_loss: 0.6941 - val_accuracy: 0.5196\n",
      "Epoch 17/100\n",
      "2500/2500 [==============================] - 2s 618us/sample - loss: 0.6895 - accuracy: 0.5352 - val_loss: 0.6942 - val_accuracy: 0.5136\n",
      "Epoch 18/100\n",
      "2500/2500 [==============================] - 2s 618us/sample - loss: 0.6903 - accuracy: 0.5252 - val_loss: 0.6949 - val_accuracy: 0.5136\n",
      "Epoch 19/100\n",
      "2500/2500 [==============================] - 2s 622us/sample - loss: 0.6887 - accuracy: 0.5400 - val_loss: 0.6953 - val_accuracy: 0.5152\n",
      "Epoch 20/100\n",
      "2500/2500 [==============================] - 2s 632us/sample - loss: 0.6881 - accuracy: 0.5340 - val_loss: 0.6948 - val_accuracy: 0.5060\n",
      "Epoch 21/100\n",
      "2500/2500 [==============================] - 2s 623us/sample - loss: 0.6884 - accuracy: 0.5384 - val_loss: 0.6968 - val_accuracy: 0.5156\n",
      "Epoch 22/100\n",
      "2500/2500 [==============================] - 2s 620us/sample - loss: 0.6882 - accuracy: 0.5412 - val_loss: 0.6978 - val_accuracy: 0.5072\n",
      "Epoch 23/100\n",
      "2500/2500 [==============================] - 2s 617us/sample - loss: 0.6871 - accuracy: 0.5512 - val_loss: 0.7009 - val_accuracy: 0.5052\n",
      "Epoch 24/100\n",
      "2500/2500 [==============================] - 2s 619us/sample - loss: 0.6854 - accuracy: 0.5548 - val_loss: 0.6971 - val_accuracy: 0.5120\n",
      "Epoch 25/100\n",
      "2500/2500 [==============================] - 2s 619us/sample - loss: 0.6851 - accuracy: 0.5508 - val_loss: 0.6955 - val_accuracy: 0.5192\n",
      "Epoch 26/100\n",
      "2500/2500 [==============================] - 2s 617us/sample - loss: 0.6870 - accuracy: 0.5464 - val_loss: 0.6960 - val_accuracy: 0.5176\n",
      "Epoch 27/100\n",
      "2500/2500 [==============================] - 2s 630us/sample - loss: 0.6846 - accuracy: 0.5628 - val_loss: 0.6991 - val_accuracy: 0.5068\n",
      "Epoch 28/100\n",
      "2500/2500 [==============================] - 2s 625us/sample - loss: 0.6841 - accuracy: 0.5600 - val_loss: 0.6981 - val_accuracy: 0.5216\n",
      "Epoch 29/100\n",
      "2500/2500 [==============================] - 2s 623us/sample - loss: 0.6839 - accuracy: 0.5592 - val_loss: 0.6993 - val_accuracy: 0.5196\n",
      "Epoch 30/100\n",
      "2500/2500 [==============================] - 2s 618us/sample - loss: 0.6833 - accuracy: 0.5684 - val_loss: 0.6976 - val_accuracy: 0.5156\n",
      "Epoch 31/100\n",
      "2500/2500 [==============================] - 2s 613us/sample - loss: 0.6811 - accuracy: 0.5692 - val_loss: 0.7015 - val_accuracy: 0.5068\n",
      "Epoch 32/100\n",
      "2500/2500 [==============================] - 2s 622us/sample - loss: 0.6828 - accuracy: 0.5632 - val_loss: 0.7023 - val_accuracy: 0.5116\n",
      "Epoch 33/100\n",
      "2500/2500 [==============================] - 2s 623us/sample - loss: 0.6808 - accuracy: 0.5700 - val_loss: 0.7001 - val_accuracy: 0.5048\n",
      "Epoch 34/100\n",
      "2500/2500 [==============================] - 2s 626us/sample - loss: 0.6802 - accuracy: 0.5676 - val_loss: 0.7005 - val_accuracy: 0.5048\n",
      "Epoch 35/100\n",
      "2500/2500 [==============================] - 2s 624us/sample - loss: 0.6784 - accuracy: 0.5632 - val_loss: 0.7080 - val_accuracy: 0.5036\n",
      "Epoch 36/100\n",
      "2500/2500 [==============================] - 2s 621us/sample - loss: 0.6774 - accuracy: 0.5740 - val_loss: 0.7101 - val_accuracy: 0.5080\n",
      "Epoch 37/100\n",
      "2500/2500 [==============================] - 2s 619us/sample - loss: 0.6758 - accuracy: 0.5752 - val_loss: 0.7058 - val_accuracy: 0.5120\n",
      "Epoch 38/100\n",
      "2500/2500 [==============================] - 2s 621us/sample - loss: 0.6762 - accuracy: 0.5816 - val_loss: 0.7103 - val_accuracy: 0.5172\n",
      "Epoch 39/100\n",
      "2500/2500 [==============================] - 2s 621us/sample - loss: 0.6732 - accuracy: 0.5868 - val_loss: 0.7165 - val_accuracy: 0.4992\n",
      "Epoch 40/100\n",
      "2500/2500 [==============================] - 2s 619us/sample - loss: 0.6734 - accuracy: 0.5888 - val_loss: 0.7121 - val_accuracy: 0.5068\n",
      "Epoch 41/100\n",
      "2500/2500 [==============================] - 2s 621us/sample - loss: 0.6744 - accuracy: 0.5812 - val_loss: 0.7151 - val_accuracy: 0.5088\n",
      "Epoch 42/100\n",
      "2500/2500 [==============================] - 2s 623us/sample - loss: 0.6704 - accuracy: 0.5964 - val_loss: 0.7120 - val_accuracy: 0.5068\n",
      "Epoch 43/100\n",
      "2500/2500 [==============================] - 2s 632us/sample - loss: 0.6808 - accuracy: 0.5636 - val_loss: 0.7095 - val_accuracy: 0.5072\n",
      "Epoch 44/100\n",
      "2500/2500 [==============================] - 2s 628us/sample - loss: 0.6755 - accuracy: 0.5768 - val_loss: 0.7069 - val_accuracy: 0.5152\n",
      "Epoch 45/100\n",
      "2500/2500 [==============================] - 2s 620us/sample - loss: 0.6736 - accuracy: 0.5880 - val_loss: 0.7148 - val_accuracy: 0.5044\n",
      "Epoch 46/100\n",
      "2500/2500 [==============================] - 2s 624us/sample - loss: 0.6737 - accuracy: 0.5764 - val_loss: 0.7150 - val_accuracy: 0.5024\n",
      "Epoch 47/100\n",
      "2500/2500 [==============================] - 2s 623us/sample - loss: 0.6749 - accuracy: 0.5792 - val_loss: 0.7085 - val_accuracy: 0.5152\n",
      "Epoch 48/100\n",
      "2500/2500 [==============================] - 2s 620us/sample - loss: 0.6724 - accuracy: 0.5836 - val_loss: 0.7114 - val_accuracy: 0.5088\n",
      "Epoch 49/100\n",
      "2500/2500 [==============================] - 2s 646us/sample - loss: 0.6696 - accuracy: 0.6000 - val_loss: 0.7177 - val_accuracy: 0.5060\n",
      "Epoch 50/100\n",
      "2500/2500 [==============================] - 2s 620us/sample - loss: 0.6721 - accuracy: 0.5828 - val_loss: 0.7138 - val_accuracy: 0.5008\n",
      "Epoch 51/100\n",
      "2500/2500 [==============================] - 2s 637us/sample - loss: 0.6677 - accuracy: 0.5952 - val_loss: 0.7208 - val_accuracy: 0.5052\n",
      "Epoch 52/100\n",
      "2500/2500 [==============================] - 2s 621us/sample - loss: 0.6689 - accuracy: 0.6044 - val_loss: 0.7191 - val_accuracy: 0.5012\n",
      "Epoch 53/100\n",
      "2500/2500 [==============================] - 2s 620us/sample - loss: 0.6682 - accuracy: 0.5944 - val_loss: 0.7249 - val_accuracy: 0.5016\n",
      "Epoch 54/100\n",
      "2500/2500 [==============================] - 2s 614us/sample - loss: 0.6700 - accuracy: 0.5860 - val_loss: 0.7156 - val_accuracy: 0.5088\n",
      "Epoch 55/100\n"
     ]
    },
    {
     "name": "stdout",
     "output_type": "stream",
     "text": [
      "2500/2500 [==============================] - 2s 617us/sample - loss: 0.6692 - accuracy: 0.5864 - val_loss: 0.7225 - val_accuracy: 0.5024\n",
      "Epoch 56/100\n",
      "2500/2500 [==============================] - 2s 622us/sample - loss: 0.6895 - accuracy: 0.5456 - val_loss: 0.7065 - val_accuracy: 0.5056\n",
      "Epoch 57/100\n",
      "2500/2500 [==============================] - 2s 625us/sample - loss: 0.6795 - accuracy: 0.5700 - val_loss: 0.7032 - val_accuracy: 0.4984\n",
      "Epoch 58/100\n",
      "2500/2500 [==============================] - 2s 619us/sample - loss: 0.6767 - accuracy: 0.5788 - val_loss: 0.7065 - val_accuracy: 0.5052\n",
      "Epoch 59/100\n",
      "2500/2500 [==============================] - 2s 619us/sample - loss: 0.6747 - accuracy: 0.5864 - val_loss: 0.7063 - val_accuracy: 0.5192\n",
      "Epoch 60/100\n",
      "2500/2500 [==============================] - 2s 619us/sample - loss: 0.6695 - accuracy: 0.5888 - val_loss: 0.7112 - val_accuracy: 0.5136\n",
      "Epoch 61/100\n",
      "2500/2500 [==============================] - 2s 616us/sample - loss: 0.6686 - accuracy: 0.5972 - val_loss: 0.7144 - val_accuracy: 0.5112\n",
      "Epoch 62/100\n",
      "2500/2500 [==============================] - 2s 618us/sample - loss: 0.6689 - accuracy: 0.5912 - val_loss: 0.7154 - val_accuracy: 0.5056\n",
      "Epoch 63/100\n",
      "2500/2500 [==============================] - 2s 631us/sample - loss: 0.6668 - accuracy: 0.5992 - val_loss: 0.7239 - val_accuracy: 0.5108\n",
      "Epoch 64/100\n",
      "2500/2500 [==============================] - 2s 616us/sample - loss: 0.6680 - accuracy: 0.5976 - val_loss: 0.7209 - val_accuracy: 0.5020\n",
      "Epoch 65/100\n",
      "2500/2500 [==============================] - 2s 613us/sample - loss: 0.6690 - accuracy: 0.5912 - val_loss: 0.7162 - val_accuracy: 0.5024\n",
      "Epoch 66/100\n",
      "2500/2500 [==============================] - 2s 624us/sample - loss: 0.6665 - accuracy: 0.5988 - val_loss: 0.7174 - val_accuracy: 0.5072\n",
      "Epoch 67/100\n",
      "2500/2500 [==============================] - 2s 613us/sample - loss: 0.6681 - accuracy: 0.5856 - val_loss: 0.7197 - val_accuracy: 0.5068\n",
      "Epoch 68/100\n",
      "2500/2500 [==============================] - 2s 614us/sample - loss: 0.6649 - accuracy: 0.5924 - val_loss: 0.7167 - val_accuracy: 0.5072\n",
      "Epoch 69/100\n",
      "2500/2500 [==============================] - 2s 613us/sample - loss: 0.6674 - accuracy: 0.5956 - val_loss: 0.7214 - val_accuracy: 0.4972\n",
      "Epoch 70/100\n",
      "2500/2500 [==============================] - 2s 622us/sample - loss: 0.6674 - accuracy: 0.5980 - val_loss: 0.7167 - val_accuracy: 0.5060\n",
      "Epoch 71/100\n",
      "2500/2500 [==============================] - 2s 615us/sample - loss: 0.6670 - accuracy: 0.5932 - val_loss: 0.7163 - val_accuracy: 0.5040\n",
      "Epoch 72/100\n",
      "2500/2500 [==============================] - 2s 615us/sample - loss: 0.6656 - accuracy: 0.5992 - val_loss: 0.7192 - val_accuracy: 0.5088\n",
      "Epoch 73/100\n",
      "2500/2500 [==============================] - 2s 613us/sample - loss: 0.6614 - accuracy: 0.6104 - val_loss: 0.7215 - val_accuracy: 0.5064\n",
      "Epoch 74/100\n",
      "2500/2500 [==============================] - 2s 618us/sample - loss: 0.6638 - accuracy: 0.5984 - val_loss: 0.7297 - val_accuracy: 0.5072\n",
      "Epoch 75/100\n",
      "2500/2500 [==============================] - 2s 614us/sample - loss: 0.6642 - accuracy: 0.5928 - val_loss: 0.7245 - val_accuracy: 0.5016\n",
      "Epoch 76/100\n",
      "2500/2500 [==============================] - 2s 614us/sample - loss: 0.6632 - accuracy: 0.5920 - val_loss: 0.7307 - val_accuracy: 0.4984\n",
      "Epoch 77/100\n",
      "2500/2500 [==============================] - 2s 623us/sample - loss: 0.6653 - accuracy: 0.5936 - val_loss: 0.7185 - val_accuracy: 0.5112\n",
      "Epoch 78/100\n",
      "2500/2500 [==============================] - 2s 621us/sample - loss: 0.6658 - accuracy: 0.5948 - val_loss: 0.7193 - val_accuracy: 0.5036\n",
      "Epoch 79/100\n",
      "2500/2500 [==============================] - 2s 616us/sample - loss: 0.6643 - accuracy: 0.5972 - val_loss: 0.7198 - val_accuracy: 0.5044\n",
      "Epoch 80/100\n",
      "2500/2500 [==============================] - 2s 612us/sample - loss: 0.6688 - accuracy: 0.5988 - val_loss: 0.7215 - val_accuracy: 0.5056\n",
      "Epoch 81/100\n",
      "2500/2500 [==============================] - 2s 622us/sample - loss: 0.6775 - accuracy: 0.5740 - val_loss: 0.7123 - val_accuracy: 0.5100\n",
      "Epoch 82/100\n",
      "2500/2500 [==============================] - 2s 617us/sample - loss: 0.6697 - accuracy: 0.5944 - val_loss: 0.7141 - val_accuracy: 0.4992\n",
      "Epoch 83/100\n",
      "2500/2500 [==============================] - 2s 616us/sample - loss: 0.6614 - accuracy: 0.6020 - val_loss: 0.7135 - val_accuracy: 0.5116\n",
      "Epoch 84/100\n",
      "2500/2500 [==============================] - 2s 620us/sample - loss: 0.6627 - accuracy: 0.5988 - val_loss: 0.7259 - val_accuracy: 0.5032\n",
      "Epoch 85/100\n",
      "2500/2500 [==============================] - 2s 621us/sample - loss: 0.6672 - accuracy: 0.5916 - val_loss: 0.7196 - val_accuracy: 0.5092\n",
      "Epoch 86/100\n",
      "2500/2500 [==============================] - 2s 630us/sample - loss: 0.6688 - accuracy: 0.5868 - val_loss: 0.7154 - val_accuracy: 0.5000\n",
      "Epoch 87/100\n",
      "2500/2500 [==============================] - 2s 622us/sample - loss: 0.6649 - accuracy: 0.5928 - val_loss: 0.7195 - val_accuracy: 0.5036\n",
      "Epoch 88/100\n",
      "2500/2500 [==============================] - 2s 619us/sample - loss: 0.6643 - accuracy: 0.6000 - val_loss: 0.7164 - val_accuracy: 0.5096\n",
      "Epoch 89/100\n",
      "2500/2500 [==============================] - 2s 615us/sample - loss: 0.6720 - accuracy: 0.5924 - val_loss: 0.7106 - val_accuracy: 0.5148\n",
      "Epoch 90/100\n",
      "2500/2500 [==============================] - 2s 615us/sample - loss: 0.6704 - accuracy: 0.5800 - val_loss: 0.7220 - val_accuracy: 0.4968\n",
      "Epoch 91/100\n",
      "2500/2500 [==============================] - 2s 632us/sample - loss: 0.6679 - accuracy: 0.5908 - val_loss: 0.7187 - val_accuracy: 0.4992\n",
      "Epoch 92/100\n",
      "2500/2500 [==============================] - 2s 625us/sample - loss: 0.6785 - accuracy: 0.5796 - val_loss: 0.7092 - val_accuracy: 0.5060\n",
      "Epoch 93/100\n",
      "2500/2500 [==============================] - 2s 617us/sample - loss: 0.6711 - accuracy: 0.5848 - val_loss: 0.7125 - val_accuracy: 0.5160\n",
      "Epoch 94/100\n",
      "2500/2500 [==============================] - 2s 617us/sample - loss: 0.6663 - accuracy: 0.5936 - val_loss: 0.7152 - val_accuracy: 0.5004\n",
      "Epoch 95/100\n",
      "2500/2500 [==============================] - 2s 617us/sample - loss: 0.6661 - accuracy: 0.6016 - val_loss: 0.7214 - val_accuracy: 0.4988\n",
      "Epoch 96/100\n",
      "2500/2500 [==============================] - 2s 619us/sample - loss: 0.6772 - accuracy: 0.5792 - val_loss: 0.7111 - val_accuracy: 0.5032\n",
      "Epoch 97/100\n",
      "2500/2500 [==============================] - 2s 617us/sample - loss: 0.6717 - accuracy: 0.5840 - val_loss: 0.7158 - val_accuracy: 0.5044\n",
      "Epoch 98/100\n",
      "2500/2500 [==============================] - 2s 613us/sample - loss: 0.6771 - accuracy: 0.5804 - val_loss: 0.7140 - val_accuracy: 0.4992\n",
      "Epoch 99/100\n",
      "2500/2500 [==============================] - 2s 613us/sample - loss: 0.6711 - accuracy: 0.5804 - val_loss: 0.7146 - val_accuracy: 0.4960\n",
      "Epoch 100/100\n",
      "2500/2500 [==============================] - 2s 612us/sample - loss: 0.6681 - accuracy: 0.5976 - val_loss: 0.7223 - val_accuracy: 0.4988\n"
     ]
    }
   ],
   "source": [
    "inputs = np.expand_dims(X, -1)\n",
    "\n",
    "# make LSTM\n",
    "_input = Input(shape=(T, D))\n",
    "x = GRU(5)(_input)\n",
    "x = Dense(1, activation=\"sigmoid\")(x)\n",
    "\n",
    "model = Model(_input, x)\n",
    "# compile\n",
    "model.compile(\n",
    "    loss=\"binary_crossentropy\",\n",
    "    optimizer=Adam(lr=0.01),\n",
    "    metrics=[\"accuracy\"]\n",
    ")\n",
    "\n",
    "# train\n",
    "r = model.fit(\n",
    "    inputs, Y,\n",
    "    epochs=100,\n",
    "    validation_split=0.5\n",
    ")"
   ]
  },
  {
   "cell_type": "code",
   "execution_count": 39,
   "metadata": {
    "ExecuteTime": {
     "end_time": "2020-03-20T13:06:41.262997Z",
     "start_time": "2020-03-20T13:06:40.971995Z"
    }
   },
   "outputs": [
    {
     "data": {
      "image/png": "[encoded data removed]",
      "text/plain": [
       "<Figure size 432x288 with 1 Axes>"
      ]
     },
     "metadata": {
      "needs_background": "light"
     },
     "output_type": "display_data"
    }
   ],
   "source": [
    "# plot loss per iteration\n",
    "plt.plot(r.history[\"loss\"], label=\"loss\")\n",
    "plt.plot(r.history[\"val_loss\"], label=\"val_loss\")\n",
    "plt.legend();"
   ]
  },
  {
   "cell_type": "code",
   "execution_count": 40,
   "metadata": {
    "ExecuteTime": {
     "end_time": "2020-03-20T13:06:42.909131Z",
     "start_time": "2020-03-20T13:06:42.628294Z"
    }
   },
   "outputs": [
    {
     "data": {
      "image/png": "[encoded data removed]",
      "text/plain": [
       "<Figure size 432x288 with 1 Axes>"
      ]
     },
     "metadata": {
      "needs_background": "light"
     },
     "output_type": "display_data"
    }
   ],
   "source": [
    "# plot loss per iteration\n",
    "plt.plot(r.history[\"accuracy\"], label=\"accuracy\")\n",
    "plt.plot(r.history[\"val_accuracy\"], label=\"val_accuracy\")\n",
    "plt.legend();"
   ]
  },
  {
   "cell_type": "code",
   "execution_count": null,
   "metadata": {},
   "outputs": [],
   "source": []
  },
  {
   "cell_type": "markdown",
   "metadata": {},
   "source": [
    "### LSTM with Sequence length 30"
   ]
  },
  {
   "cell_type": "code",
   "execution_count": 41,
   "metadata": {
    "ExecuteTime": {
     "end_time": "2020-03-20T13:08:11.622210Z",
     "start_time": "2020-03-20T13:08:11.564909Z"
    }
   },
   "outputs": [],
   "source": [
    "# Start with a small T and increase it later\n",
    "T = 30\n",
    "D = 1\n",
    "X = []\n",
    "Y = []\n",
    "\n",
    "def get_label(x, i1, i2, i3):\n",
    "    if x[i1] < 0 and x[i2] < 0 and x[i3] < 0:\n",
    "        return 1\n",
    "    if x[i1] < 0 and x[i2] > 0 and x[i3] > 0:\n",
    "        return 1\n",
    "    if x[i1] > 0 and x[i2] < 0 and x[i3] > 0:\n",
    "        return 1\n",
    "    if x[i1] < 0 and x[i2] > 0 and x[i3] < 0:\n",
    "        return 1\n",
    "    return 0\n",
    "\n",
    "for t in range(5000):\n",
    "    x = np.random.randn(T)\n",
    "    X.append(x)\n",
    "    # short distance\n",
    "    #y = get_label(x, -1, -2, -3)\n",
    "    # long distance\n",
    "    y = get_label(x, 0, 1, 2)\n",
    "    Y.append(y)\n",
    "    \n",
    "X = np.array(X)\n",
    "Y = np.array(Y)\n",
    "N = len(X)"
   ]
  },
  {
   "cell_type": "code",
   "execution_count": null,
   "metadata": {
    "ExecuteTime": {
     "start_time": "2020-03-20T13:10:06.397Z"
    },
    "scrolled": true
   },
   "outputs": [
    {
     "name": "stdout",
     "output_type": "stream",
     "text": [
      "Train on 2500 samples, validate on 2500 samples\n",
      "Epoch 1/100\n",
      "2500/2500 [==============================] - 4s 2ms/sample - loss: 0.6734 - accuracy: 0.5948 - val_loss: 0.6304 - val_accuracy: 0.6716\n",
      "Epoch 2/100\n",
      "2500/2500 [==============================] - 2s 731us/sample - loss: 0.5925 - accuracy: 0.6976 - val_loss: 0.5918 - val_accuracy: 0.7048\n",
      "Epoch 3/100\n",
      "2500/2500 [==============================] - 2s 769us/sample - loss: 0.5594 - accuracy: 0.7308 - val_loss: 0.5620 - val_accuracy: 0.7204\n",
      "Epoch 4/100\n",
      "2500/2500 [==============================] - 2s 782us/sample - loss: 0.5444 - accuracy: 0.7352 - val_loss: 0.5441 - val_accuracy: 0.7220\n",
      "Epoch 5/100\n",
      "2500/2500 [==============================] - 2s 783us/sample - loss: 0.5331 - accuracy: 0.7376 - val_loss: 0.5479 - val_accuracy: 0.7300\n",
      "Epoch 6/100\n",
      "2500/2500 [==============================] - 2s 764us/sample - loss: 0.5149 - accuracy: 0.7416 - val_loss: 0.5006 - val_accuracy: 0.7336\n",
      "Epoch 7/100\n",
      "2500/2500 [==============================] - 2s 766us/sample - loss: 0.4760 - accuracy: 0.7456 - val_loss: 0.4719 - val_accuracy: 0.7636\n",
      "Epoch 8/100\n",
      "2500/2500 [==============================] - 2s 756us/sample - loss: 0.4153 - accuracy: 0.8092 - val_loss: 0.4140 - val_accuracy: 0.7876\n",
      "Epoch 9/100\n",
      "2500/2500 [==============================] - 2s 752us/sample - loss: 0.3664 - accuracy: 0.8324 - val_loss: 0.3568 - val_accuracy: 0.8444\n",
      "Epoch 10/100\n",
      "2500/2500 [==============================] - 2s 754us/sample - loss: 0.3085 - accuracy: 0.8744 - val_loss: 0.3187 - val_accuracy: 0.8672\n",
      "Epoch 11/100\n",
      "2500/2500 [==============================] - 2s 768us/sample - loss: 0.2649 - accuracy: 0.9032 - val_loss: 0.2781 - val_accuracy: 0.8916\n",
      "Epoch 12/100\n",
      "2500/2500 [==============================] - 2s 767us/sample - loss: 0.2175 - accuracy: 0.9292 - val_loss: 0.2248 - val_accuracy: 0.9228\n",
      "Epoch 13/100\n",
      "2500/2500 [==============================] - 2s 761us/sample - loss: 0.1779 - accuracy: 0.9408 - val_loss: 0.1861 - val_accuracy: 0.9340\n",
      "Epoch 14/100\n",
      "2500/2500 [==============================] - 2s 757us/sample - loss: 0.1570 - accuracy: 0.9504 - val_loss: 0.1640 - val_accuracy: 0.9420\n",
      "Epoch 15/100\n",
      "2500/2500 [==============================] - 2s 749us/sample - loss: 0.1360 - accuracy: 0.9564 - val_loss: 0.1473 - val_accuracy: 0.9452\n",
      "Epoch 16/100\n",
      "2500/2500 [==============================] - 2s 750us/sample - loss: 0.1243 - accuracy: 0.9652 - val_loss: 0.1367 - val_accuracy: 0.9496\n",
      "Epoch 17/100\n",
      "2500/2500 [==============================] - 2s 744us/sample - loss: 0.1136 - accuracy: 0.9660 - val_loss: 0.1226 - val_accuracy: 0.9548\n",
      "Epoch 18/100\n",
      "2500/2500 [==============================] - 2s 747us/sample - loss: 0.1063 - accuracy: 0.9712 - val_loss: 0.1159 - val_accuracy: 0.9612\n",
      "Epoch 19/100\n",
      "2500/2500 [==============================] - 2s 743us/sample - loss: 0.0984 - accuracy: 0.9708 - val_loss: 0.1035 - val_accuracy: 0.9652\n",
      "Epoch 20/100\n",
      "2500/2500 [==============================] - 2s 771us/sample - loss: 0.0915 - accuracy: 0.9736 - val_loss: 0.0982 - val_accuracy: 0.9664\n",
      "Epoch 21/100\n",
      "2500/2500 [==============================] - 2s 769us/sample - loss: 0.0884 - accuracy: 0.9744 - val_loss: 0.0950 - val_accuracy: 0.9644\n",
      "Epoch 22/100\n",
      "2500/2500 [==============================] - 2s 776us/sample - loss: 0.0848 - accuracy: 0.9740 - val_loss: 0.0885 - val_accuracy: 0.9700\n",
      "Epoch 23/100\n",
      "2500/2500 [==============================] - 2s 770us/sample - loss: 0.0768 - accuracy: 0.9776 - val_loss: 0.0811 - val_accuracy: 0.9716\n",
      "Epoch 24/100\n",
      "2500/2500 [==============================] - 2s 774us/sample - loss: 0.0731 - accuracy: 0.9800 - val_loss: 0.0806 - val_accuracy: 0.9724\n",
      "Epoch 25/100\n",
      "2500/2500 [==============================] - 2s 770us/sample - loss: 0.0756 - accuracy: 0.9768 - val_loss: 0.0731 - val_accuracy: 0.9756\n",
      "Epoch 26/100\n",
      "2500/2500 [==============================] - 2s 761us/sample - loss: 0.0640 - accuracy: 0.9828 - val_loss: 0.0758 - val_accuracy: 0.9732\n",
      "Epoch 27/100\n",
      "2500/2500 [==============================] - 2s 774us/sample - loss: 0.0609 - accuracy: 0.9832 - val_loss: 0.0716 - val_accuracy: 0.9728\n",
      "Epoch 28/100\n",
      "2500/2500 [==============================] - 2s 767us/sample - loss: 0.0587 - accuracy: 0.9844 - val_loss: 0.0639 - val_accuracy: 0.9768\n",
      "Epoch 29/100\n",
      "2500/2500 [==============================] - 2s 765us/sample - loss: 0.0559 - accuracy: 0.9852 - val_loss: 0.0654 - val_accuracy: 0.9768\n",
      "Epoch 30/100\n",
      "2500/2500 [==============================] - 2s 761us/sample - loss: 0.0540 - accuracy: 0.9856 - val_loss: 0.0526 - val_accuracy: 0.9840\n",
      "Epoch 31/100\n",
      "2500/2500 [==============================] - 2s 753us/sample - loss: 0.0493 - accuracy: 0.9860 - val_loss: 0.0529 - val_accuracy: 0.9812\n",
      "Epoch 32/100\n",
      "2500/2500 [==============================] - 2s 757us/sample - loss: 0.0472 - accuracy: 0.9880 - val_loss: 0.0504 - val_accuracy: 0.9816\n",
      "Epoch 33/100\n",
      "2500/2500 [==============================] - 2s 750us/sample - loss: 0.0473 - accuracy: 0.9872 - val_loss: 0.0493 - val_accuracy: 0.9820\n",
      "Epoch 34/100\n",
      "2500/2500 [==============================] - 2s 754us/sample - loss: 0.0451 - accuracy: 0.9864 - val_loss: 0.0482 - val_accuracy: 0.9812\n",
      "Epoch 35/100\n",
      "2500/2500 [==============================] - 2s 759us/sample - loss: 0.0429 - accuracy: 0.9880 - val_loss: 0.0417 - val_accuracy: 0.9852\n",
      "Epoch 36/100\n",
      "2500/2500 [==============================] - 2s 755us/sample - loss: 0.0403 - accuracy: 0.9880 - val_loss: 0.0429 - val_accuracy: 0.9856\n",
      "Epoch 37/100\n",
      "2500/2500 [==============================] - 2s 749us/sample - loss: 0.0386 - accuracy: 0.9900 - val_loss: 0.0416 - val_accuracy: 0.9860\n",
      "Epoch 38/100\n",
      "2500/2500 [==============================] - 2s 762us/sample - loss: 0.0400 - accuracy: 0.9868 - val_loss: 0.0472 - val_accuracy: 0.9824\n",
      "Epoch 39/100\n",
      "2500/2500 [==============================] - 2s 756us/sample - loss: 0.0355 - accuracy: 0.9912 - val_loss: 0.0370 - val_accuracy: 0.9868\n",
      "Epoch 40/100\n",
      "2500/2500 [==============================] - 2s 777us/sample - loss: 0.0350 - accuracy: 0.9888 - val_loss: 0.0387 - val_accuracy: 0.9844\n",
      "Epoch 41/100\n",
      "2500/2500 [==============================] - 2s 754us/sample - loss: 0.0426 - accuracy: 0.9860 - val_loss: 0.0392 - val_accuracy: 0.9852\n",
      "Epoch 42/100\n",
      "2500/2500 [==============================] - 2s 722us/sample - loss: 0.0336 - accuracy: 0.9908 - val_loss: 0.0371 - val_accuracy: 0.9872\n",
      "Epoch 43/100\n",
      "2500/2500 [==============================] - 2s 713us/sample - loss: 0.0328 - accuracy: 0.9916 - val_loss: 0.0383 - val_accuracy: 0.9876\n",
      "Epoch 44/100\n",
      "2500/2500 [==============================] - 2s 724us/sample - loss: 0.0313 - accuracy: 0.9912 - val_loss: 0.0383 - val_accuracy: 0.9864\n",
      "Epoch 45/100\n",
      "2500/2500 [==============================] - 2s 728us/sample - loss: 0.0317 - accuracy: 0.9900 - val_loss: 0.0335 - val_accuracy: 0.9880\n",
      "Epoch 46/100\n",
      "2500/2500 [==============================] - 2s 729us/sample - loss: 0.0285 - accuracy: 0.9924 - val_loss: 0.0331 - val_accuracy: 0.9888\n",
      "Epoch 47/100\n",
      "2500/2500 [==============================] - 2s 712us/sample - loss: 0.0307 - accuracy: 0.9900 - val_loss: 0.0481 - val_accuracy: 0.9840\n",
      "Epoch 48/100\n",
      "2500/2500 [==============================] - 2s 722us/sample - loss: 0.0302 - accuracy: 0.9900 - val_loss: 0.0303 - val_accuracy: 0.9884\n",
      "Epoch 49/100\n",
      "2500/2500 [==============================] - 2s 721us/sample - loss: 0.0263 - accuracy: 0.9924 - val_loss: 0.0312 - val_accuracy: 0.9860\n",
      "Epoch 50/100\n",
      "2500/2500 [==============================] - 2s 715us/sample - loss: 0.0283 - accuracy: 0.9916 - val_loss: 0.0319 - val_accuracy: 0.9884\n",
      "Epoch 51/100\n",
      "2500/2500 [==============================] - 2s 712us/sample - loss: 0.0245 - accuracy: 0.9932 - val_loss: 0.0298 - val_accuracy: 0.9880\n",
      "Epoch 52/100\n",
      "2500/2500 [==============================] - 2s 722us/sample - loss: 0.0258 - accuracy: 0.9908 - val_loss: 0.0289 - val_accuracy: 0.9872\n",
      "Epoch 53/100\n",
      "2500/2500 [==============================] - 2s 710us/sample - loss: 0.0232 - accuracy: 0.9936 - val_loss: 0.0280 - val_accuracy: 0.9888\n",
      "Epoch 54/100\n",
      "2500/2500 [==============================] - 2s 713us/sample - loss: 0.0224 - accuracy: 0.9940 - val_loss: 0.0238 - val_accuracy: 0.9924\n",
      "Epoch 55/100\n"
     ]
    },
    {
     "name": "stdout",
     "output_type": "stream",
     "text": [
      "2500/2500 [==============================] - 2s 710us/sample - loss: 0.0211 - accuracy: 0.9940 - val_loss: 0.0234 - val_accuracy: 0.9912\n",
      "Epoch 56/100\n",
      "2500/2500 [==============================] - 2s 707us/sample - loss: 0.0209 - accuracy: 0.9920 - val_loss: 0.0258 - val_accuracy: 0.9896\n",
      "Epoch 57/100\n",
      "2500/2500 [==============================] - 2s 720us/sample - loss: 0.0205 - accuracy: 0.9948 - val_loss: 0.0232 - val_accuracy: 0.9924\n",
      "Epoch 58/100\n",
      "2500/2500 [==============================] - 2s 719us/sample - loss: 0.0190 - accuracy: 0.9940 - val_loss: 0.0219 - val_accuracy: 0.9920\n",
      "Epoch 59/100\n",
      "2500/2500 [==============================] - 2s 702us/sample - loss: 0.0171 - accuracy: 0.9940 - val_loss: 0.0220 - val_accuracy: 0.9916\n",
      "Epoch 60/100\n",
      "2500/2500 [==============================] - 2s 717us/sample - loss: 0.0177 - accuracy: 0.9956 - val_loss: 0.0208 - val_accuracy: 0.9924\n",
      "Epoch 61/100\n",
      "2500/2500 [==============================] - 43s 17ms/sample - loss: 0.0166 - accuracy: 0.9960 - val_loss: 0.0211 - val_accuracy: 0.9920\n",
      "Epoch 62/100\n",
      "2500/2500 [==============================] - 2s 913us/sample - loss: 0.0174 - accuracy: 0.9948 - val_loss: 0.0217 - val_accuracy: 0.9908\n",
      "Epoch 63/100\n",
      "2500/2500 [==============================] - 2s 787us/sample - loss: 0.0166 - accuracy: 0.9952 - val_loss: 0.0218 - val_accuracy: 0.9912\n",
      "Epoch 64/100\n",
      "2500/2500 [==============================] - 3s 1ms/sample - loss: 0.0208 - accuracy: 0.9936 - val_loss: 0.0251 - val_accuracy: 0.9892\n",
      "Epoch 65/100\n",
      "2500/2500 [==============================] - 2s 834us/sample - loss: 0.0160 - accuracy: 0.9956 - val_loss: 0.0209 - val_accuracy: 0.9920\n",
      "Epoch 66/100\n",
      "2500/2500 [==============================] - 2s 834us/sample - loss: 0.0165 - accuracy: 0.9936 - val_loss: 0.0196 - val_accuracy: 0.9928\n",
      "Epoch 67/100\n",
      "2500/2500 [==============================] - 2s 875us/sample - loss: 0.0154 - accuracy: 0.9968 - val_loss: 0.0187 - val_accuracy: 0.9928\n",
      "Epoch 68/100\n",
      "2500/2500 [==============================] - 2s 755us/sample - loss: 0.0138 - accuracy: 0.9964 - val_loss: 0.0193 - val_accuracy: 0.9924\n",
      "Epoch 69/100\n",
      "2500/2500 [==============================] - 2s 772us/sample - loss: 0.0133 - accuracy: 0.9960 - val_loss: 0.0182 - val_accuracy: 0.9920\n",
      "Epoch 70/100\n",
      "2500/2500 [==============================] - 2s 963us/sample - loss: 0.0140 - accuracy: 0.9952 - val_loss: 0.0173 - val_accuracy: 0.9928\n",
      "Epoch 71/100\n",
      "2500/2500 [==============================] - 2s 803us/sample - loss: 0.0124 - accuracy: 0.9964 - val_loss: 0.0162 - val_accuracy: 0.9924\n",
      "Epoch 72/100\n",
      "2500/2500 [==============================] - 2s 760us/sample - loss: 0.0132 - accuracy: 0.9956 - val_loss: 0.0206 - val_accuracy: 0.9928\n",
      "Epoch 73/100\n",
      "2500/2500 [==============================] - 2s 733us/sample - loss: 0.0172 - accuracy: 0.9948 - val_loss: 0.0178 - val_accuracy: 0.9924\n",
      "Epoch 74/100\n",
      "2500/2500 [==============================] - 2s 728us/sample - loss: 0.0128 - accuracy: 0.9960 - val_loss: 0.0146 - val_accuracy: 0.9944\n",
      "Epoch 75/100\n",
      "2500/2500 [==============================] - 2s 865us/sample - loss: 0.0162 - accuracy: 0.9948 - val_loss: 0.0204 - val_accuracy: 0.9908\n",
      "Epoch 76/100\n",
      "2500/2500 [==============================] - 2s 836us/sample - loss: 0.0158 - accuracy: 0.9940 - val_loss: 0.0201 - val_accuracy: 0.9920\n",
      "Epoch 77/100\n",
      "2500/2500 [==============================] - 2s 811us/sample - loss: 0.0121 - accuracy: 0.9960 - val_loss: 0.0159 - val_accuracy: 0.9928\n",
      "Epoch 78/100\n",
      "2500/2500 [==============================] - 2s 741us/sample - loss: 0.0117 - accuracy: 0.9968 - val_loss: 0.0142 - val_accuracy: 0.9936\n",
      "Epoch 79/100\n",
      "2500/2500 [==============================] - 2s 756us/sample - loss: 0.0119 - accuracy: 0.9968 - val_loss: 0.0153 - val_accuracy: 0.9944\n"
     ]
    }
   ],
   "source": [
    "inputs = np.expand_dims(X, -1)\n",
    "\n",
    "# make LSTM\n",
    "_input = Input(shape=(T, D))\n",
    "x = LSTM(5, return_sequences=True)(_input)\n",
    "x = GlobalMaxPooling1D()(x)\n",
    "x = Dense(1, activation=\"sigmoid\")(x)\n",
    "\n",
    "model = Model(_input, x)\n",
    "# compile\n",
    "model.compile(\n",
    "    loss=\"binary_crossentropy\",\n",
    "    optimizer=Adam(lr=0.01),\n",
    "    metrics=[\"accuracy\"]\n",
    ")\n",
    "\n",
    "# train\n",
    "r = model.fit(\n",
    "    inputs, Y,\n",
    "    epochs=100,\n",
    "    validation_split=0.5\n",
    ")"
   ]
  },
  {
   "cell_type": "code",
   "execution_count": 36,
   "metadata": {
    "ExecuteTime": {
     "end_time": "2020-03-20T13:03:20.799856Z",
     "start_time": "2020-03-20T13:03:20.505675Z"
    }
   },
   "outputs": [
    {
     "data": {
      "image/png": "[encoded data removed]",
      "text/plain": [
       "<Figure size 432x288 with 1 Axes>"
      ]
     },
     "metadata": {
      "needs_background": "light"
     },
     "output_type": "display_data"
    }
   ],
   "source": [
    "# plot loss per iteration\n",
    "plt.plot(r.history[\"loss\"], label=\"loss\")\n",
    "plt.plot(r.history[\"val_loss\"], label=\"val_loss\")\n",
    "plt.legend();"
   ]
  },
  {
   "cell_type": "code",
   "execution_count": 37,
   "metadata": {
    "ExecuteTime": {
     "end_time": "2020-03-20T13:03:22.732099Z",
     "start_time": "2020-03-20T13:03:22.449282Z"
    }
   },
   "outputs": [
    {
     "data": {
      "image/png": "[encoded data removed]",
      "text/plain": [
       "<Figure size 432x288 with 1 Axes>"
      ]
     },
     "metadata": {
      "needs_background": "light"
     },
     "output_type": "display_data"
    }
   ],
   "source": [
    "# plot loss per iteration\n",
    "plt.plot(r.history[\"accuracy\"], label=\"accuracy\")\n",
    "plt.plot(r.history[\"val_accuracy\"], label=\"val_accuracy\")\n",
    "plt.legend();"
   ]
  },
  {
   "cell_type": "code",
   "execution_count": 34,
   "metadata": {
    "ExecuteTime": {
     "end_time": "2020-03-20T13:01:12.315474Z",
     "start_time": "2020-03-20T13:01:12.279726Z"
    }
   },
   "outputs": [],
   "source": []
  }
 ],
 "metadata": {
  "kernelspec": {
   "display_name": "Python [conda env:py36] *",
   "language": "python",
   "name": "conda-env-py36-py"
  },
  "language_info": {
   "codemirror_mode": {
    "name": "ipython",
    "version": 3
   },
   "file_extension": ".py",
   "mimetype": "text/x-python",
   "name": "python",
   "nbconvert_exporter": "python",
   "pygments_lexer": "ipython3",
   "version": "3.6.8"
  },
  "latex_envs": {
   "LaTeX_envs_menu_present": true,
   "autoclose": false,
   "autocomplete": true,
   "bibliofile": "biblio.bib",
   "cite_by": "apalike",
   "current_citInitial": 1,
   "eqLabelWithNumbers": true,
   "eqNumInitial": 1,
   "hotkeys": {
    "equation": "Ctrl-E",
    "itemize": "Ctrl-I"
   },
   "labels_anchors": false,
   "latex_user_defs": false,
   "report_style_numbering": false,
   "user_envs_cfg": false
  }
 },
 "nbformat": 4,
 "nbformat_minor": 2
}
