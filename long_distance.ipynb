{
 "cells": [
  {
   "cell_type": "code",
   "execution_count": 1,
   "metadata": {
    "ExecuteTime": {
     "end_time": "2020-03-20T12:35:28.688065Z",
     "start_time": "2020-03-20T12:35:25.336474Z"
    }
   },
   "outputs": [],
   "source": [
    "from tensorflow.keras.layers import Input, Dense, SimpleRNN, Flatten, GRU, LSTM\n",
    "from tensorflow.keras.models import Model\n",
    "from tensorflow.keras.optimizers import SGD, Adam\n",
    "\n",
    "import numpy as np\n",
    "import pandas as pd\n",
    "import matplotlib.pyplot as plt\n",
    "%matplotlib inline\n"
   ]
  },
  {
   "cell_type": "code",
   "execution_count": 11,
   "metadata": {
    "ExecuteTime": {
     "end_time": "2020-03-20T12:41:36.307109Z",
     "start_time": "2020-03-20T12:41:36.301603Z"
    }
   },
   "outputs": [],
   "source": [
    "### build the dataset\n",
    "# This is a nonlinear AND long-distance dataset\n",
    "# (Actually, we will test long-distance vs. short-distance patterns)\n",
    "\n",
    "# Start with a small T and increase it later\n",
    "T = 10\n",
    "D = 1\n",
    "X = []\n",
    "Y = []\n",
    "\n",
    "\n",
    "def get_label(x, i1, i2, i3):\n",
    "    \n",
    "    if x[i1] < 0 and x[i2] < 0 and x[i3] < 0:\n",
    "        return 1\n",
    "    \n",
    "    if x[i1] < 0 and x[i2] > 0 and x[i3] > 0:\n",
    "        return 1\n",
    "    \n",
    "    if x[i1] > 0 and x[i2] < 0 and x[i3] > 0:\n",
    "        return 1\n",
    "    \n",
    "    if x[i1] < 0 and x[i2] > 0 and x[i3] < 0:\n",
    "        return 1\n",
    "    return 0"
   ]
  },
  {
   "cell_type": "code",
   "execution_count": 15,
   "metadata": {
    "ExecuteTime": {
     "end_time": "2020-03-20T12:43:58.949518Z",
     "start_time": "2020-03-20T12:43:58.919747Z"
    }
   },
   "outputs": [],
   "source": [
    "for t in range(5000):\n",
    "\n",
    "    x = np.random.randn(T)\n",
    "    X.append(x)\n",
    "    \n",
    "    # short distance\n",
    "    y = get_label(x, -1, -2, -3)\n",
    "    # long distance\n",
    "    # y = get_label(x, 0, 1, 2)\n",
    "    Y.append(y)\n",
    "    \n",
    "X = np.array(X)\n",
    "Y = np.array(Y)\n",
    "N = len(X)"
   ]
  },
  {
   "cell_type": "markdown",
   "metadata": {
    "heading_collapsed": true
   },
   "source": [
    "## SHORT DISTANCE MODE"
   ]
  },
  {
   "cell_type": "markdown",
   "metadata": {
    "ExecuteTime": {
     "end_time": "2020-03-20T12:41:37.560940Z",
     "start_time": "2020-03-20T12:41:37.557034Z"
    },
    "heading_collapsed": true,
    "hidden": true
   },
   "source": [
    "### Linear Model"
   ]
  },
  {
   "cell_type": "code",
   "execution_count": 16,
   "metadata": {
    "ExecuteTime": {
     "end_time": "2020-03-20T12:46:55.412460Z",
     "start_time": "2020-03-20T12:46:43.658316Z"
    },
    "collapsed": true,
    "hidden": true
   },
   "outputs": [
    {
     "name": "stdout",
     "output_type": "stream",
     "text": [
      "Train on 2500 samples, validate on 2500 samples\n",
      "Epoch 1/100\n",
      "2500/2500 [==============================] - 0s 152us/sample - loss: 0.8159 - accuracy: 0.5048 - val_loss: 0.6621 - val_accuracy: 0.6076\n",
      "Epoch 2/100\n",
      "2500/2500 [==============================] - 0s 43us/sample - loss: 0.6279 - accuracy: 0.7056 - val_loss: 0.6134 - val_accuracy: 0.7232\n",
      "Epoch 3/100\n",
      "2500/2500 [==============================] - 0s 41us/sample - loss: 0.6032 - accuracy: 0.7364 - val_loss: 0.6068 - val_accuracy: 0.7368\n",
      "Epoch 4/100\n",
      "2500/2500 [==============================] - 0s 42us/sample - loss: 0.5996 - accuracy: 0.7380 - val_loss: 0.6068 - val_accuracy: 0.7380\n",
      "Epoch 5/100\n",
      "2500/2500 [==============================] - 0s 41us/sample - loss: 0.5993 - accuracy: 0.7384 - val_loss: 0.6073 - val_accuracy: 0.7408\n",
      "Epoch 6/100\n",
      "2500/2500 [==============================] - 0s 44us/sample - loss: 0.5997 - accuracy: 0.7440 - val_loss: 0.6073 - val_accuracy: 0.7360\n",
      "Epoch 7/100\n",
      "2500/2500 [==============================] - 0s 48us/sample - loss: 0.5998 - accuracy: 0.7384 - val_loss: 0.6074 - val_accuracy: 0.7344\n",
      "Epoch 8/100\n",
      "2500/2500 [==============================] - 0s 45us/sample - loss: 0.5995 - accuracy: 0.7400 - val_loss: 0.6069 - val_accuracy: 0.7416\n",
      "Epoch 9/100\n",
      "2500/2500 [==============================] - 0s 42us/sample - loss: 0.5993 - accuracy: 0.7416 - val_loss: 0.6073 - val_accuracy: 0.7348\n",
      "Epoch 10/100\n",
      "2500/2500 [==============================] - 0s 43us/sample - loss: 0.5988 - accuracy: 0.7388 - val_loss: 0.6071 - val_accuracy: 0.7424\n",
      "Epoch 11/100\n",
      "2500/2500 [==============================] - 0s 44us/sample - loss: 0.5991 - accuracy: 0.7412 - val_loss: 0.6077 - val_accuracy: 0.7332\n",
      "Epoch 12/100\n",
      "2500/2500 [==============================] - 0s 43us/sample - loss: 0.5997 - accuracy: 0.7412 - val_loss: 0.6069 - val_accuracy: 0.7356\n",
      "Epoch 13/100\n",
      "2500/2500 [==============================] - 0s 41us/sample - loss: 0.5993 - accuracy: 0.7420 - val_loss: 0.6068 - val_accuracy: 0.7428\n",
      "Epoch 14/100\n",
      "2500/2500 [==============================] - 0s 41us/sample - loss: 0.6001 - accuracy: 0.7404 - val_loss: 0.6085 - val_accuracy: 0.7348\n",
      "Epoch 15/100\n",
      "2500/2500 [==============================] - 0s 40us/sample - loss: 0.5995 - accuracy: 0.7416 - val_loss: 0.6074 - val_accuracy: 0.7384\n",
      "Epoch 16/100\n",
      "2500/2500 [==============================] - 0s 41us/sample - loss: 0.5996 - accuracy: 0.7432 - val_loss: 0.6084 - val_accuracy: 0.7352\n",
      "Epoch 17/100\n",
      "2500/2500 [==============================] - 0s 42us/sample - loss: 0.5988 - accuracy: 0.7460 - val_loss: 0.6074 - val_accuracy: 0.7392\n",
      "Epoch 18/100\n",
      "2500/2500 [==============================] - 0s 42us/sample - loss: 0.5992 - accuracy: 0.7376 - val_loss: 0.6076 - val_accuracy: 0.7300\n",
      "Epoch 19/100\n",
      "2500/2500 [==============================] - 0s 42us/sample - loss: 0.5997 - accuracy: 0.7400 - val_loss: 0.6064 - val_accuracy: 0.7456\n",
      "Epoch 20/100\n",
      "2500/2500 [==============================] - 0s 41us/sample - loss: 0.6000 - accuracy: 0.7356 - val_loss: 0.6084 - val_accuracy: 0.7344\n",
      "Epoch 21/100\n",
      "2500/2500 [==============================] - 0s 46us/sample - loss: 0.6002 - accuracy: 0.7416 - val_loss: 0.6074 - val_accuracy: 0.7416\n",
      "Epoch 22/100\n",
      "2500/2500 [==============================] - 0s 41us/sample - loss: 0.6000 - accuracy: 0.7368 - val_loss: 0.6074 - val_accuracy: 0.7360\n",
      "Epoch 23/100\n",
      "2500/2500 [==============================] - 0s 42us/sample - loss: 0.6005 - accuracy: 0.7396 - val_loss: 0.6062 - val_accuracy: 0.7436\n",
      "Epoch 24/100\n",
      "2500/2500 [==============================] - 0s 41us/sample - loss: 0.5992 - accuracy: 0.7420 - val_loss: 0.6071 - val_accuracy: 0.7380\n",
      "Epoch 25/100\n",
      "2500/2500 [==============================] - 0s 40us/sample - loss: 0.5994 - accuracy: 0.7368 - val_loss: 0.6060 - val_accuracy: 0.7404\n",
      "Epoch 26/100\n",
      "2500/2500 [==============================] - 0s 41us/sample - loss: 0.5994 - accuracy: 0.7440 - val_loss: 0.6065 - val_accuracy: 0.7436\n",
      "Epoch 27/100\n",
      "2500/2500 [==============================] - 0s 41us/sample - loss: 0.5996 - accuracy: 0.7472 - val_loss: 0.6069 - val_accuracy: 0.7352\n",
      "Epoch 28/100\n",
      "2500/2500 [==============================] - 0s 41us/sample - loss: 0.5995 - accuracy: 0.7432 - val_loss: 0.6063 - val_accuracy: 0.7396\n",
      "Epoch 29/100\n",
      "2500/2500 [==============================] - 0s 40us/sample - loss: 0.5992 - accuracy: 0.7352 - val_loss: 0.6075 - val_accuracy: 0.7368\n",
      "Epoch 30/100\n",
      "2500/2500 [==============================] - 0s 42us/sample - loss: 0.5993 - accuracy: 0.7392 - val_loss: 0.6072 - val_accuracy: 0.7384\n",
      "Epoch 31/100\n",
      "2500/2500 [==============================] - 0s 43us/sample - loss: 0.5992 - accuracy: 0.7432 - val_loss: 0.6080 - val_accuracy: 0.7328\n",
      "Epoch 32/100\n",
      "2500/2500 [==============================] - 0s 45us/sample - loss: 0.6002 - accuracy: 0.7356 - val_loss: 0.6083 - val_accuracy: 0.7332\n",
      "Epoch 33/100\n",
      "2500/2500 [==============================] - 0s 47us/sample - loss: 0.5995 - accuracy: 0.7432 - val_loss: 0.6076 - val_accuracy: 0.7436\n",
      "Epoch 34/100\n",
      "2500/2500 [==============================] - 0s 41us/sample - loss: 0.6016 - accuracy: 0.7440 - val_loss: 0.6070 - val_accuracy: 0.7428\n",
      "Epoch 35/100\n",
      "2500/2500 [==============================] - 0s 41us/sample - loss: 0.5997 - accuracy: 0.7392 - val_loss: 0.6077 - val_accuracy: 0.7372\n",
      "Epoch 36/100\n",
      "2500/2500 [==============================] - 0s 48us/sample - loss: 0.5995 - accuracy: 0.7360 - val_loss: 0.6076 - val_accuracy: 0.7364\n",
      "Epoch 37/100\n",
      "2500/2500 [==============================] - 0s 42us/sample - loss: 0.5993 - accuracy: 0.7404 - val_loss: 0.6070 - val_accuracy: 0.7372\n",
      "Epoch 38/100\n",
      "2500/2500 [==============================] - 0s 42us/sample - loss: 0.5996 - accuracy: 0.7408 - val_loss: 0.6079 - val_accuracy: 0.7340\n",
      "Epoch 39/100\n",
      "2500/2500 [==============================] - 0s 45us/sample - loss: 0.5995 - accuracy: 0.7408 - val_loss: 0.6069 - val_accuracy: 0.7364\n",
      "Epoch 40/100\n",
      "2500/2500 [==============================] - 0s 42us/sample - loss: 0.5994 - accuracy: 0.7392 - val_loss: 0.6070 - val_accuracy: 0.7364\n",
      "Epoch 41/100\n",
      "2500/2500 [==============================] - 0s 42us/sample - loss: 0.5999 - accuracy: 0.7424 - val_loss: 0.6075 - val_accuracy: 0.7360\n",
      "Epoch 42/100\n",
      "2500/2500 [==============================] - 0s 41us/sample - loss: 0.5997 - accuracy: 0.7356 - val_loss: 0.6088 - val_accuracy: 0.7252\n",
      "Epoch 43/100\n",
      "2500/2500 [==============================] - 0s 41us/sample - loss: 0.5995 - accuracy: 0.7416 - val_loss: 0.6074 - val_accuracy: 0.7352\n",
      "Epoch 44/100\n",
      "2500/2500 [==============================] - 0s 46us/sample - loss: 0.5992 - accuracy: 0.7464 - val_loss: 0.6079 - val_accuracy: 0.7396\n",
      "Epoch 45/100\n",
      "2500/2500 [==============================] - 0s 45us/sample - loss: 0.5996 - accuracy: 0.7388 - val_loss: 0.6063 - val_accuracy: 0.7448\n",
      "Epoch 46/100\n",
      "2500/2500 [==============================] - 0s 48us/sample - loss: 0.5995 - accuracy: 0.7392 - val_loss: 0.6068 - val_accuracy: 0.7372\n",
      "Epoch 47/100\n",
      "2500/2500 [==============================] - 0s 44us/sample - loss: 0.6000 - accuracy: 0.7392 - val_loss: 0.6069 - val_accuracy: 0.7444\n",
      "Epoch 48/100\n",
      "2500/2500 [==============================] - 0s 42us/sample - loss: 0.5997 - accuracy: 0.7388 - val_loss: 0.6083 - val_accuracy: 0.7388\n",
      "Epoch 49/100\n",
      "2500/2500 [==============================] - 0s 42us/sample - loss: 0.5992 - accuracy: 0.7444 - val_loss: 0.6072 - val_accuracy: 0.7368\n",
      "Epoch 50/100\n",
      "2500/2500 [==============================] - 0s 41us/sample - loss: 0.6002 - accuracy: 0.7432 - val_loss: 0.6077 - val_accuracy: 0.7360\n",
      "Epoch 51/100\n",
      "2500/2500 [==============================] - 0s 41us/sample - loss: 0.5995 - accuracy: 0.7352 - val_loss: 0.6072 - val_accuracy: 0.7296\n",
      "Epoch 52/100\n",
      "2500/2500 [==============================] - 0s 40us/sample - loss: 0.5995 - accuracy: 0.7448 - val_loss: 0.6067 - val_accuracy: 0.7396\n",
      "Epoch 53/100\n",
      "2500/2500 [==============================] - 0s 42us/sample - loss: 0.6000 - accuracy: 0.7404 - val_loss: 0.6069 - val_accuracy: 0.7400\n",
      "Epoch 54/100\n",
      "2500/2500 [==============================] - 0s 45us/sample - loss: 0.6001 - accuracy: 0.7460 - val_loss: 0.6078 - val_accuracy: 0.7352\n",
      "Epoch 55/100\n",
      "2500/2500 [==============================] - 0s 42us/sample - loss: 0.5997 - accuracy: 0.7400 - val_loss: 0.6073 - val_accuracy: 0.7268\n"
     ]
    },
    {
     "name": "stdout",
     "output_type": "stream",
     "text": [
      "Epoch 56/100\n",
      "2500/2500 [==============================] - 0s 41us/sample - loss: 0.6002 - accuracy: 0.7340 - val_loss: 0.6076 - val_accuracy: 0.7340\n",
      "Epoch 57/100\n",
      "2500/2500 [==============================] - 0s 40us/sample - loss: 0.5993 - accuracy: 0.7444 - val_loss: 0.6068 - val_accuracy: 0.7348\n",
      "Epoch 58/100\n",
      "2500/2500 [==============================] - 0s 42us/sample - loss: 0.5996 - accuracy: 0.7328 - val_loss: 0.6070 - val_accuracy: 0.7344\n",
      "Epoch 59/100\n",
      "2500/2500 [==============================] - 0s 50us/sample - loss: 0.5994 - accuracy: 0.7368 - val_loss: 0.6068 - val_accuracy: 0.7344\n",
      "Epoch 60/100\n",
      "2500/2500 [==============================] - 0s 44us/sample - loss: 0.5992 - accuracy: 0.7376 - val_loss: 0.6073 - val_accuracy: 0.7348\n",
      "Epoch 61/100\n",
      "2500/2500 [==============================] - 0s 43us/sample - loss: 0.5998 - accuracy: 0.7332 - val_loss: 0.6074 - val_accuracy: 0.7440\n",
      "Epoch 62/100\n",
      "2500/2500 [==============================] - 0s 43us/sample - loss: 0.6000 - accuracy: 0.7460 - val_loss: 0.6067 - val_accuracy: 0.7420\n",
      "Epoch 63/100\n",
      "2500/2500 [==============================] - 0s 43us/sample - loss: 0.5992 - accuracy: 0.7424 - val_loss: 0.6069 - val_accuracy: 0.7400\n",
      "Epoch 64/100\n",
      "2500/2500 [==============================] - 0s 43us/sample - loss: 0.6000 - accuracy: 0.7436 - val_loss: 0.6082 - val_accuracy: 0.7276\n",
      "Epoch 65/100\n",
      "2500/2500 [==============================] - 0s 42us/sample - loss: 0.6007 - accuracy: 0.7356 - val_loss: 0.6084 - val_accuracy: 0.7308\n",
      "Epoch 66/100\n",
      "2500/2500 [==============================] - 0s 42us/sample - loss: 0.5992 - accuracy: 0.7400 - val_loss: 0.6069 - val_accuracy: 0.7340\n",
      "Epoch 67/100\n",
      "2500/2500 [==============================] - 0s 46us/sample - loss: 0.5995 - accuracy: 0.7388 - val_loss: 0.6073 - val_accuracy: 0.7416\n",
      "Epoch 68/100\n",
      "2500/2500 [==============================] - 0s 50us/sample - loss: 0.5999 - accuracy: 0.7448 - val_loss: 0.6069 - val_accuracy: 0.7328\n",
      "Epoch 69/100\n",
      "2500/2500 [==============================] - 0s 47us/sample - loss: 0.6009 - accuracy: 0.7348 - val_loss: 0.6070 - val_accuracy: 0.7332\n",
      "Epoch 70/100\n",
      "2500/2500 [==============================] - 0s 53us/sample - loss: 0.5995 - accuracy: 0.7424 - val_loss: 0.6070 - val_accuracy: 0.7384\n",
      "Epoch 71/100\n",
      "2500/2500 [==============================] - 0s 52us/sample - loss: 0.5991 - accuracy: 0.7396 - val_loss: 0.6075 - val_accuracy: 0.7420\n",
      "Epoch 72/100\n",
      "2500/2500 [==============================] - 0s 50us/sample - loss: 0.6002 - accuracy: 0.7484 - val_loss: 0.6076 - val_accuracy: 0.7332\n",
      "Epoch 73/100\n",
      "2500/2500 [==============================] - 0s 50us/sample - loss: 0.6000 - accuracy: 0.7416 - val_loss: 0.6070 - val_accuracy: 0.7376\n",
      "Epoch 74/100\n",
      "2500/2500 [==============================] - 0s 45us/sample - loss: 0.5991 - accuracy: 0.7464 - val_loss: 0.6070 - val_accuracy: 0.7388\n",
      "Epoch 75/100\n",
      "2500/2500 [==============================] - 0s 47us/sample - loss: 0.5992 - accuracy: 0.7400 - val_loss: 0.6063 - val_accuracy: 0.7432\n",
      "Epoch 76/100\n",
      "2500/2500 [==============================] - 0s 52us/sample - loss: 0.5990 - accuracy: 0.7404 - val_loss: 0.6071 - val_accuracy: 0.7376\n",
      "Epoch 77/100\n",
      "2500/2500 [==============================] - 0s 52us/sample - loss: 0.6001 - accuracy: 0.7420 - val_loss: 0.6073 - val_accuracy: 0.7388\n",
      "Epoch 78/100\n",
      "2500/2500 [==============================] - 0s 48us/sample - loss: 0.5990 - accuracy: 0.7408 - val_loss: 0.6073 - val_accuracy: 0.7364\n",
      "Epoch 79/100\n",
      "2500/2500 [==============================] - 0s 45us/sample - loss: 0.5992 - accuracy: 0.7388 - val_loss: 0.6075 - val_accuracy: 0.7424\n",
      "Epoch 80/100\n",
      "2500/2500 [==============================] - 0s 43us/sample - loss: 0.5999 - accuracy: 0.7368 - val_loss: 0.6073 - val_accuracy: 0.7400\n",
      "Epoch 81/100\n",
      "2500/2500 [==============================] - 0s 46us/sample - loss: 0.6007 - accuracy: 0.7424 - val_loss: 0.6070 - val_accuracy: 0.7424\n",
      "Epoch 82/100\n",
      "2500/2500 [==============================] - 0s 47us/sample - loss: 0.5994 - accuracy: 0.7428 - val_loss: 0.6066 - val_accuracy: 0.7460\n",
      "Epoch 83/100\n",
      "2500/2500 [==============================] - 0s 43us/sample - loss: 0.5989 - accuracy: 0.7428 - val_loss: 0.6073 - val_accuracy: 0.7388\n",
      "Epoch 84/100\n",
      "2500/2500 [==============================] - 0s 44us/sample - loss: 0.5990 - accuracy: 0.7428 - val_loss: 0.6063 - val_accuracy: 0.7392\n",
      "Epoch 85/100\n",
      "2500/2500 [==============================] - 0s 52us/sample - loss: 0.5997 - accuracy: 0.7348 - val_loss: 0.6073 - val_accuracy: 0.7460\n",
      "Epoch 86/100\n",
      "2500/2500 [==============================] - 0s 56us/sample - loss: 0.5994 - accuracy: 0.7440 - val_loss: 0.6063 - val_accuracy: 0.7408\n",
      "Epoch 87/100\n",
      "2500/2500 [==============================] - 0s 50us/sample - loss: 0.5992 - accuracy: 0.7392 - val_loss: 0.6083 - val_accuracy: 0.7312\n",
      "Epoch 88/100\n",
      "2500/2500 [==============================] - 0s 58us/sample - loss: 0.5987 - accuracy: 0.7404 - val_loss: 0.6067 - val_accuracy: 0.7396\n",
      "Epoch 89/100\n",
      "2500/2500 [==============================] - 0s 62us/sample - loss: 0.5998 - accuracy: 0.7360 - val_loss: 0.6073 - val_accuracy: 0.7380\n",
      "Epoch 90/100\n",
      "2500/2500 [==============================] - 0s 51us/sample - loss: 0.5997 - accuracy: 0.7420 - val_loss: 0.6075 - val_accuracy: 0.7452\n",
      "Epoch 91/100\n",
      "2500/2500 [==============================] - 0s 52us/sample - loss: 0.5997 - accuracy: 0.7432 - val_loss: 0.6071 - val_accuracy: 0.7376\n",
      "Epoch 92/100\n",
      "2500/2500 [==============================] - 0s 51us/sample - loss: 0.5992 - accuracy: 0.7424 - val_loss: 0.6072 - val_accuracy: 0.7368\n",
      "Epoch 93/100\n",
      "2500/2500 [==============================] - 0s 52us/sample - loss: 0.5990 - accuracy: 0.7392 - val_loss: 0.6078 - val_accuracy: 0.7344\n",
      "Epoch 94/100\n",
      "2500/2500 [==============================] - 0s 52us/sample - loss: 0.5994 - accuracy: 0.7460 - val_loss: 0.6075 - val_accuracy: 0.7372\n",
      "Epoch 95/100\n",
      "2500/2500 [==============================] - 0s 50us/sample - loss: 0.6001 - accuracy: 0.7408 - val_loss: 0.6072 - val_accuracy: 0.7364\n",
      "Epoch 96/100\n",
      "2500/2500 [==============================] - 0s 50us/sample - loss: 0.5994 - accuracy: 0.7456 - val_loss: 0.6084 - val_accuracy: 0.7340\n",
      "Epoch 97/100\n",
      "2500/2500 [==============================] - 0s 50us/sample - loss: 0.5996 - accuracy: 0.7348 - val_loss: 0.6076 - val_accuracy: 0.7372\n",
      "Epoch 98/100\n",
      "2500/2500 [==============================] - 0s 51us/sample - loss: 0.5991 - accuracy: 0.7416 - val_loss: 0.6079 - val_accuracy: 0.7396\n",
      "Epoch 99/100\n",
      "2500/2500 [==============================] - 0s 50us/sample - loss: 0.5994 - accuracy: 0.7460 - val_loss: 0.6069 - val_accuracy: 0.7356\n",
      "Epoch 100/100\n",
      "2500/2500 [==============================] - 0s 52us/sample - loss: 0.5992 - accuracy: 0.7392 - val_loss: 0.6081 - val_accuracy: 0.7344\n"
     ]
    }
   ],
   "source": [
    "_input = Input(shape=(T, ))\n",
    "x = Dense(1, activation=\"sigmoid\")(_input)\n",
    "\n",
    "# init\n",
    "model = Model(_input, x)\n",
    "\n",
    "# compile\n",
    "model.compile(\n",
    "    loss=\"binary_crossentropy\",\n",
    "    optimizer=Adam(lr=0.01),\n",
    "    metrics=[\"accuracy\"]\n",
    ")\n",
    "\n",
    "# train\n",
    "r = model.fit(\n",
    "    X, Y,\n",
    "    epochs=100,\n",
    "    validation_split=0.5\n",
    ")"
   ]
  },
  {
   "cell_type": "code",
   "execution_count": 19,
   "metadata": {
    "ExecuteTime": {
     "end_time": "2020-03-20T12:48:21.417225Z",
     "start_time": "2020-03-20T12:48:21.275083Z"
    },
    "hidden": true
   },
   "outputs": [
    {
     "data": {
      "image/png": "[encoded data removed]",
      "text/plain": [
       "<Figure size 432x288 with 1 Axes>"
      ]
     },
     "metadata": {
      "needs_background": "light"
     },
     "output_type": "display_data"
    }
   ],
   "source": [
    "# plot loss per iteration\n",
    "plt.plot(r.history[\"loss\"], label=\"loss\")\n",
    "plt.plot(r.history[\"val_loss\"], label=\"val_loss\")\n",
    "plt.legend();"
   ]
  },
  {
   "cell_type": "code",
   "execution_count": 20,
   "metadata": {
    "ExecuteTime": {
     "end_time": "2020-03-20T12:48:24.250480Z",
     "start_time": "2020-03-20T12:48:24.100945Z"
    },
    "hidden": true
   },
   "outputs": [
    {
     "data": {
      "image/png": "[encoded data removed]",
      "text/plain": [
       "<Figure size 432x288 with 1 Axes>"
      ]
     },
     "metadata": {
      "needs_background": "light"
     },
     "output_type": "display_data"
    }
   ],
   "source": [
    "# plot loss per iteration\n",
    "plt.plot(r.history[\"accuracy\"], label=\"accuracy\")\n",
    "plt.plot(r.history[\"val_accuracy\"], label=\"val_accuracy\")\n",
    "plt.legend();"
   ]
  },
  {
   "cell_type": "markdown",
   "metadata": {
    "heading_collapsed": true,
    "hidden": true
   },
   "source": [
    "### Simple RNN"
   ]
  },
  {
   "cell_type": "code",
   "execution_count": 24,
   "metadata": {
    "ExecuteTime": {
     "end_time": "2020-03-20T12:53:28.206673Z",
     "start_time": "2020-03-20T12:52:58.143703Z"
    },
    "collapsed": true,
    "hidden": true
   },
   "outputs": [
    {
     "name": "stdout",
     "output_type": "stream",
     "text": [
      "Train on 2500 samples, validate on 2500 samples\n",
      "Epoch 1/100\n",
      "2500/2500 [==============================] - 1s 363us/sample - loss: 0.5967 - accuracy: 0.7264 - val_loss: 0.5896 - val_accuracy: 0.7432\n",
      "Epoch 2/100\n",
      "2500/2500 [==============================] - 0s 106us/sample - loss: 0.5732 - accuracy: 0.7452 - val_loss: 0.5623 - val_accuracy: 0.7508\n",
      "Epoch 3/100\n",
      "2500/2500 [==============================] - 0s 104us/sample - loss: 0.5353 - accuracy: 0.7520 - val_loss: 0.5028 - val_accuracy: 0.7456\n",
      "Epoch 4/100\n",
      "2500/2500 [==============================] - 0s 100us/sample - loss: 0.4771 - accuracy: 0.7732 - val_loss: 0.4491 - val_accuracy: 0.7708\n",
      "Epoch 5/100\n",
      "2500/2500 [==============================] - 0s 106us/sample - loss: 0.4367 - accuracy: 0.7756 - val_loss: 0.4201 - val_accuracy: 0.7716\n",
      "Epoch 6/100\n",
      "2500/2500 [==============================] - 0s 113us/sample - loss: 0.4107 - accuracy: 0.7848 - val_loss: 0.3894 - val_accuracy: 0.7948\n",
      "Epoch 7/100\n",
      "2500/2500 [==============================] - 0s 105us/sample - loss: 0.3840 - accuracy: 0.8084 - val_loss: 0.3600 - val_accuracy: 0.8068\n",
      "Epoch 8/100\n",
      "2500/2500 [==============================] - 0s 107us/sample - loss: 0.3525 - accuracy: 0.8588 - val_loss: 0.3260 - val_accuracy: 0.8772\n",
      "Epoch 9/100\n",
      "2500/2500 [==============================] - 0s 109us/sample - loss: 0.3223 - accuracy: 0.8720 - val_loss: 0.3039 - val_accuracy: 0.8876\n",
      "Epoch 10/100\n",
      "2500/2500 [==============================] - 0s 105us/sample - loss: 0.3071 - accuracy: 0.8784 - val_loss: 0.2901 - val_accuracy: 0.8876\n",
      "Epoch 11/100\n",
      "2500/2500 [==============================] - 0s 100us/sample - loss: 0.2933 - accuracy: 0.8832 - val_loss: 0.2787 - val_accuracy: 0.8952\n",
      "Epoch 12/100\n",
      "2500/2500 [==============================] - 0s 104us/sample - loss: 0.2841 - accuracy: 0.8840 - val_loss: 0.2775 - val_accuracy: 0.8832\n",
      "Epoch 13/100\n",
      "2500/2500 [==============================] - 0s 103us/sample - loss: 0.2809 - accuracy: 0.8748 - val_loss: 0.2594 - val_accuracy: 0.9020\n",
      "Epoch 14/100\n",
      "2500/2500 [==============================] - 0s 106us/sample - loss: 0.2656 - accuracy: 0.8968 - val_loss: 0.2519 - val_accuracy: 0.9036\n",
      "Epoch 15/100\n",
      "2500/2500 [==============================] - 0s 98us/sample - loss: 0.2565 - accuracy: 0.8956 - val_loss: 0.2378 - val_accuracy: 0.9160\n",
      "Epoch 16/100\n",
      "2500/2500 [==============================] - 0s 106us/sample - loss: 0.2444 - accuracy: 0.9104 - val_loss: 0.2295 - val_accuracy: 0.9204\n",
      "Epoch 17/100\n",
      "2500/2500 [==============================] - 0s 112us/sample - loss: 0.2392 - accuracy: 0.9096 - val_loss: 0.2211 - val_accuracy: 0.9244\n",
      "Epoch 18/100\n",
      "2500/2500 [==============================] - 0s 121us/sample - loss: 0.2265 - accuracy: 0.9144 - val_loss: 0.2116 - val_accuracy: 0.9320\n",
      "Epoch 19/100\n",
      "2500/2500 [==============================] - 0s 122us/sample - loss: 0.2177 - accuracy: 0.9220 - val_loss: 0.2028 - val_accuracy: 0.9364\n",
      "Epoch 20/100\n",
      "2500/2500 [==============================] - 0s 116us/sample - loss: 0.2091 - accuracy: 0.9300 - val_loss: 0.1962 - val_accuracy: 0.9388\n",
      "Epoch 21/100\n",
      "2500/2500 [==============================] - 0s 119us/sample - loss: 0.2025 - accuracy: 0.9328 - val_loss: 0.1846 - val_accuracy: 0.9404\n",
      "Epoch 22/100\n",
      "2500/2500 [==============================] - 0s 119us/sample - loss: 0.1914 - accuracy: 0.9372 - val_loss: 0.1775 - val_accuracy: 0.9420\n",
      "Epoch 23/100\n",
      "2500/2500 [==============================] - 0s 124us/sample - loss: 0.1830 - accuracy: 0.9428 - val_loss: 0.1754 - val_accuracy: 0.9372\n",
      "Epoch 24/100\n",
      "2500/2500 [==============================] - 0s 117us/sample - loss: 0.1794 - accuracy: 0.9408 - val_loss: 0.1596 - val_accuracy: 0.9524\n",
      "Epoch 25/100\n",
      "2500/2500 [==============================] - 0s 119us/sample - loss: 0.1715 - accuracy: 0.9464 - val_loss: 0.1545 - val_accuracy: 0.9516\n",
      "Epoch 26/100\n",
      "2500/2500 [==============================] - 0s 135us/sample - loss: 0.1686 - accuracy: 0.9464 - val_loss: 0.1564 - val_accuracy: 0.9456\n",
      "Epoch 27/100\n",
      "2500/2500 [==============================] - 0s 124us/sample - loss: 0.1635 - accuracy: 0.9472 - val_loss: 0.1471 - val_accuracy: 0.9520\n",
      "Epoch 28/100\n",
      "2500/2500 [==============================] - 0s 118us/sample - loss: 0.1600 - accuracy: 0.9480 - val_loss: 0.1437 - val_accuracy: 0.9532\n",
      "Epoch 29/100\n",
      "2500/2500 [==============================] - 0s 134us/sample - loss: 0.1505 - accuracy: 0.9520 - val_loss: 0.1406 - val_accuracy: 0.9536\n",
      "Epoch 30/100\n",
      "2500/2500 [==============================] - 0s 135us/sample - loss: 0.1507 - accuracy: 0.9508 - val_loss: 0.1345 - val_accuracy: 0.9548\n",
      "Epoch 31/100\n",
      "2500/2500 [==============================] - 0s 124us/sample - loss: 0.1469 - accuracy: 0.9492 - val_loss: 0.1318 - val_accuracy: 0.9576\n",
      "Epoch 32/100\n",
      "2500/2500 [==============================] - 0s 136us/sample - loss: 0.1473 - accuracy: 0.9480 - val_loss: 0.1337 - val_accuracy: 0.9552\n",
      "Epoch 33/100\n",
      "2500/2500 [==============================] - 0s 130us/sample - loss: 0.1413 - accuracy: 0.9536 - val_loss: 0.1266 - val_accuracy: 0.9560\n",
      "Epoch 34/100\n",
      "2500/2500 [==============================] - 0s 128us/sample - loss: 0.1377 - accuracy: 0.9512 - val_loss: 0.1248 - val_accuracy: 0.9596\n",
      "Epoch 35/100\n",
      "2500/2500 [==============================] - 0s 129us/sample - loss: 0.1431 - accuracy: 0.9512 - val_loss: 0.1213 - val_accuracy: 0.9608\n",
      "Epoch 36/100\n",
      "2500/2500 [==============================] - 0s 128us/sample - loss: 0.1334 - accuracy: 0.9572 - val_loss: 0.1191 - val_accuracy: 0.9636\n",
      "Epoch 37/100\n",
      "2500/2500 [==============================] - 0s 115us/sample - loss: 0.1299 - accuracy: 0.9592 - val_loss: 0.1171 - val_accuracy: 0.9632\n",
      "Epoch 38/100\n",
      "2500/2500 [==============================] - 0s 124us/sample - loss: 0.1286 - accuracy: 0.9580 - val_loss: 0.1212 - val_accuracy: 0.9600\n",
      "Epoch 39/100\n",
      "2500/2500 [==============================] - 0s 127us/sample - loss: 0.1275 - accuracy: 0.9588 - val_loss: 0.1170 - val_accuracy: 0.9612\n",
      "Epoch 40/100\n",
      "2500/2500 [==============================] - 0s 124us/sample - loss: 0.1269 - accuracy: 0.9576 - val_loss: 0.1209 - val_accuracy: 0.9556\n",
      "Epoch 41/100\n",
      "2500/2500 [==============================] - 0s 120us/sample - loss: 0.1209 - accuracy: 0.9580 - val_loss: 0.1100 - val_accuracy: 0.9628\n",
      "Epoch 42/100\n",
      "2500/2500 [==============================] - 0s 115us/sample - loss: 0.1238 - accuracy: 0.9604 - val_loss: 0.1115 - val_accuracy: 0.9600\n",
      "Epoch 43/100\n",
      "2500/2500 [==============================] - 0s 104us/sample - loss: 0.1243 - accuracy: 0.9576 - val_loss: 0.1108 - val_accuracy: 0.9632\n",
      "Epoch 44/100\n",
      "2500/2500 [==============================] - 0s 105us/sample - loss: 0.1232 - accuracy: 0.9620 - val_loss: 0.1067 - val_accuracy: 0.9696\n",
      "Epoch 45/100\n",
      "2500/2500 [==============================] - 0s 103us/sample - loss: 0.1153 - accuracy: 0.9628 - val_loss: 0.1152 - val_accuracy: 0.9592\n",
      "Epoch 46/100\n",
      "2500/2500 [==============================] - 0s 102us/sample - loss: 0.1166 - accuracy: 0.9604 - val_loss: 0.1089 - val_accuracy: 0.9628\n",
      "Epoch 47/100\n",
      "2500/2500 [==============================] - 0s 102us/sample - loss: 0.1190 - accuracy: 0.9568 - val_loss: 0.1012 - val_accuracy: 0.9660\n",
      "Epoch 48/100\n",
      "2500/2500 [==============================] - 0s 103us/sample - loss: 0.1127 - accuracy: 0.9592 - val_loss: 0.1042 - val_accuracy: 0.9672\n",
      "Epoch 49/100\n",
      "2500/2500 [==============================] - 0s 102us/sample - loss: 0.1248 - accuracy: 0.9628 - val_loss: 0.1066 - val_accuracy: 0.9660\n",
      "Epoch 50/100\n",
      "2500/2500 [==============================] - 0s 103us/sample - loss: 0.1089 - accuracy: 0.9640 - val_loss: 0.1003 - val_accuracy: 0.9660\n",
      "Epoch 51/100\n",
      "2500/2500 [==============================] - 0s 101us/sample - loss: 0.1126 - accuracy: 0.9604 - val_loss: 0.1026 - val_accuracy: 0.9684\n",
      "Epoch 52/100\n",
      "2500/2500 [==============================] - 0s 103us/sample - loss: 0.1022 - accuracy: 0.9636 - val_loss: 0.1008 - val_accuracy: 0.9696\n",
      "Epoch 53/100\n",
      "2500/2500 [==============================] - 0s 103us/sample - loss: 0.1106 - accuracy: 0.9600 - val_loss: 0.0958 - val_accuracy: 0.9700\n",
      "Epoch 54/100\n",
      "2500/2500 [==============================] - 0s 101us/sample - loss: 0.1071 - accuracy: 0.9636 - val_loss: 0.0943 - val_accuracy: 0.9728\n",
      "Epoch 55/100\n"
     ]
    },
    {
     "name": "stdout",
     "output_type": "stream",
     "text": [
      "2500/2500 [==============================] - 0s 103us/sample - loss: 0.1012 - accuracy: 0.9684 - val_loss: 0.0939 - val_accuracy: 0.9712\n",
      "Epoch 56/100\n",
      "2500/2500 [==============================] - 0s 102us/sample - loss: 0.1021 - accuracy: 0.9660 - val_loss: 0.0962 - val_accuracy: 0.9684\n",
      "Epoch 57/100\n",
      "2500/2500 [==============================] - 0s 105us/sample - loss: 0.0978 - accuracy: 0.9668 - val_loss: 0.0886 - val_accuracy: 0.9752\n",
      "Epoch 58/100\n",
      "2500/2500 [==============================] - 0s 113us/sample - loss: 0.1017 - accuracy: 0.9616 - val_loss: 0.0904 - val_accuracy: 0.9728\n",
      "Epoch 59/100\n",
      "2500/2500 [==============================] - 0s 117us/sample - loss: 0.0960 - accuracy: 0.9680 - val_loss: 0.0888 - val_accuracy: 0.9768\n",
      "Epoch 60/100\n",
      "2500/2500 [==============================] - 0s 117us/sample - loss: 0.0952 - accuracy: 0.9680 - val_loss: 0.0892 - val_accuracy: 0.9712\n",
      "Epoch 61/100\n",
      "2500/2500 [==============================] - 0s 118us/sample - loss: 0.0926 - accuracy: 0.9676 - val_loss: 0.0867 - val_accuracy: 0.9788\n",
      "Epoch 62/100\n",
      "2500/2500 [==============================] - 0s 119us/sample - loss: 0.0954 - accuracy: 0.9648 - val_loss: 0.0896 - val_accuracy: 0.9692\n",
      "Epoch 63/100\n",
      "2500/2500 [==============================] - 0s 116us/sample - loss: 0.0871 - accuracy: 0.9708 - val_loss: 0.0847 - val_accuracy: 0.9736\n",
      "Epoch 64/100\n",
      "2500/2500 [==============================] - 0s 115us/sample - loss: 0.0933 - accuracy: 0.9688 - val_loss: 0.0854 - val_accuracy: 0.9756\n",
      "Epoch 65/100\n",
      "2500/2500 [==============================] - 0s 115us/sample - loss: 0.0885 - accuracy: 0.9704 - val_loss: 0.0832 - val_accuracy: 0.9752\n",
      "Epoch 66/100\n",
      "2500/2500 [==============================] - 0s 114us/sample - loss: 0.0873 - accuracy: 0.9716 - val_loss: 0.0905 - val_accuracy: 0.9664\n",
      "Epoch 67/100\n",
      "2500/2500 [==============================] - 0s 114us/sample - loss: 0.0874 - accuracy: 0.9700 - val_loss: 0.0843 - val_accuracy: 0.9732\n",
      "Epoch 68/100\n",
      "2500/2500 [==============================] - 0s 116us/sample - loss: 0.0866 - accuracy: 0.9716 - val_loss: 0.0845 - val_accuracy: 0.9716\n",
      "Epoch 69/100\n",
      "2500/2500 [==============================] - 0s 113us/sample - loss: 0.0882 - accuracy: 0.9672 - val_loss: 0.0828 - val_accuracy: 0.9768\n",
      "Epoch 70/100\n",
      "2500/2500 [==============================] - 0s 111us/sample - loss: 0.0850 - accuracy: 0.9752 - val_loss: 0.0766 - val_accuracy: 0.9788\n",
      "Epoch 71/100\n",
      "2500/2500 [==============================] - 0s 116us/sample - loss: 0.0799 - accuracy: 0.9764 - val_loss: 0.0832 - val_accuracy: 0.9728\n",
      "Epoch 72/100\n",
      "2500/2500 [==============================] - 0s 112us/sample - loss: 0.0929 - accuracy: 0.9732 - val_loss: 0.0825 - val_accuracy: 0.9768\n",
      "Epoch 73/100\n",
      "2500/2500 [==============================] - 0s 115us/sample - loss: 0.0776 - accuracy: 0.9772 - val_loss: 0.0759 - val_accuracy: 0.9784\n",
      "Epoch 74/100\n",
      "2500/2500 [==============================] - 0s 131us/sample - loss: 0.0826 - accuracy: 0.9760 - val_loss: 0.0747 - val_accuracy: 0.9824\n",
      "Epoch 75/100\n",
      "2500/2500 [==============================] - 0s 122us/sample - loss: 0.0805 - accuracy: 0.9764 - val_loss: 0.0737 - val_accuracy: 0.9780\n",
      "Epoch 76/100\n",
      "2500/2500 [==============================] - 0s 116us/sample - loss: 0.0775 - accuracy: 0.9792 - val_loss: 0.0775 - val_accuracy: 0.9768\n",
      "Epoch 77/100\n",
      "2500/2500 [==============================] - 0s 116us/sample - loss: 0.0782 - accuracy: 0.9740 - val_loss: 0.0738 - val_accuracy: 0.9780\n",
      "Epoch 78/100\n",
      "2500/2500 [==============================] - 0s 116us/sample - loss: 0.0752 - accuracy: 0.9796 - val_loss: 0.0729 - val_accuracy: 0.9816\n",
      "Epoch 79/100\n",
      "2500/2500 [==============================] - 0s 127us/sample - loss: 0.0771 - accuracy: 0.9780 - val_loss: 0.0740 - val_accuracy: 0.9760\n",
      "Epoch 80/100\n",
      "2500/2500 [==============================] - 0s 126us/sample - loss: 0.0765 - accuracy: 0.9748 - val_loss: 0.0699 - val_accuracy: 0.9816\n",
      "Epoch 81/100\n",
      "2500/2500 [==============================] - 0s 128us/sample - loss: 0.0734 - accuracy: 0.9776 - val_loss: 0.0704 - val_accuracy: 0.9808\n",
      "Epoch 82/100\n",
      "2500/2500 [==============================] - 0s 129us/sample - loss: 0.0699 - accuracy: 0.9788 - val_loss: 0.0739 - val_accuracy: 0.9808\n",
      "Epoch 83/100\n",
      "2500/2500 [==============================] - 0s 136us/sample - loss: 0.0748 - accuracy: 0.9776 - val_loss: 0.0671 - val_accuracy: 0.9840\n",
      "Epoch 84/100\n",
      "2500/2500 [==============================] - 0s 136us/sample - loss: 0.0679 - accuracy: 0.9812 - val_loss: 0.0737 - val_accuracy: 0.9796\n",
      "Epoch 85/100\n",
      "2500/2500 [==============================] - 0s 124us/sample - loss: 0.0738 - accuracy: 0.9752 - val_loss: 0.0750 - val_accuracy: 0.9820\n",
      "Epoch 86/100\n",
      "2500/2500 [==============================] - 0s 126us/sample - loss: 0.0777 - accuracy: 0.9732 - val_loss: 0.0688 - val_accuracy: 0.9824\n",
      "Epoch 87/100\n",
      "2500/2500 [==============================] - 0s 118us/sample - loss: 0.0705 - accuracy: 0.9812 - val_loss: 0.0697 - val_accuracy: 0.9788\n",
      "Epoch 88/100\n",
      "2500/2500 [==============================] - 0s 116us/sample - loss: 0.0693 - accuracy: 0.9792 - val_loss: 0.0670 - val_accuracy: 0.9776\n",
      "Epoch 89/100\n",
      "2500/2500 [==============================] - 0s 114us/sample - loss: 0.0657 - accuracy: 0.9832 - val_loss: 0.0734 - val_accuracy: 0.9816\n",
      "Epoch 90/100\n",
      "2500/2500 [==============================] - 0s 118us/sample - loss: 0.0720 - accuracy: 0.9768 - val_loss: 0.0666 - val_accuracy: 0.9788\n",
      "Epoch 91/100\n",
      "2500/2500 [==============================] - 0s 129us/sample - loss: 0.0674 - accuracy: 0.9744 - val_loss: 0.0710 - val_accuracy: 0.9764\n",
      "Epoch 92/100\n",
      "2500/2500 [==============================] - 0s 131us/sample - loss: 0.0714 - accuracy: 0.9772 - val_loss: 0.0645 - val_accuracy: 0.9816\n",
      "Epoch 93/100\n",
      "2500/2500 [==============================] - 0s 127us/sample - loss: 0.0596 - accuracy: 0.9820 - val_loss: 0.0675 - val_accuracy: 0.9832\n",
      "Epoch 94/100\n",
      "2500/2500 [==============================] - 0s 131us/sample - loss: 0.0636 - accuracy: 0.9804 - val_loss: 0.0638 - val_accuracy: 0.9864\n",
      "Epoch 95/100\n",
      "2500/2500 [==============================] - 0s 138us/sample - loss: 0.0676 - accuracy: 0.9788 - val_loss: 0.0742 - val_accuracy: 0.9776\n",
      "Epoch 96/100\n",
      "2500/2500 [==============================] - 0s 133us/sample - loss: 0.0584 - accuracy: 0.9824 - val_loss: 0.0713 - val_accuracy: 0.9756\n",
      "Epoch 97/100\n",
      "2500/2500 [==============================] - 0s 132us/sample - loss: 0.0677 - accuracy: 0.9800 - val_loss: 0.0673 - val_accuracy: 0.9764\n",
      "Epoch 98/100\n",
      "2500/2500 [==============================] - 0s 128us/sample - loss: 0.0609 - accuracy: 0.9812 - val_loss: 0.0640 - val_accuracy: 0.9856\n",
      "Epoch 99/100\n",
      "2500/2500 [==============================] - 0s 137us/sample - loss: 0.0563 - accuracy: 0.9824 - val_loss: 0.0609 - val_accuracy: 0.9868\n",
      "Epoch 100/100\n",
      "2500/2500 [==============================] - 0s 138us/sample - loss: 0.0553 - accuracy: 0.9840 - val_loss: 0.0643 - val_accuracy: 0.9812\n"
     ]
    }
   ],
   "source": [
    "inputs = np.expand_dims(X, -1)\n",
    "\n",
    "# make RNN\n",
    "_input = Input(shape=(T, D))\n",
    "x = SimpleRNN(5)(_input)\n",
    "x = Dense(1, activation=\"sigmoid\")(x)\n",
    "\n",
    "model = Model(_input, x)\n",
    "# compile\n",
    "model.compile(\n",
    "    loss=\"binary_crossentropy\",\n",
    "    optimizer=Adam(lr=0.01),\n",
    "    metrics=[\"accuracy\"]\n",
    ")\n",
    "\n",
    "# train\n",
    "r = model.fit(\n",
    "    inputs, Y,\n",
    "    epochs=100,\n",
    "    validation_split=0.5\n",
    ")"
   ]
  },
  {
   "cell_type": "code",
   "execution_count": 25,
   "metadata": {
    "ExecuteTime": {
     "end_time": "2020-03-20T12:53:40.490143Z",
     "start_time": "2020-03-20T12:53:40.327983Z"
    },
    "hidden": true
   },
   "outputs": [
    {
     "data": {
      "image/png": "[encoded data removed]",
      "text/plain": [
       "<Figure size 432x288 with 1 Axes>"
      ]
     },
     "metadata": {
      "needs_background": "light"
     },
     "output_type": "display_data"
    }
   ],
   "source": [
    "# plot loss per iteration\n",
    "plt.plot(r.history[\"loss\"], label=\"loss\")\n",
    "plt.plot(r.history[\"val_loss\"], label=\"val_loss\")\n",
    "plt.legend();"
   ]
  },
  {
   "cell_type": "code",
   "execution_count": 26,
   "metadata": {
    "ExecuteTime": {
     "end_time": "2020-03-20T12:53:48.322670Z",
     "start_time": "2020-03-20T12:53:48.176769Z"
    },
    "hidden": true
   },
   "outputs": [
    {
     "data": {
      "image/png": "[encoded data removed]",
      "text/plain": [
       "<Figure size 432x288 with 1 Axes>"
      ]
     },
     "metadata": {
      "needs_background": "light"
     },
     "output_type": "display_data"
    }
   ],
   "source": [
    "# plot loss per iteration\n",
    "plt.plot(r.history[\"accuracy\"], label=\"accuracy\")\n",
    "plt.plot(r.history[\"val_accuracy\"], label=\"val_accuracy\")\n",
    "plt.legend();"
   ]
  },
  {
   "cell_type": "markdown",
   "metadata": {},
   "source": [
    "## LONG DISTANCE MODE"
   ]
  },
  {
   "cell_type": "code",
   "execution_count": 27,
   "metadata": {
    "ExecuteTime": {
     "end_time": "2020-03-20T12:55:24.636821Z",
     "start_time": "2020-03-20T12:55:24.602504Z"
    }
   },
   "outputs": [],
   "source": [
    "# Start with a small T and increase it later\n",
    "T = 10\n",
    "D = 1\n",
    "X = []\n",
    "Y = []\n",
    "\n",
    "def get_label(x, i1, i2, i3):\n",
    "    if x[i1] < 0 and x[i2] < 0 and x[i3] < 0:\n",
    "        return 1\n",
    "    if x[i1] < 0 and x[i2] > 0 and x[i3] > 0:\n",
    "        return 1\n",
    "    if x[i1] > 0 and x[i2] < 0 and x[i3] > 0:\n",
    "        return 1\n",
    "    if x[i1] < 0 and x[i2] > 0 and x[i3] < 0:\n",
    "        return 1\n",
    "    return 0\n",
    "\n",
    "for t in range(5000):\n",
    "    x = np.random.randn(T)\n",
    "    X.append(x)\n",
    "    # short distance\n",
    "    #y = get_label(x, -1, -2, -3)\n",
    "    # long distance\n",
    "    y = get_label(x, 0, 1, 2)\n",
    "    Y.append(y)\n",
    "    \n",
    "X = np.array(X)\n",
    "Y = np.array(Y)\n",
    "N = len(X)"
   ]
  },
  {
   "cell_type": "markdown",
   "metadata": {},
   "source": [
    "### Simple RNN"
   ]
  },
  {
   "cell_type": "code",
   "execution_count": 28,
   "metadata": {
    "ExecuteTime": {
     "end_time": "2020-03-20T12:55:54.801658Z",
     "start_time": "2020-03-20T12:55:26.081051Z"
    }
   },
   "outputs": [
    {
     "name": "stdout",
     "output_type": "stream",
     "text": [
      "Train on 2500 samples, validate on 2500 samples\n",
      "Epoch 1/100\n",
      "2500/2500 [==============================] - 1s 417us/sample - loss: 0.7040 - accuracy: 0.4916 - val_loss: 0.6933 - val_accuracy: 0.5184\n",
      "Epoch 2/100\n",
      "2500/2500 [==============================] - 0s 114us/sample - loss: 0.6773 - accuracy: 0.5592 - val_loss: 0.6354 - val_accuracy: 0.6584\n",
      "Epoch 3/100\n",
      "2500/2500 [==============================] - 0s 126us/sample - loss: 0.5964 - accuracy: 0.7008 - val_loss: 0.6176 - val_accuracy: 0.6484\n",
      "Epoch 4/100\n",
      "2500/2500 [==============================] - 0s 123us/sample - loss: 0.5929 - accuracy: 0.7088 - val_loss: 0.5639 - val_accuracy: 0.7260\n",
      "Epoch 5/100\n",
      "2500/2500 [==============================] - 0s 114us/sample - loss: 0.5500 - accuracy: 0.7396 - val_loss: 0.5508 - val_accuracy: 0.7296\n",
      "Epoch 6/100\n",
      "2500/2500 [==============================] - 0s 115us/sample - loss: 0.5257 - accuracy: 0.7516 - val_loss: 0.6061 - val_accuracy: 0.6792\n",
      "Epoch 7/100\n",
      "2500/2500 [==============================] - 0s 128us/sample - loss: 0.5126 - accuracy: 0.7500 - val_loss: 0.4989 - val_accuracy: 0.7440\n",
      "Epoch 8/100\n",
      "2500/2500 [==============================] - 0s 131us/sample - loss: 0.4894 - accuracy: 0.7604 - val_loss: 0.4644 - val_accuracy: 0.7688\n",
      "Epoch 9/100\n",
      "2500/2500 [==============================] - 0s 129us/sample - loss: 0.4410 - accuracy: 0.7864 - val_loss: 0.4613 - val_accuracy: 0.7760\n",
      "Epoch 10/100\n",
      "2500/2500 [==============================] - 0s 131us/sample - loss: 0.4336 - accuracy: 0.7820 - val_loss: 0.4474 - val_accuracy: 0.7704\n",
      "Epoch 11/100\n",
      "2500/2500 [==============================] - 0s 122us/sample - loss: 0.4047 - accuracy: 0.7900 - val_loss: 0.3864 - val_accuracy: 0.8044\n",
      "Epoch 12/100\n",
      "2500/2500 [==============================] - 0s 126us/sample - loss: 0.4061 - accuracy: 0.7916 - val_loss: 0.4058 - val_accuracy: 0.8052\n",
      "Epoch 13/100\n",
      "2500/2500 [==============================] - 0s 116us/sample - loss: 0.3812 - accuracy: 0.8136 - val_loss: 0.4061 - val_accuracy: 0.8132\n",
      "Epoch 14/100\n",
      "2500/2500 [==============================] - 0s 113us/sample - loss: 0.3922 - accuracy: 0.7988 - val_loss: 0.3917 - val_accuracy: 0.7800\n",
      "Epoch 15/100\n",
      "2500/2500 [==============================] - 0s 115us/sample - loss: 0.4247 - accuracy: 0.7800 - val_loss: 0.4246 - val_accuracy: 0.7992\n",
      "Epoch 16/100\n",
      "2500/2500 [==============================] - 0s 116us/sample - loss: 0.3620 - accuracy: 0.8220 - val_loss: 0.3658 - val_accuracy: 0.8204\n",
      "Epoch 17/100\n",
      "2500/2500 [==============================] - 0s 119us/sample - loss: 0.4228 - accuracy: 0.8016 - val_loss: 0.4439 - val_accuracy: 0.7856\n",
      "Epoch 18/100\n",
      "2500/2500 [==============================] - 0s 115us/sample - loss: 0.3985 - accuracy: 0.8028 - val_loss: 0.4086 - val_accuracy: 0.8096\n",
      "Epoch 19/100\n",
      "2500/2500 [==============================] - 0s 118us/sample - loss: 0.3884 - accuracy: 0.8276 - val_loss: 0.3863 - val_accuracy: 0.8276\n",
      "Epoch 20/100\n",
      "2500/2500 [==============================] - 0s 131us/sample - loss: 0.3692 - accuracy: 0.8212 - val_loss: 0.3668 - val_accuracy: 0.8096\n",
      "Epoch 21/100\n",
      "2500/2500 [==============================] - 0s 124us/sample - loss: 0.3380 - accuracy: 0.8372 - val_loss: 0.3604 - val_accuracy: 0.8184\n",
      "Epoch 22/100\n",
      "2500/2500 [==============================] - 0s 121us/sample - loss: 0.3608 - accuracy: 0.8148 - val_loss: 0.3577 - val_accuracy: 0.7976\n",
      "Epoch 23/100\n",
      "2500/2500 [==============================] - 0s 121us/sample - loss: 0.3558 - accuracy: 0.8064 - val_loss: 0.3558 - val_accuracy: 0.8088\n",
      "Epoch 24/100\n",
      "2500/2500 [==============================] - 0s 134us/sample - loss: 0.3913 - accuracy: 0.8044 - val_loss: 0.4641 - val_accuracy: 0.7760\n",
      "Epoch 25/100\n",
      "2500/2500 [==============================] - 0s 128us/sample - loss: 0.3894 - accuracy: 0.8176 - val_loss: 0.4211 - val_accuracy: 0.7984\n",
      "Epoch 26/100\n",
      "2500/2500 [==============================] - 0s 119us/sample - loss: 0.3607 - accuracy: 0.8144 - val_loss: 0.3246 - val_accuracy: 0.8228\n",
      "Epoch 27/100\n",
      "2500/2500 [==============================] - 0s 128us/sample - loss: 0.3229 - accuracy: 0.8368 - val_loss: 0.3781 - val_accuracy: 0.8040\n",
      "Epoch 28/100\n",
      "2500/2500 [==============================] - 0s 115us/sample - loss: 0.3444 - accuracy: 0.8224 - val_loss: 0.3152 - val_accuracy: 0.8332\n",
      "Epoch 29/100\n",
      "2500/2500 [==============================] - 0s 117us/sample - loss: 0.3176 - accuracy: 0.8444 - val_loss: 0.4028 - val_accuracy: 0.8180\n",
      "Epoch 30/100\n",
      "2500/2500 [==============================] - 0s 115us/sample - loss: 0.3610 - accuracy: 0.8456 - val_loss: 0.3625 - val_accuracy: 0.8348\n",
      "Epoch 31/100\n",
      "2500/2500 [==============================] - 0s 117us/sample - loss: 0.3509 - accuracy: 0.8236 - val_loss: 0.3345 - val_accuracy: 0.8304\n",
      "Epoch 32/100\n",
      "2500/2500 [==============================] - 0s 116us/sample - loss: 0.3086 - accuracy: 0.8492 - val_loss: 0.3068 - val_accuracy: 0.8728\n",
      "Epoch 33/100\n",
      "2500/2500 [==============================] - 0s 116us/sample - loss: 0.3280 - accuracy: 0.8680 - val_loss: 0.3630 - val_accuracy: 0.8500\n",
      "Epoch 34/100\n",
      "2500/2500 [==============================] - 0s 116us/sample - loss: 0.3574 - accuracy: 0.8432 - val_loss: 0.3895 - val_accuracy: 0.8032\n",
      "Epoch 35/100\n",
      "2500/2500 [==============================] - 0s 119us/sample - loss: 0.5332 - accuracy: 0.7256 - val_loss: 0.5265 - val_accuracy: 0.7180\n",
      "Epoch 36/100\n",
      "2500/2500 [==============================] - 0s 117us/sample - loss: 0.4683 - accuracy: 0.7492 - val_loss: 0.4154 - val_accuracy: 0.7760\n",
      "Epoch 37/100\n",
      "2500/2500 [==============================] - 0s 108us/sample - loss: 0.3973 - accuracy: 0.7936 - val_loss: 0.3800 - val_accuracy: 0.7956\n",
      "Epoch 38/100\n",
      "2500/2500 [==============================] - 0s 109us/sample - loss: 0.3672 - accuracy: 0.8100 - val_loss: 0.3613 - val_accuracy: 0.7980\n",
      "Epoch 39/100\n",
      "2500/2500 [==============================] - 0s 110us/sample - loss: 0.3636 - accuracy: 0.8128 - val_loss: 0.3467 - val_accuracy: 0.8180\n",
      "Epoch 40/100\n",
      "2500/2500 [==============================] - 0s 110us/sample - loss: 0.3946 - accuracy: 0.8252 - val_loss: 0.3625 - val_accuracy: 0.8428\n",
      "Epoch 41/100\n",
      "2500/2500 [==============================] - 0s 113us/sample - loss: 0.3181 - accuracy: 0.8612 - val_loss: 0.3115 - val_accuracy: 0.8660\n",
      "Epoch 42/100\n",
      "2500/2500 [==============================] - 0s 103us/sample - loss: 0.3080 - accuracy: 0.8628 - val_loss: 0.3155 - val_accuracy: 0.8464\n",
      "Epoch 43/100\n",
      "2500/2500 [==============================] - 0s 103us/sample - loss: 0.2948 - accuracy: 0.8576 - val_loss: 0.3542 - val_accuracy: 0.8252\n",
      "Epoch 44/100\n",
      "2500/2500 [==============================] - 0s 115us/sample - loss: 0.3085 - accuracy: 0.8524 - val_loss: 0.3268 - val_accuracy: 0.8612\n",
      "Epoch 45/100\n",
      "2500/2500 [==============================] - 0s 113us/sample - loss: 0.2974 - accuracy: 0.8676 - val_loss: 0.3136 - val_accuracy: 0.8496\n",
      "Epoch 46/100\n",
      "2500/2500 [==============================] - 0s 116us/sample - loss: 0.2959 - accuracy: 0.8508 - val_loss: 0.3132 - val_accuracy: 0.8316\n",
      "Epoch 47/100\n",
      "2500/2500 [==============================] - 0s 114us/sample - loss: 0.2933 - accuracy: 0.8496 - val_loss: 0.2956 - val_accuracy: 0.8720\n",
      "Epoch 48/100\n",
      "2500/2500 [==============================] - 0s 99us/sample - loss: 0.3290 - accuracy: 0.8644 - val_loss: 0.3517 - val_accuracy: 0.8564\n",
      "Epoch 49/100\n",
      "2500/2500 [==============================] - 0s 103us/sample - loss: 0.2902 - accuracy: 0.8740 - val_loss: 0.3151 - val_accuracy: 0.8744\n",
      "Epoch 50/100\n",
      "2500/2500 [==============================] - 0s 101us/sample - loss: 0.3113 - accuracy: 0.8660 - val_loss: 0.3400 - val_accuracy: 0.8396\n",
      "Epoch 51/100\n",
      "2500/2500 [==============================] - 0s 101us/sample - loss: 0.3098 - accuracy: 0.8480 - val_loss: 0.3149 - val_accuracy: 0.8492\n",
      "Epoch 52/100\n",
      "2500/2500 [==============================] - 0s 101us/sample - loss: 0.2898 - accuracy: 0.8716 - val_loss: 0.3438 - val_accuracy: 0.8256\n",
      "Epoch 53/100\n",
      "2500/2500 [==============================] - 0s 104us/sample - loss: 0.2924 - accuracy: 0.8576 - val_loss: 0.5144 - val_accuracy: 0.7308\n",
      "Epoch 54/100\n",
      "2500/2500 [==============================] - 0s 103us/sample - loss: 0.3354 - accuracy: 0.8212 - val_loss: 0.3259 - val_accuracy: 0.8176\n",
      "Epoch 55/100\n"
     ]
    },
    {
     "name": "stdout",
     "output_type": "stream",
     "text": [
      "2500/2500 [==============================] - 0s 108us/sample - loss: 0.3474 - accuracy: 0.8196 - val_loss: 0.3433 - val_accuracy: 0.8084\n",
      "Epoch 56/100\n",
      "2500/2500 [==============================] - 0s 101us/sample - loss: 0.3045 - accuracy: 0.8436 - val_loss: 0.2860 - val_accuracy: 0.8516\n",
      "Epoch 57/100\n",
      "2500/2500 [==============================] - 0s 102us/sample - loss: 0.3605 - accuracy: 0.8448 - val_loss: 0.3875 - val_accuracy: 0.8256\n",
      "Epoch 58/100\n",
      "2500/2500 [==============================] - 0s 103us/sample - loss: 0.4007 - accuracy: 0.8216 - val_loss: 0.3893 - val_accuracy: 0.8436\n",
      "Epoch 59/100\n",
      "2500/2500 [==============================] - 0s 104us/sample - loss: 0.3517 - accuracy: 0.8576 - val_loss: 0.3538 - val_accuracy: 0.8468\n",
      "Epoch 60/100\n",
      "2500/2500 [==============================] - 0s 102us/sample - loss: 0.3325 - accuracy: 0.8532 - val_loss: 0.3611 - val_accuracy: 0.8324\n",
      "Epoch 61/100\n",
      "2500/2500 [==============================] - 0s 101us/sample - loss: 0.3016 - accuracy: 0.8600 - val_loss: 0.2880 - val_accuracy: 0.8644\n",
      "Epoch 62/100\n",
      "2500/2500 [==============================] - 0s 102us/sample - loss: 0.2850 - accuracy: 0.8656 - val_loss: 0.2863 - val_accuracy: 0.8620\n",
      "Epoch 63/100\n",
      "2500/2500 [==============================] - 0s 102us/sample - loss: 0.3425 - accuracy: 0.8272 - val_loss: 0.4026 - val_accuracy: 0.7688\n",
      "Epoch 64/100\n",
      "2500/2500 [==============================] - 0s 104us/sample - loss: 0.3806 - accuracy: 0.8008 - val_loss: 0.3665 - val_accuracy: 0.8012\n",
      "Epoch 65/100\n",
      "2500/2500 [==============================] - 0s 103us/sample - loss: 0.3280 - accuracy: 0.8380 - val_loss: 0.3502 - val_accuracy: 0.8060\n",
      "Epoch 66/100\n",
      "2500/2500 [==============================] - 0s 104us/sample - loss: 0.3665 - accuracy: 0.7884 - val_loss: 0.3635 - val_accuracy: 0.8212\n",
      "Epoch 67/100\n",
      "2500/2500 [==============================] - 0s 107us/sample - loss: 0.4167 - accuracy: 0.8236 - val_loss: 0.3318 - val_accuracy: 0.8692\n",
      "Epoch 68/100\n",
      "2500/2500 [==============================] - 0s 101us/sample - loss: 0.3236 - accuracy: 0.8596 - val_loss: 0.3802 - val_accuracy: 0.8472\n",
      "Epoch 69/100\n",
      "2500/2500 [==============================] - 0s 102us/sample - loss: 0.3961 - accuracy: 0.8168 - val_loss: 0.3665 - val_accuracy: 0.8164\n",
      "Epoch 70/100\n",
      "2500/2500 [==============================] - 0s 101us/sample - loss: 0.3659 - accuracy: 0.8276 - val_loss: 0.3951 - val_accuracy: 0.8112\n",
      "Epoch 71/100\n",
      "2500/2500 [==============================] - 0s 103us/sample - loss: 0.3339 - accuracy: 0.8480 - val_loss: 0.4508 - val_accuracy: 0.7640\n",
      "Epoch 72/100\n",
      "2500/2500 [==============================] - 0s 102us/sample - loss: 0.3486 - accuracy: 0.8416 - val_loss: 0.3425 - val_accuracy: 0.8544\n",
      "Epoch 73/100\n",
      "2500/2500 [==============================] - 0s 103us/sample - loss: 0.3137 - accuracy: 0.8784 - val_loss: 0.3324 - val_accuracy: 0.8716\n",
      "Epoch 74/100\n",
      "2500/2500 [==============================] - 0s 102us/sample - loss: 0.3142 - accuracy: 0.8696 - val_loss: 0.3083 - val_accuracy: 0.8656\n",
      "Epoch 75/100\n",
      "2500/2500 [==============================] - 0s 102us/sample - loss: 0.3255 - accuracy: 0.8372 - val_loss: 0.3552 - val_accuracy: 0.8152\n",
      "Epoch 76/100\n",
      "2500/2500 [==============================] - 0s 107us/sample - loss: 0.3073 - accuracy: 0.8424 - val_loss: 0.2974 - val_accuracy: 0.8780\n",
      "Epoch 77/100\n",
      "2500/2500 [==============================] - 0s 103us/sample - loss: 0.2982 - accuracy: 0.8724 - val_loss: 0.3644 - val_accuracy: 0.8388\n",
      "Epoch 78/100\n",
      "2500/2500 [==============================] - 0s 102us/sample - loss: 0.3835 - accuracy: 0.8256 - val_loss: 0.4450 - val_accuracy: 0.7940\n",
      "Epoch 79/100\n",
      "2500/2500 [==============================] - 0s 104us/sample - loss: 0.3583 - accuracy: 0.8456 - val_loss: 0.3844 - val_accuracy: 0.8236\n",
      "Epoch 80/100\n",
      "2500/2500 [==============================] - 0s 105us/sample - loss: 0.4023 - accuracy: 0.8164 - val_loss: 0.4547 - val_accuracy: 0.7612\n",
      "Epoch 81/100\n",
      "2500/2500 [==============================] - 0s 103us/sample - loss: 0.4214 - accuracy: 0.7968 - val_loss: 0.4199 - val_accuracy: 0.8220\n",
      "Epoch 82/100\n",
      "2500/2500 [==============================] - 0s 109us/sample - loss: 0.4467 - accuracy: 0.7828 - val_loss: 0.4365 - val_accuracy: 0.7900\n",
      "Epoch 83/100\n",
      "2500/2500 [==============================] - 0s 108us/sample - loss: 0.3958 - accuracy: 0.8116 - val_loss: 0.3776 - val_accuracy: 0.8168\n",
      "Epoch 84/100\n",
      "2500/2500 [==============================] - 0s 107us/sample - loss: 0.3862 - accuracy: 0.8264 - val_loss: 0.8630 - val_accuracy: 0.6324\n",
      "Epoch 85/100\n",
      "2500/2500 [==============================] - 0s 108us/sample - loss: 0.6293 - accuracy: 0.6964 - val_loss: 0.5713 - val_accuracy: 0.7396\n",
      "Epoch 86/100\n",
      "2500/2500 [==============================] - 0s 110us/sample - loss: 0.5721 - accuracy: 0.7480 - val_loss: 0.5693 - val_accuracy: 0.7424\n",
      "Epoch 87/100\n",
      "2500/2500 [==============================] - 0s 109us/sample - loss: 0.5805 - accuracy: 0.7308 - val_loss: 0.5874 - val_accuracy: 0.7140\n",
      "Epoch 88/100\n",
      "2500/2500 [==============================] - 0s 114us/sample - loss: 0.5925 - accuracy: 0.7184 - val_loss: 0.5860 - val_accuracy: 0.7320\n",
      "Epoch 89/100\n",
      "2500/2500 [==============================] - 0s 113us/sample - loss: 0.5943 - accuracy: 0.7132 - val_loss: 0.5780 - val_accuracy: 0.7348\n",
      "Epoch 90/100\n",
      "2500/2500 [==============================] - 0s 111us/sample - loss: 0.5987 - accuracy: 0.7140 - val_loss: 0.5732 - val_accuracy: 0.7296\n",
      "Epoch 91/100\n",
      "2500/2500 [==============================] - 0s 115us/sample - loss: 0.5682 - accuracy: 0.7364 - val_loss: 0.5516 - val_accuracy: 0.7568\n",
      "Epoch 92/100\n",
      "2500/2500 [==============================] - 0s 112us/sample - loss: 0.5578 - accuracy: 0.7488 - val_loss: 0.5484 - val_accuracy: 0.7640\n",
      "Epoch 93/100\n",
      "2500/2500 [==============================] - 0s 113us/sample - loss: 0.5585 - accuracy: 0.7620 - val_loss: 0.5482 - val_accuracy: 0.7600\n",
      "Epoch 94/100\n",
      "2500/2500 [==============================] - 0s 110us/sample - loss: 0.5508 - accuracy: 0.7632 - val_loss: 0.5335 - val_accuracy: 0.7740\n",
      "Epoch 95/100\n",
      "2500/2500 [==============================] - 0s 103us/sample - loss: 0.5426 - accuracy: 0.7692 - val_loss: 0.5268 - val_accuracy: 0.7780\n",
      "Epoch 96/100\n",
      "2500/2500 [==============================] - 0s 108us/sample - loss: 0.5470 - accuracy: 0.7676 - val_loss: 0.5381 - val_accuracy: 0.7628\n",
      "Epoch 97/100\n",
      "2500/2500 [==============================] - 0s 103us/sample - loss: 0.5438 - accuracy: 0.7640 - val_loss: 0.5417 - val_accuracy: 0.7636\n",
      "Epoch 98/100\n",
      "2500/2500 [==============================] - 0s 104us/sample - loss: 0.5392 - accuracy: 0.7672 - val_loss: 0.5337 - val_accuracy: 0.7664\n",
      "Epoch 99/100\n",
      "2500/2500 [==============================] - 0s 104us/sample - loss: 0.5376 - accuracy: 0.7704 - val_loss: 0.5324 - val_accuracy: 0.7684\n",
      "Epoch 100/100\n",
      "2500/2500 [==============================] - 0s 103us/sample - loss: 0.5492 - accuracy: 0.7632 - val_loss: 0.5253 - val_accuracy: 0.7744\n"
     ]
    }
   ],
   "source": [
    "inputs = np.expand_dims(X, -1)\n",
    "\n",
    "# make RNN\n",
    "_input = Input(shape=(T, D))\n",
    "x = SimpleRNN(5)(_input)\n",
    "x = Dense(1, activation=\"sigmoid\")(x)\n",
    "\n",
    "model = Model(_input, x)\n",
    "# compile\n",
    "model.compile(\n",
    "    loss=\"binary_crossentropy\",\n",
    "    optimizer=Adam(lr=0.01),\n",
    "    metrics=[\"accuracy\"]\n",
    ")\n",
    "\n",
    "# train\n",
    "r = model.fit(\n",
    "    inputs, Y,\n",
    "    epochs=100,\n",
    "    validation_split=0.5\n",
    ")"
   ]
  },
  {
   "cell_type": "code",
   "execution_count": 29,
   "metadata": {
    "ExecuteTime": {
     "end_time": "2020-03-20T12:56:42.522470Z",
     "start_time": "2020-03-20T12:56:42.371988Z"
    }
   },
   "outputs": [
    {
     "data": {
      "image/png": "[encoded data removed]",
      "text/plain": [
       "<Figure size 432x288 with 1 Axes>"
      ]
     },
     "metadata": {
      "needs_background": "light"
     },
     "output_type": "display_data"
    }
   ],
   "source": [
    "# plot loss per iteration\n",
    "plt.plot(r.history[\"loss\"], label=\"loss\")\n",
    "plt.plot(r.history[\"val_loss\"], label=\"val_loss\")\n",
    "plt.legend();"
   ]
  },
  {
   "cell_type": "code",
   "execution_count": 30,
   "metadata": {
    "ExecuteTime": {
     "end_time": "2020-03-20T12:56:44.679550Z",
     "start_time": "2020-03-20T12:56:44.523411Z"
    }
   },
   "outputs": [
    {
     "data": {
      "image/png": "[encoded data removed]",
      "text/plain": [
       "<Figure size 432x288 with 1 Axes>"
      ]
     },
     "metadata": {
      "needs_background": "light"
     },
     "output_type": "display_data"
    }
   ],
   "source": [
    "# plot loss per iteration\n",
    "plt.plot(r.history[\"accuracy\"], label=\"accuracy\")\n",
    "plt.plot(r.history[\"val_accuracy\"], label=\"val_accuracy\")\n",
    "plt.legend();"
   ]
  },
  {
   "cell_type": "code",
   "execution_count": null,
   "metadata": {},
   "outputs": [],
   "source": []
  },
  {
   "cell_type": "markdown",
   "metadata": {},
   "source": [
    "### Simple RNN"
   ]
  },
  {
   "cell_type": "code",
   "execution_count": 28,
   "metadata": {
    "ExecuteTime": {
     "end_time": "2020-03-20T12:55:54.801658Z",
     "start_time": "2020-03-20T12:55:26.081051Z"
    }
   },
   "outputs": [
    {
     "name": "stdout",
     "output_type": "stream",
     "text": [
      "Train on 2500 samples, validate on 2500 samples\n",
      "Epoch 1/100\n",
      "2500/2500 [==============================] - 1s 417us/sample - loss: 0.7040 - accuracy: 0.4916 - val_loss: 0.6933 - val_accuracy: 0.5184\n",
      "Epoch 2/100\n",
      "2500/2500 [==============================] - 0s 114us/sample - loss: 0.6773 - accuracy: 0.5592 - val_loss: 0.6354 - val_accuracy: 0.6584\n",
      "Epoch 3/100\n",
      "2500/2500 [==============================] - 0s 126us/sample - loss: 0.5964 - accuracy: 0.7008 - val_loss: 0.6176 - val_accuracy: 0.6484\n",
      "Epoch 4/100\n",
      "2500/2500 [==============================] - 0s 123us/sample - loss: 0.5929 - accuracy: 0.7088 - val_loss: 0.5639 - val_accuracy: 0.7260\n",
      "Epoch 5/100\n",
      "2500/2500 [==============================] - 0s 114us/sample - loss: 0.5500 - accuracy: 0.7396 - val_loss: 0.5508 - val_accuracy: 0.7296\n",
      "Epoch 6/100\n",
      "2500/2500 [==============================] - 0s 115us/sample - loss: 0.5257 - accuracy: 0.7516 - val_loss: 0.6061 - val_accuracy: 0.6792\n",
      "Epoch 7/100\n",
      "2500/2500 [==============================] - 0s 128us/sample - loss: 0.5126 - accuracy: 0.7500 - val_loss: 0.4989 - val_accuracy: 0.7440\n",
      "Epoch 8/100\n",
      "2500/2500 [==============================] - 0s 131us/sample - loss: 0.4894 - accuracy: 0.7604 - val_loss: 0.4644 - val_accuracy: 0.7688\n",
      "Epoch 9/100\n",
      "2500/2500 [==============================] - 0s 129us/sample - loss: 0.4410 - accuracy: 0.7864 - val_loss: 0.4613 - val_accuracy: 0.7760\n",
      "Epoch 10/100\n",
      "2500/2500 [==============================] - 0s 131us/sample - loss: 0.4336 - accuracy: 0.7820 - val_loss: 0.4474 - val_accuracy: 0.7704\n",
      "Epoch 11/100\n",
      "2500/2500 [==============================] - 0s 122us/sample - loss: 0.4047 - accuracy: 0.7900 - val_loss: 0.3864 - val_accuracy: 0.8044\n",
      "Epoch 12/100\n",
      "2500/2500 [==============================] - 0s 126us/sample - loss: 0.4061 - accuracy: 0.7916 - val_loss: 0.4058 - val_accuracy: 0.8052\n",
      "Epoch 13/100\n",
      "2500/2500 [==============================] - 0s 116us/sample - loss: 0.3812 - accuracy: 0.8136 - val_loss: 0.4061 - val_accuracy: 0.8132\n",
      "Epoch 14/100\n",
      "2500/2500 [==============================] - 0s 113us/sample - loss: 0.3922 - accuracy: 0.7988 - val_loss: 0.3917 - val_accuracy: 0.7800\n",
      "Epoch 15/100\n",
      "2500/2500 [==============================] - 0s 115us/sample - loss: 0.4247 - accuracy: 0.7800 - val_loss: 0.4246 - val_accuracy: 0.7992\n",
      "Epoch 16/100\n",
      "2500/2500 [==============================] - 0s 116us/sample - loss: 0.3620 - accuracy: 0.8220 - val_loss: 0.3658 - val_accuracy: 0.8204\n",
      "Epoch 17/100\n",
      "2500/2500 [==============================] - 0s 119us/sample - loss: 0.4228 - accuracy: 0.8016 - val_loss: 0.4439 - val_accuracy: 0.7856\n",
      "Epoch 18/100\n",
      "2500/2500 [==============================] - 0s 115us/sample - loss: 0.3985 - accuracy: 0.8028 - val_loss: 0.4086 - val_accuracy: 0.8096\n",
      "Epoch 19/100\n",
      "2500/2500 [==============================] - 0s 118us/sample - loss: 0.3884 - accuracy: 0.8276 - val_loss: 0.3863 - val_accuracy: 0.8276\n",
      "Epoch 20/100\n",
      "2500/2500 [==============================] - 0s 131us/sample - loss: 0.3692 - accuracy: 0.8212 - val_loss: 0.3668 - val_accuracy: 0.8096\n",
      "Epoch 21/100\n",
      "2500/2500 [==============================] - 0s 124us/sample - loss: 0.3380 - accuracy: 0.8372 - val_loss: 0.3604 - val_accuracy: 0.8184\n",
      "Epoch 22/100\n",
      "2500/2500 [==============================] - 0s 121us/sample - loss: 0.3608 - accuracy: 0.8148 - val_loss: 0.3577 - val_accuracy: 0.7976\n",
      "Epoch 23/100\n",
      "2500/2500 [==============================] - 0s 121us/sample - loss: 0.3558 - accuracy: 0.8064 - val_loss: 0.3558 - val_accuracy: 0.8088\n",
      "Epoch 24/100\n",
      "2500/2500 [==============================] - 0s 134us/sample - loss: 0.3913 - accuracy: 0.8044 - val_loss: 0.4641 - val_accuracy: 0.7760\n",
      "Epoch 25/100\n",
      "2500/2500 [==============================] - 0s 128us/sample - loss: 0.3894 - accuracy: 0.8176 - val_loss: 0.4211 - val_accuracy: 0.7984\n",
      "Epoch 26/100\n",
      "2500/2500 [==============================] - 0s 119us/sample - loss: 0.3607 - accuracy: 0.8144 - val_loss: 0.3246 - val_accuracy: 0.8228\n",
      "Epoch 27/100\n",
      "2500/2500 [==============================] - 0s 128us/sample - loss: 0.3229 - accuracy: 0.8368 - val_loss: 0.3781 - val_accuracy: 0.8040\n",
      "Epoch 28/100\n",
      "2500/2500 [==============================] - 0s 115us/sample - loss: 0.3444 - accuracy: 0.8224 - val_loss: 0.3152 - val_accuracy: 0.8332\n",
      "Epoch 29/100\n",
      "2500/2500 [==============================] - 0s 117us/sample - loss: 0.3176 - accuracy: 0.8444 - val_loss: 0.4028 - val_accuracy: 0.8180\n",
      "Epoch 30/100\n",
      "2500/2500 [==============================] - 0s 115us/sample - loss: 0.3610 - accuracy: 0.8456 - val_loss: 0.3625 - val_accuracy: 0.8348\n",
      "Epoch 31/100\n",
      "2500/2500 [==============================] - 0s 117us/sample - loss: 0.3509 - accuracy: 0.8236 - val_loss: 0.3345 - val_accuracy: 0.8304\n",
      "Epoch 32/100\n",
      "2500/2500 [==============================] - 0s 116us/sample - loss: 0.3086 - accuracy: 0.8492 - val_loss: 0.3068 - val_accuracy: 0.8728\n",
      "Epoch 33/100\n",
      "2500/2500 [==============================] - 0s 116us/sample - loss: 0.3280 - accuracy: 0.8680 - val_loss: 0.3630 - val_accuracy: 0.8500\n",
      "Epoch 34/100\n",
      "2500/2500 [==============================] - 0s 116us/sample - loss: 0.3574 - accuracy: 0.8432 - val_loss: 0.3895 - val_accuracy: 0.8032\n",
      "Epoch 35/100\n",
      "2500/2500 [==============================] - 0s 119us/sample - loss: 0.5332 - accuracy: 0.7256 - val_loss: 0.5265 - val_accuracy: 0.7180\n",
      "Epoch 36/100\n",
      "2500/2500 [==============================] - 0s 117us/sample - loss: 0.4683 - accuracy: 0.7492 - val_loss: 0.4154 - val_accuracy: 0.7760\n",
      "Epoch 37/100\n",
      "2500/2500 [==============================] - 0s 108us/sample - loss: 0.3973 - accuracy: 0.7936 - val_loss: 0.3800 - val_accuracy: 0.7956\n",
      "Epoch 38/100\n",
      "2500/2500 [==============================] - 0s 109us/sample - loss: 0.3672 - accuracy: 0.8100 - val_loss: 0.3613 - val_accuracy: 0.7980\n",
      "Epoch 39/100\n",
      "2500/2500 [==============================] - 0s 110us/sample - loss: 0.3636 - accuracy: 0.8128 - val_loss: 0.3467 - val_accuracy: 0.8180\n",
      "Epoch 40/100\n",
      "2500/2500 [==============================] - 0s 110us/sample - loss: 0.3946 - accuracy: 0.8252 - val_loss: 0.3625 - val_accuracy: 0.8428\n",
      "Epoch 41/100\n",
      "2500/2500 [==============================] - 0s 113us/sample - loss: 0.3181 - accuracy: 0.8612 - val_loss: 0.3115 - val_accuracy: 0.8660\n",
      "Epoch 42/100\n",
      "2500/2500 [==============================] - 0s 103us/sample - loss: 0.3080 - accuracy: 0.8628 - val_loss: 0.3155 - val_accuracy: 0.8464\n",
      "Epoch 43/100\n",
      "2500/2500 [==============================] - 0s 103us/sample - loss: 0.2948 - accuracy: 0.8576 - val_loss: 0.3542 - val_accuracy: 0.8252\n",
      "Epoch 44/100\n",
      "2500/2500 [==============================] - 0s 115us/sample - loss: 0.3085 - accuracy: 0.8524 - val_loss: 0.3268 - val_accuracy: 0.8612\n",
      "Epoch 45/100\n",
      "2500/2500 [==============================] - 0s 113us/sample - loss: 0.2974 - accuracy: 0.8676 - val_loss: 0.3136 - val_accuracy: 0.8496\n",
      "Epoch 46/100\n",
      "2500/2500 [==============================] - 0s 116us/sample - loss: 0.2959 - accuracy: 0.8508 - val_loss: 0.3132 - val_accuracy: 0.8316\n",
      "Epoch 47/100\n",
      "2500/2500 [==============================] - 0s 114us/sample - loss: 0.2933 - accuracy: 0.8496 - val_loss: 0.2956 - val_accuracy: 0.8720\n",
      "Epoch 48/100\n",
      "2500/2500 [==============================] - 0s 99us/sample - loss: 0.3290 - accuracy: 0.8644 - val_loss: 0.3517 - val_accuracy: 0.8564\n",
      "Epoch 49/100\n",
      "2500/2500 [==============================] - 0s 103us/sample - loss: 0.2902 - accuracy: 0.8740 - val_loss: 0.3151 - val_accuracy: 0.8744\n",
      "Epoch 50/100\n",
      "2500/2500 [==============================] - 0s 101us/sample - loss: 0.3113 - accuracy: 0.8660 - val_loss: 0.3400 - val_accuracy: 0.8396\n",
      "Epoch 51/100\n",
      "2500/2500 [==============================] - 0s 101us/sample - loss: 0.3098 - accuracy: 0.8480 - val_loss: 0.3149 - val_accuracy: 0.8492\n",
      "Epoch 52/100\n",
      "2500/2500 [==============================] - 0s 101us/sample - loss: 0.2898 - accuracy: 0.8716 - val_loss: 0.3438 - val_accuracy: 0.8256\n",
      "Epoch 53/100\n",
      "2500/2500 [==============================] - 0s 104us/sample - loss: 0.2924 - accuracy: 0.8576 - val_loss: 0.5144 - val_accuracy: 0.7308\n",
      "Epoch 54/100\n",
      "2500/2500 [==============================] - 0s 103us/sample - loss: 0.3354 - accuracy: 0.8212 - val_loss: 0.3259 - val_accuracy: 0.8176\n",
      "Epoch 55/100\n",
      "2500/2500 [==============================] - 0s 108us/sample - loss: 0.3474 - accuracy: 0.8196 - val_loss: 0.3433 - val_accuracy: 0.8084\n",
      "Epoch 56/100\n",
      "2500/2500 [==============================] - 0s 101us/sample - loss: 0.3045 - accuracy: 0.8436 - val_loss: 0.2860 - val_accuracy: 0.8516\n",
      "Epoch 57/100\n",
      "2500/2500 [==============================] - 0s 102us/sample - loss: 0.3605 - accuracy: 0.8448 - val_loss: 0.3875 - val_accuracy: 0.8256\n",
      "Epoch 58/100\n",
      "2500/2500 [==============================] - 0s 103us/sample - loss: 0.4007 - accuracy: 0.8216 - val_loss: 0.3893 - val_accuracy: 0.8436\n",
      "Epoch 59/100\n",
      "2500/2500 [==============================] - 0s 104us/sample - loss: 0.3517 - accuracy: 0.8576 - val_loss: 0.3538 - val_accuracy: 0.8468\n",
      "Epoch 60/100\n",
      "2500/2500 [==============================] - 0s 102us/sample - loss: 0.3325 - accuracy: 0.8532 - val_loss: 0.3611 - val_accuracy: 0.8324\n",
      "Epoch 61/100\n",
      "2500/2500 [==============================] - 0s 101us/sample - loss: 0.3016 - accuracy: 0.8600 - val_loss: 0.2880 - val_accuracy: 0.8644\n",
      "Epoch 62/100\n",
      "2500/2500 [==============================] - 0s 102us/sample - loss: 0.2850 - accuracy: 0.8656 - val_loss: 0.2863 - val_accuracy: 0.8620\n",
      "Epoch 63/100\n",
      "2500/2500 [==============================] - 0s 102us/sample - loss: 0.3425 - accuracy: 0.8272 - val_loss: 0.4026 - val_accuracy: 0.7688\n",
      "Epoch 64/100\n",
      "2500/2500 [==============================] - 0s 104us/sample - loss: 0.3806 - accuracy: 0.8008 - val_loss: 0.3665 - val_accuracy: 0.8012\n",
      "Epoch 65/100\n",
      "2500/2500 [==============================] - 0s 103us/sample - loss: 0.3280 - accuracy: 0.8380 - val_loss: 0.3502 - val_accuracy: 0.8060\n",
      "Epoch 66/100\n",
      "2500/2500 [==============================] - 0s 104us/sample - loss: 0.3665 - accuracy: 0.7884 - val_loss: 0.3635 - val_accuracy: 0.8212\n",
      "Epoch 67/100\n",
      "2500/2500 [==============================] - 0s 107us/sample - loss: 0.4167 - accuracy: 0.8236 - val_loss: 0.3318 - val_accuracy: 0.8692\n",
      "Epoch 68/100\n",
      "2500/2500 [==============================] - 0s 101us/sample - loss: 0.3236 - accuracy: 0.8596 - val_loss: 0.3802 - val_accuracy: 0.8472\n",
      "Epoch 69/100\n",
      "2500/2500 [==============================] - 0s 102us/sample - loss: 0.3961 - accuracy: 0.8168 - val_loss: 0.3665 - val_accuracy: 0.8164\n",
      "Epoch 70/100\n",
      "2500/2500 [==============================] - 0s 101us/sample - loss: 0.3659 - accuracy: 0.8276 - val_loss: 0.3951 - val_accuracy: 0.8112\n",
      "Epoch 71/100\n",
      "2500/2500 [==============================] - 0s 103us/sample - loss: 0.3339 - accuracy: 0.8480 - val_loss: 0.4508 - val_accuracy: 0.7640\n",
      "Epoch 72/100\n",
      "2500/2500 [==============================] - 0s 102us/sample - loss: 0.3486 - accuracy: 0.8416 - val_loss: 0.3425 - val_accuracy: 0.8544\n",
      "Epoch 73/100\n",
      "2500/2500 [==============================] - 0s 103us/sample - loss: 0.3137 - accuracy: 0.8784 - val_loss: 0.3324 - val_accuracy: 0.8716\n",
      "Epoch 74/100\n",
      "2500/2500 [==============================] - 0s 102us/sample - loss: 0.3142 - accuracy: 0.8696 - val_loss: 0.3083 - val_accuracy: 0.8656\n",
      "Epoch 75/100\n",
      "2500/2500 [==============================] - 0s 102us/sample - loss: 0.3255 - accuracy: 0.8372 - val_loss: 0.3552 - val_accuracy: 0.8152\n",
      "Epoch 76/100\n",
      "2500/2500 [==============================] - 0s 107us/sample - loss: 0.3073 - accuracy: 0.8424 - val_loss: 0.2974 - val_accuracy: 0.8780\n",
      "Epoch 77/100\n",
      "2500/2500 [==============================] - 0s 103us/sample - loss: 0.2982 - accuracy: 0.8724 - val_loss: 0.3644 - val_accuracy: 0.8388\n",
      "Epoch 78/100\n",
      "2500/2500 [==============================] - 0s 102us/sample - loss: 0.3835 - accuracy: 0.8256 - val_loss: 0.4450 - val_accuracy: 0.7940\n",
      "Epoch 79/100\n",
      "2500/2500 [==============================] - 0s 104us/sample - loss: 0.3583 - accuracy: 0.8456 - val_loss: 0.3844 - val_accuracy: 0.8236\n",
      "Epoch 80/100\n",
      "2500/2500 [==============================] - 0s 105us/sample - loss: 0.4023 - accuracy: 0.8164 - val_loss: 0.4547 - val_accuracy: 0.7612\n",
      "Epoch 81/100\n",
      "2500/2500 [==============================] - 0s 103us/sample - loss: 0.4214 - accuracy: 0.7968 - val_loss: 0.4199 - val_accuracy: 0.8220\n",
      "Epoch 82/100\n",
      "2500/2500 [==============================] - 0s 109us/sample - loss: 0.4467 - accuracy: 0.7828 - val_loss: 0.4365 - val_accuracy: 0.7900\n",
      "Epoch 83/100\n",
      "2500/2500 [==============================] - 0s 108us/sample - loss: 0.3958 - accuracy: 0.8116 - val_loss: 0.3776 - val_accuracy: 0.8168\n",
      "Epoch 84/100\n",
      "2500/2500 [==============================] - 0s 107us/sample - loss: 0.3862 - accuracy: 0.8264 - val_loss: 0.8630 - val_accuracy: 0.6324\n",
      "Epoch 85/100\n",
      "2500/2500 [==============================] - 0s 108us/sample - loss: 0.6293 - accuracy: 0.6964 - val_loss: 0.5713 - val_accuracy: 0.7396\n",
      "Epoch 86/100\n",
      "2500/2500 [==============================] - 0s 110us/sample - loss: 0.5721 - accuracy: 0.7480 - val_loss: 0.5693 - val_accuracy: 0.7424\n",
      "Epoch 87/100\n",
      "2500/2500 [==============================] - 0s 109us/sample - loss: 0.5805 - accuracy: 0.7308 - val_loss: 0.5874 - val_accuracy: 0.7140\n",
      "Epoch 88/100\n",
      "2500/2500 [==============================] - 0s 114us/sample - loss: 0.5925 - accuracy: 0.7184 - val_loss: 0.5860 - val_accuracy: 0.7320\n",
      "Epoch 89/100\n",
      "2500/2500 [==============================] - 0s 113us/sample - loss: 0.5943 - accuracy: 0.7132 - val_loss: 0.5780 - val_accuracy: 0.7348\n",
      "Epoch 90/100\n",
      "2500/2500 [==============================] - 0s 111us/sample - loss: 0.5987 - accuracy: 0.7140 - val_loss: 0.5732 - val_accuracy: 0.7296\n",
      "Epoch 91/100\n",
      "2500/2500 [==============================] - 0s 115us/sample - loss: 0.5682 - accuracy: 0.7364 - val_loss: 0.5516 - val_accuracy: 0.7568\n",
      "Epoch 92/100\n",
      "2500/2500 [==============================] - 0s 112us/sample - loss: 0.5578 - accuracy: 0.7488 - val_loss: 0.5484 - val_accuracy: 0.7640\n",
      "Epoch 93/100\n",
      "2500/2500 [==============================] - 0s 113us/sample - loss: 0.5585 - accuracy: 0.7620 - val_loss: 0.5482 - val_accuracy: 0.7600\n",
      "Epoch 94/100\n",
      "2500/2500 [==============================] - 0s 110us/sample - loss: 0.5508 - accuracy: 0.7632 - val_loss: 0.5335 - val_accuracy: 0.7740\n",
      "Epoch 95/100\n",
      "2500/2500 [==============================] - 0s 103us/sample - loss: 0.5426 - accuracy: 0.7692 - val_loss: 0.5268 - val_accuracy: 0.7780\n",
      "Epoch 96/100\n",
      "2500/2500 [==============================] - 0s 108us/sample - loss: 0.5470 - accuracy: 0.7676 - val_loss: 0.5381 - val_accuracy: 0.7628\n",
      "Epoch 97/100\n",
      "2500/2500 [==============================] - 0s 103us/sample - loss: 0.5438 - accuracy: 0.7640 - val_loss: 0.5417 - val_accuracy: 0.7636\n",
      "Epoch 98/100\n",
      "2500/2500 [==============================] - 0s 104us/sample - loss: 0.5392 - accuracy: 0.7672 - val_loss: 0.5337 - val_accuracy: 0.7664\n",
      "Epoch 99/100\n",
      "2500/2500 [==============================] - 0s 104us/sample - loss: 0.5376 - accuracy: 0.7704 - val_loss: 0.5324 - val_accuracy: 0.7684\n",
      "Epoch 100/100\n",
      "2500/2500 [==============================] - 0s 103us/sample - loss: 0.5492 - accuracy: 0.7632 - val_loss: 0.5253 - val_accuracy: 0.7744\n"
     ]
    }
   ],
   "source": [
    "inputs = np.expand_dims(X, -1)\n",
    "\n",
    "# make RNN\n",
    "_input = Input(shape=(T, D))\n",
    "x = SimpleRNN(5)(_input)\n",
    "x = Dense(1, activation=\"sigmoid\")(x)\n",
    "\n",
    "model = Model(_input, x)\n",
    "# compile\n",
    "model.compile(\n",
    "    loss=\"binary_crossentropy\",\n",
    "    optimizer=Adam(lr=0.01),\n",
    "    metrics=[\"accuracy\"]\n",
    ")\n",
    "\n",
    "# train\n",
    "r = model.fit(\n",
    "    inputs, Y,\n",
    "    epochs=100,\n",
    "    validation_split=0.5\n",
    ")"
   ]
  },
  {
   "cell_type": "code",
   "execution_count": 29,
   "metadata": {
    "ExecuteTime": {
     "end_time": "2020-03-20T12:56:42.522470Z",
     "start_time": "2020-03-20T12:56:42.371988Z"
    }
   },
   "outputs": [
    {
     "data": {
      "image/png": "[encoded data removed]",
      "text/plain": [
       "<Figure size 432x288 with 1 Axes>"
      ]
     },
     "metadata": {
      "needs_background": "light"
     },
     "output_type": "display_data"
    }
   ],
   "source": [
    "# plot loss per iteration\n",
    "plt.plot(r.history[\"loss\"], label=\"loss\")\n",
    "plt.plot(r.history[\"val_loss\"], label=\"val_loss\")\n",
    "plt.legend();"
   ]
  },
  {
   "cell_type": "code",
   "execution_count": 30,
   "metadata": {
    "ExecuteTime": {
     "end_time": "2020-03-20T12:56:44.679550Z",
     "start_time": "2020-03-20T12:56:44.523411Z"
    }
   },
   "outputs": [
    {
     "data": {
      "image/png": "[encoded data removed]",
      "text/plain": [
       "<Figure size 432x288 with 1 Axes>"
      ]
     },
     "metadata": {
      "needs_background": "light"
     },
     "output_type": "display_data"
    }
   ],
   "source": [
    "# plot loss per iteration\n",
    "plt.plot(r.history[\"accuracy\"], label=\"accuracy\")\n",
    "plt.plot(r.history[\"val_accuracy\"], label=\"val_accuracy\")\n",
    "plt.legend();"
   ]
  },
  {
   "cell_type": "code",
   "execution_count": null,
   "metadata": {},
   "outputs": [],
   "source": []
  },
  {
   "cell_type": "code",
   "execution_count": null,
   "metadata": {},
   "outputs": [],
   "source": []
  },
  {
   "cell_type": "code",
   "execution_count": null,
   "metadata": {},
   "outputs": [],
   "source": []
  },
  {
   "cell_type": "code",
   "execution_count": null,
   "metadata": {},
   "outputs": [],
   "source": []
  }
 ],
 "metadata": {
  "kernelspec": {
   "display_name": "Python [conda env:py36] *",
   "language": "python",
   "name": "conda-env-py36-py"
  },
  "language_info": {
   "codemirror_mode": {
    "name": "ipython",
    "version": 3
   },
   "file_extension": ".py",
   "mimetype": "text/x-python",
   "name": "python",
   "nbconvert_exporter": "python",
   "pygments_lexer": "ipython3",
   "version": "3.6.8"
  },
  "latex_envs": {
   "LaTeX_envs_menu_present": true,
   "autoclose": false,
   "autocomplete": true,
   "bibliofile": "biblio.bib",
   "cite_by": "apalike",
   "current_citInitial": 1,
   "eqLabelWithNumbers": true,
   "eqNumInitial": 1,
   "hotkeys": {
    "equation": "Ctrl-E",
    "itemize": "Ctrl-I"
   },
   "labels_anchors": false,
   "latex_user_defs": false,
   "report_style_numbering": false,
   "user_envs_cfg": false
  }
 },
 "nbformat": 4,
 "nbformat_minor": 2
}
