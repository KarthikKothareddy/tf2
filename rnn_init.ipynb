{
 "cells": [
  {
   "cell_type": "code",
   "execution_count": 6,
   "metadata": {
    "ExecuteTime": {
     "end_time": "2020-03-19T01:13:02.933459Z",
     "start_time": "2020-03-19T01:13:02.928219Z"
    }
   },
   "outputs": [],
   "source": [
    "from tensorflow.keras.layers import Input, Dense, SimpleRNN, Flatten\n",
    "from tensorflow.keras.models import Model\n",
    "from tensorflow.keras.optimizers import SGD, Adam\n",
    "\n",
    "import numpy as np\n",
    "import pandas as pd\n",
    "import matplotlib.pyplot as plt\n",
    "%matplotlib inline\n"
   ]
  },
  {
   "cell_type": "code",
   "execution_count": 25,
   "metadata": {
    "ExecuteTime": {
     "end_time": "2020-03-19T02:13:29.443096Z",
     "start_time": "2020-03-19T02:13:29.311989Z"
    }
   },
   "outputs": [
    {
     "name": "stdout",
     "output_type": "stream",
     "text": [
      "200\n"
     ]
    },
    {
     "data": {
      "image/png": "[encoded data removed]",
      "text/plain": [
       "<Figure size 432x288 with 1 Axes>"
      ]
     },
     "metadata": {
      "needs_background": "light"
     },
     "output_type": "display_data"
    }
   ],
   "source": [
    "# make synthetic data\n",
    "series = np.sin(0.1 * np.arange(200))\n",
    "\n",
    "# optional add noise\n",
    "series = series + np.random.randn(200)*0.1\n",
    "print(len(series))\n",
    "\n",
    "# plot\n",
    "plt.plot(series)\n",
    "plt.show();"
   ]
  },
  {
   "cell_type": "code",
   "execution_count": 26,
   "metadata": {
    "ExecuteTime": {
     "end_time": "2020-03-19T02:13:30.180242Z",
     "start_time": "2020-03-19T02:13:30.174233Z"
    }
   },
   "outputs": [
    {
     "name": "stdout",
     "output_type": "stream",
     "text": [
      "X.shape:  (190, 10, 1)  Y.shape:  (190,)\n"
     ]
    }
   ],
   "source": [
    "# build the dataset\n",
    "T = 10 \n",
    "D = 1\n",
    "X = []\n",
    "Y = []\n",
    "\n",
    "for t in range(len(series) - T):\n",
    "    x = series[t:t+T]\n",
    "    X.append(x)\n",
    "    y = series[t+T]\n",
    "    Y.append(y)\n",
    "    \n",
    "X = np.array(X).reshape(-1, T, 1) # Now the data should be N x T x D\n",
    "Y = np.array(Y)\n",
    "N = len(X)\n",
    "print(\"X.shape: \", X.shape, \" Y.shape: \", Y.shape)"
   ]
  },
  {
   "cell_type": "code",
   "execution_count": 42,
   "metadata": {
    "ExecuteTime": {
     "end_time": "2020-03-19T02:16:58.463114Z",
     "start_time": "2020-03-19T02:16:56.411410Z"
    },
    "collapsed": true
   },
   "outputs": [
    {
     "name": "stdout",
     "output_type": "stream",
     "text": [
      "Train on 95 samples, validate on 95 samples\n",
      "Epoch 1/80\n",
      "95/95 [==============================] - 1s 6ms/sample - loss: 15.1086 - val_loss: 0.2591\n",
      "Epoch 2/80\n",
      "95/95 [==============================] - 0s 167us/sample - loss: 0.1733 - val_loss: 0.1536\n",
      "Epoch 3/80\n",
      "95/95 [==============================] - 0s 170us/sample - loss: 0.1624 - val_loss: 0.2689\n",
      "Epoch 4/80\n",
      "95/95 [==============================] - 0s 174us/sample - loss: 0.1111 - val_loss: 0.0558\n",
      "Epoch 5/80\n",
      "95/95 [==============================] - 0s 166us/sample - loss: 0.1428 - val_loss: 0.0912\n",
      "Epoch 6/80\n",
      "95/95 [==============================] - 0s 166us/sample - loss: 0.1404 - val_loss: 0.0843\n",
      "Epoch 7/80\n",
      "95/95 [==============================] - 0s 166us/sample - loss: 0.1191 - val_loss: 0.0456\n",
      "Epoch 8/80\n",
      "95/95 [==============================] - 0s 175us/sample - loss: 0.0898 - val_loss: 0.1171\n",
      "Epoch 9/80\n",
      "95/95 [==============================] - 0s 179us/sample - loss: 0.0704 - val_loss: 0.0464\n",
      "Epoch 10/80\n",
      "95/95 [==============================] - 0s 177us/sample - loss: 0.0742 - val_loss: 0.0536\n",
      "Epoch 11/80\n",
      "95/95 [==============================] - 0s 178us/sample - loss: 0.0701 - val_loss: 0.0870\n",
      "Epoch 12/80\n",
      "95/95 [==============================] - 0s 173us/sample - loss: 0.0566 - val_loss: 0.0333\n",
      "Epoch 13/80\n",
      "95/95 [==============================] - 0s 174us/sample - loss: 0.0483 - val_loss: 0.0387\n",
      "Epoch 14/80\n",
      "95/95 [==============================] - 0s 177us/sample - loss: 0.0431 - val_loss: 0.0288\n",
      "Epoch 15/80\n",
      "95/95 [==============================] - 0s 176us/sample - loss: 0.0359 - val_loss: 0.0442\n",
      "Epoch 16/80\n",
      "95/95 [==============================] - 0s 179us/sample - loss: 0.0374 - val_loss: 0.0322\n",
      "Epoch 17/80\n",
      "95/95 [==============================] - 0s 179us/sample - loss: 0.0367 - val_loss: 0.0296\n",
      "Epoch 18/80\n",
      "95/95 [==============================] - 0s 182us/sample - loss: 0.0317 - val_loss: 0.0305\n",
      "Epoch 19/80\n",
      "95/95 [==============================] - 0s 183us/sample - loss: 0.0327 - val_loss: 0.0276\n",
      "Epoch 20/80\n",
      "95/95 [==============================] - 0s 191us/sample - loss: 0.0339 - val_loss: 0.0265\n",
      "Epoch 21/80\n",
      "95/95 [==============================] - 0s 182us/sample - loss: 0.0326 - val_loss: 0.0273\n",
      "Epoch 22/80\n",
      "95/95 [==============================] - 0s 183us/sample - loss: 0.0320 - val_loss: 0.0286\n",
      "Epoch 23/80\n",
      "95/95 [==============================] - 0s 197us/sample - loss: 0.0309 - val_loss: 0.0250\n",
      "Epoch 24/80\n",
      "95/95 [==============================] - 0s 205us/sample - loss: 0.0312 - val_loss: 0.0247\n",
      "Epoch 25/80\n",
      "95/95 [==============================] - 0s 196us/sample - loss: 0.0295 - val_loss: 0.0254\n",
      "Epoch 26/80\n",
      "95/95 [==============================] - 0s 194us/sample - loss: 0.0291 - val_loss: 0.0268\n",
      "Epoch 27/80\n",
      "95/95 [==============================] - 0s 188us/sample - loss: 0.0297 - val_loss: 0.0251\n",
      "Epoch 28/80\n",
      "95/95 [==============================] - 0s 182us/sample - loss: 0.0287 - val_loss: 0.0242\n",
      "Epoch 29/80\n",
      "95/95 [==============================] - 0s 175us/sample - loss: 0.0288 - val_loss: 0.0238\n",
      "Epoch 30/80\n",
      "95/95 [==============================] - 0s 177us/sample - loss: 0.0287 - val_loss: 0.0250\n",
      "Epoch 31/80\n",
      "95/95 [==============================] - 0s 180us/sample - loss: 0.0281 - val_loss: 0.0277\n",
      "Epoch 32/80\n",
      "95/95 [==============================] - 0s 173us/sample - loss: 0.0285 - val_loss: 0.0242\n",
      "Epoch 33/80\n",
      "95/95 [==============================] - 0s 183us/sample - loss: 0.0280 - val_loss: 0.0232\n",
      "Epoch 34/80\n",
      "95/95 [==============================] - 0s 188us/sample - loss: 0.0285 - val_loss: 0.0250\n",
      "Epoch 35/80\n",
      "95/95 [==============================] - 0s 198us/sample - loss: 0.0277 - val_loss: 0.0234\n",
      "Epoch 36/80\n",
      "95/95 [==============================] - 0s 190us/sample - loss: 0.0272 - val_loss: 0.0228\n",
      "Epoch 37/80\n",
      "95/95 [==============================] - 0s 182us/sample - loss: 0.0275 - val_loss: 0.0224\n",
      "Epoch 38/80\n",
      "95/95 [==============================] - 0s 182us/sample - loss: 0.0265 - val_loss: 0.0246\n",
      "Epoch 39/80\n",
      "95/95 [==============================] - 0s 181us/sample - loss: 0.0268 - val_loss: 0.0237\n",
      "Epoch 40/80\n",
      "95/95 [==============================] - 0s 190us/sample - loss: 0.0260 - val_loss: 0.0219\n",
      "Epoch 41/80\n",
      "95/95 [==============================] - 0s 176us/sample - loss: 0.0266 - val_loss: 0.0220\n",
      "Epoch 42/80\n",
      "95/95 [==============================] - 0s 169us/sample - loss: 0.0270 - val_loss: 0.0218\n",
      "Epoch 43/80\n",
      "95/95 [==============================] - 0s 174us/sample - loss: 0.0266 - val_loss: 0.0247\n",
      "Epoch 44/80\n",
      "95/95 [==============================] - 0s 175us/sample - loss: 0.0257 - val_loss: 0.0213\n",
      "Epoch 45/80\n",
      "95/95 [==============================] - 0s 177us/sample - loss: 0.0267 - val_loss: 0.0222\n",
      "Epoch 46/80\n",
      "95/95 [==============================] - 0s 179us/sample - loss: 0.0252 - val_loss: 0.0214\n",
      "Epoch 47/80\n",
      "95/95 [==============================] - 0s 174us/sample - loss: 0.0258 - val_loss: 0.0216\n",
      "Epoch 48/80\n",
      "95/95 [==============================] - 0s 173us/sample - loss: 0.0260 - val_loss: 0.0228\n",
      "Epoch 49/80\n",
      "95/95 [==============================] - 0s 168us/sample - loss: 0.0245 - val_loss: 0.0206\n",
      "Epoch 50/80\n",
      "95/95 [==============================] - 0s 168us/sample - loss: 0.0253 - val_loss: 0.0232\n",
      "Epoch 51/80\n",
      "95/95 [==============================] - 0s 170us/sample - loss: 0.0274 - val_loss: 0.0223\n",
      "Epoch 52/80\n",
      "95/95 [==============================] - 0s 172us/sample - loss: 0.0267 - val_loss: 0.0204\n",
      "Epoch 53/80\n",
      "95/95 [==============================] - 0s 170us/sample - loss: 0.0262 - val_loss: 0.0264\n",
      "Epoch 54/80\n",
      "95/95 [==============================] - 0s 171us/sample - loss: 0.0282 - val_loss: 0.0203\n",
      "Epoch 55/80\n",
      "95/95 [==============================] - 0s 176us/sample - loss: 0.0242 - val_loss: 0.0239\n",
      "Epoch 56/80\n",
      "95/95 [==============================] - 0s 172us/sample - loss: 0.0246 - val_loss: 0.0208\n",
      "Epoch 57/80\n",
      "95/95 [==============================] - 0s 173us/sample - loss: 0.0244 - val_loss: 0.0203\n",
      "Epoch 58/80\n",
      "95/95 [==============================] - 0s 174us/sample - loss: 0.0243 - val_loss: 0.0235\n",
      "Epoch 59/80\n",
      "95/95 [==============================] - 0s 171us/sample - loss: 0.0241 - val_loss: 0.0199\n",
      "Epoch 60/80\n",
      "95/95 [==============================] - 0s 176us/sample - loss: 0.0252 - val_loss: 0.0203\n",
      "Epoch 61/80\n",
      "95/95 [==============================] - 0s 174us/sample - loss: 0.0234 - val_loss: 0.0198\n",
      "Epoch 62/80\n",
      "95/95 [==============================] - 0s 173us/sample - loss: 0.0237 - val_loss: 0.0220\n",
      "Epoch 63/80\n",
      "95/95 [==============================] - 0s 178us/sample - loss: 0.0242 - val_loss: 0.0203\n",
      "Epoch 64/80\n",
      "95/95 [==============================] - 0s 177us/sample - loss: 0.0270 - val_loss: 0.0231\n",
      "Epoch 65/80\n",
      "95/95 [==============================] - 0s 177us/sample - loss: 0.0241 - val_loss: 0.0206\n",
      "Epoch 66/80\n",
      "95/95 [==============================] - 0s 180us/sample - loss: 0.0232 - val_loss: 0.0200\n",
      "Epoch 67/80\n",
      "95/95 [==============================] - 0s 181us/sample - loss: 0.0238 - val_loss: 0.0237\n",
      "Epoch 68/80\n",
      "95/95 [==============================] - 0s 193us/sample - loss: 0.0235 - val_loss: 0.0195\n",
      "Epoch 69/80\n",
      "95/95 [==============================] - 0s 184us/sample - loss: 0.0243 - val_loss: 0.0195\n",
      "Epoch 70/80\n",
      "95/95 [==============================] - 0s 181us/sample - loss: 0.0236 - val_loss: 0.0225\n",
      "Epoch 71/80\n",
      "95/95 [==============================] - 0s 191us/sample - loss: 0.0239 - val_loss: 0.0195\n",
      "Epoch 72/80\n",
      "95/95 [==============================] - 0s 177us/sample - loss: 0.0268 - val_loss: 0.0194\n",
      "Epoch 73/80\n",
      "95/95 [==============================] - 0s 186us/sample - loss: 0.0249 - val_loss: 0.0208\n",
      "Epoch 74/80\n",
      "95/95 [==============================] - 0s 177us/sample - loss: 0.0240 - val_loss: 0.0211\n",
      "Epoch 75/80\n",
      "95/95 [==============================] - 0s 174us/sample - loss: 0.0250 - val_loss: 0.0198\n",
      "Epoch 76/80\n",
      "95/95 [==============================] - 0s 180us/sample - loss: 0.0243 - val_loss: 0.0220\n",
      "Epoch 77/80\n",
      "95/95 [==============================] - 0s 183us/sample - loss: 0.0231 - val_loss: 0.0195\n",
      "Epoch 78/80\n",
      "95/95 [==============================] - 0s 192us/sample - loss: 0.0234 - val_loss: 0.0251\n",
      "Epoch 79/80\n",
      "95/95 [==============================] - 0s 186us/sample - loss: 0.0241 - val_loss: 0.0194\n",
      "Epoch 80/80\n"
     ]
    },
    {
     "name": "stdout",
     "output_type": "stream",
     "text": [
      "32/95 [=========>....................] - ETA: 0s - loss: 0.0246\b\b\b\b\b\b\b\b\b\b\b\b\b\b\b\b\b\b\b\b\b\b\b\b\b\b\b\b\b\b\b\b\b\b\b\b\b\b\b\b\b\b\b\b\b\b\b\b\b\b\b\b\b\b\b\b\b\b\b\b\b\b\b\r",
      "95/95 [==============================] - 0s 197us/sample - loss: 0.0231 - val_loss: 0.0204\n"
     ]
    }
   ],
   "source": [
    "# autoregressive Linear Model\n",
    "_input = Input(shape=(T, 1))\n",
    "x = SimpleRNN(5, activation=None)(_input)\n",
    "x = Dense(1)(x)\n",
    "model = Model(_input, x)\n",
    "\n",
    "# compile \n",
    "model.compile(\n",
    "    loss=\"mse\",\n",
    "    optimizer=Adam(lr=0.1),\n",
    ")\n",
    "\n",
    "# trian\n",
    "r = model.fit(\n",
    "    X[:-N//2], Y[:-N//2],\n",
    "    epochs=80,\n",
    "    validation_data=(X[-N//2: ], Y[-N//2: ])\n",
    ")"
   ]
  },
  {
   "cell_type": "code",
   "execution_count": 43,
   "metadata": {
    "ExecuteTime": {
     "end_time": "2020-03-19T02:17:02.311246Z",
     "start_time": "2020-03-19T02:17:02.157310Z"
    }
   },
   "outputs": [
    {
     "data": {
      "image/png": "[encoded data removed]",
      "text/plain": [
       "<Figure size 432x288 with 1 Axes>"
      ]
     },
     "metadata": {
      "needs_background": "light"
     },
     "output_type": "display_data"
    }
   ],
   "source": [
    "# plot loss per iteration\n",
    "plt.plot(r.history[\"loss\"], label=\"loss\")\n",
    "plt.plot(r.history[\"val_loss\"], label=\"val_loss\")\n",
    "plt.legend();"
   ]
  },
  {
   "cell_type": "code",
   "execution_count": 44,
   "metadata": {
    "ExecuteTime": {
     "end_time": "2020-03-19T02:17:06.479517Z",
     "start_time": "2020-03-19T02:17:04.708036Z"
    }
   },
   "outputs": [
    {
     "data": {
      "image/png": "[encoded data removed]",
      "text/plain": [
       "<Figure size 432x288 with 1 Axes>"
      ]
     },
     "metadata": {
      "needs_background": "light"
     },
     "output_type": "display_data"
    }
   ],
   "source": [
    "# WRONG forecasting using true targets\n",
    "validation_target = Y[-N//2:]\n",
    "validation_predictions = []\n",
    "\n",
    "# index of first validation input\n",
    "i = -N//2\n",
    "\n",
    "while len(validation_predictions) < len(validation_target):\n",
    "    p = model.predict(X[i].reshape(1, -1, 1))[0, 0] # 1x1 array -> scalar\n",
    "    i += 1\n",
    "    validation_predictions.append(p)\n",
    "    \n",
    "# plot \n",
    "plt.plot(validation_target, label=\"forecast target\")\n",
    "plt.plot(validation_predictions, label=\"forecast predictions\")\n",
    "plt.legend();"
   ]
  },
  {
   "cell_type": "code",
   "execution_count": 45,
   "metadata": {
    "ExecuteTime": {
     "end_time": "2020-03-19T02:17:08.217746Z",
     "start_time": "2020-03-19T02:17:06.480754Z"
    }
   },
   "outputs": [
    {
     "data": {
      "image/png": "[encoded data removed]",
      "text/plain": [
       "<Figure size 432x288 with 1 Axes>"
      ]
     },
     "metadata": {
      "needs_background": "light"
     },
     "output_type": "display_data"
    }
   ],
   "source": [
    "# CORRECT way of forecasting\n",
    "validation_target = Y[-N//2:]\n",
    "validation_predictions = []\n",
    "\n",
    "# last train input\n",
    "last_x = X[-N//2] # 1-D array of length T\n",
    "\n",
    "while len(validation_predictions) < len(validation_target):\n",
    "    p = model.predict(last_x.reshape(1, -1, 1))[0, 0] \n",
    "    \n",
    "    # update\n",
    "    validation_predictions.append(p)\n",
    "    \n",
    "    # make the new input\n",
    "    last_x = np.roll(last_x, -1)\n",
    "    last_x[-1] = p\n",
    "    \n",
    "    \n",
    "# plot \n",
    "plt.plot(validation_target, label=\"forecast target\")\n",
    "plt.plot(validation_predictions, label=\"forecast predictions\")\n",
    "plt.legend();"
   ]
  },
  {
   "cell_type": "markdown",
   "metadata": {},
   "source": [
    "### RNN Shapes "
   ]
  },
  {
   "cell_type": "code",
   "execution_count": 46,
   "metadata": {
    "ExecuteTime": {
     "end_time": "2020-03-19T02:20:03.948915Z",
     "start_time": "2020-03-19T02:20:03.944501Z"
    }
   },
   "outputs": [
    {
     "data": {
      "text/plain": [
       "'\\nN = number of sampels\\nT = sequence of length\\nD = number of input features\\nM = number of hidden units\\nK = number of output units\\n'"
      ]
     },
     "execution_count": 46,
     "metadata": {},
     "output_type": "execute_result"
    }
   ],
   "source": [
    "\"\"\"\n",
    "N = number of sampels\n",
    "T = sequence of length\n",
    "D = number of input features\n",
    "M = number of hidden units\n",
    "K = number of output units\n",
    "\"\"\""
   ]
  },
  {
   "cell_type": "code",
   "execution_count": 47,
   "metadata": {
    "ExecuteTime": {
     "end_time": "2020-03-19T02:20:52.923688Z",
     "start_time": "2020-03-19T02:20:52.920404Z"
    }
   },
   "outputs": [],
   "source": [
    "# make some data\n",
    "N = 1\n",
    "T = 10\n",
    "D = 3\n",
    "M = None\n",
    "K = 2\n",
    "X = np.random.randn(N, T, D)\n"
   ]
  },
  {
   "cell_type": "code",
   "execution_count": 48,
   "metadata": {
    "ExecuteTime": {
     "end_time": "2020-03-19T02:22:59.161963Z",
     "start_time": "2020-03-19T02:22:59.105953Z"
    }
   },
   "outputs": [],
   "source": [
    "# make RNN\n",
    "M = 5 \n",
    "_input = Input(shape=(T, D))\n",
    "x = SimpleRNN(M)(_input)\n",
    "x = Dense(K)(x)\n",
    "\n",
    "model = Model(_input, x)"
   ]
  },
  {
   "cell_type": "code",
   "execution_count": 50,
   "metadata": {
    "ExecuteTime": {
     "end_time": "2020-03-19T02:23:55.805589Z",
     "start_time": "2020-03-19T02:23:55.778379Z"
    }
   },
   "outputs": [
    {
     "name": "stdout",
     "output_type": "stream",
     "text": [
      "[[ 0.50069636 -0.6360667 ]]\n",
      "(1, 2)\n"
     ]
    }
   ],
   "source": [
    "# get the output\n",
    "Yhat = model.predict(X)\n",
    "print(Yhat)\n",
    "print(Yhat.shape)"
   ]
  },
  {
   "cell_type": "code",
   "execution_count": 51,
   "metadata": {
    "ExecuteTime": {
     "end_time": "2020-03-19T02:24:34.783307Z",
     "start_time": "2020-03-19T02:24:34.779265Z"
    }
   },
   "outputs": [
    {
     "name": "stdout",
     "output_type": "stream",
     "text": [
      "Model: \"model_9\"\n",
      "_________________________________________________________________\n",
      "Layer (type)                 Output Shape              Param #   \n",
      "=================================================================\n",
      "input_12 (InputLayer)        [(None, 10, 3)]           0         \n",
      "_________________________________________________________________\n",
      "simple_rnn_11 (SimpleRNN)    (None, 5)                 45        \n",
      "_________________________________________________________________\n",
      "dense_9 (Dense)              (None, 2)                 12        \n",
      "=================================================================\n",
      "Total params: 57\n",
      "Trainable params: 57\n",
      "Non-trainable params: 0\n",
      "_________________________________________________________________\n"
     ]
    }
   ],
   "source": [
    "# See if we can replicate this output\n",
    "# get the weights first\n",
    "model.summary()"
   ]
  },
  {
   "cell_type": "code",
   "execution_count": 55,
   "metadata": {
    "ExecuteTime": {
     "end_time": "2020-03-19T11:55:00.033221Z",
     "start_time": "2020-03-19T11:55:00.027757Z"
    }
   },
   "outputs": [
    {
     "name": "stdout",
     "output_type": "stream",
     "text": [
      "3\n",
      "[array([[-0.8346114 ,  0.6001354 , -0.5600666 , -0.4298375 , -0.19513977],\n",
      "       [-0.02958643,  0.10080332, -0.24152946, -0.79204094,  0.5527777 ],\n",
      "       [ 0.72268814, -0.26013112,  0.5096112 , -0.7383333 ,  0.1671657 ]],\n",
      "      dtype=float32), array([[ 0.15176535,  0.48910785, -0.11826515, -0.564841  ,  0.6361673 ],\n",
      "       [-0.12340208, -0.7047677 ,  0.04096457,  0.12147541,  0.68676054],\n",
      "       [ 0.8460481 , -0.0170936 , -0.3569123 ,  0.38582805,  0.08752581],\n",
      "       [-0.44690186,  0.44862717, -0.3070365 ,  0.651589  ,  0.2831482 ],\n",
      "       [ 0.21498965,  0.2500348 ,  0.8733141 ,  0.3045768 ,  0.18925545]],\n",
      "      dtype=float32), array([0., 0., 0., 0., 0.], dtype=float32)]\n"
     ]
    }
   ],
   "source": [
    "w = model.layers[1].get_weights()\n",
    "print(len(w))\n",
    "print(w)"
   ]
  },
  {
   "cell_type": "code",
   "execution_count": 56,
   "metadata": {
    "ExecuteTime": {
     "end_time": "2020-03-19T11:58:18.332747Z",
     "start_time": "2020-03-19T11:58:18.328726Z"
    }
   },
   "outputs": [
    {
     "name": "stdout",
     "output_type": "stream",
     "text": [
      "(3, 5) (5, 5) (5,)\n"
     ]
    }
   ],
   "source": [
    "# check the shapes of each np array\n",
    "# First output is input > hidden\n",
    "# Second output is hidden > hidden\n",
    "# Third output is bias term (vector of length M)\n",
    "\n",
    "a, b, c = model.layers[1].get_weights()\n",
    "print(a.shape, b.shape, c.shape)"
   ]
  },
  {
   "cell_type": "code",
   "execution_count": 57,
   "metadata": {
    "ExecuteTime": {
     "end_time": "2020-03-19T11:59:38.915814Z",
     "start_time": "2020-03-19T11:59:38.911701Z"
    }
   },
   "outputs": [],
   "source": [
    "Wx, Wh, bh = model.layers[1].get_weights()\n",
    "Wo, bo = model.layers[2].get_weights()"
   ]
  },
  {
   "cell_type": "code",
   "execution_count": 58,
   "metadata": {
    "ExecuteTime": {
     "end_time": "2020-03-19T12:04:03.426653Z",
     "start_time": "2020-03-19T12:04:03.421022Z"
    }
   },
   "outputs": [
    {
     "name": "stdout",
     "output_type": "stream",
     "text": [
      "[ 0.50069625 -0.63606681]\n"
     ]
    }
   ],
   "source": [
    "# MANUAL RNN Calculation\n",
    "\n",
    "# initial hidden state\n",
    "h_last = np.zeros(M)\n",
    "\n",
    "# the one and only sample\n",
    "x = X[0]\n",
    "\n",
    "# where we store the outputs\n",
    "Yhats = []\n",
    "\n",
    "for t in range(T):\n",
    "    h = np.tanh(x[t].dot(Wx) + h_last.dot(Wh) + bh)\n",
    "    # we only care about this value on the last iteration\n",
    "    y = h.dot(Wo) + bo\n",
    "    Yhats.append(y)\n",
    "    \n",
    "    # important: assign h to h_last\n",
    "    h_last = h\n",
    "print(Yhats[-1])"
   ]
  },
  {
   "cell_type": "code",
   "execution_count": null,
   "metadata": {},
   "outputs": [],
   "source": []
  },
  {
   "cell_type": "code",
   "execution_count": null,
   "metadata": {},
   "outputs": [],
   "source": []
  },
  {
   "cell_type": "code",
   "execution_count": null,
   "metadata": {},
   "outputs": [],
   "source": []
  }
 ],
 "metadata": {
  "kernelspec": {
   "display_name": "Python [conda env:py36] *",
   "language": "python",
   "name": "conda-env-py36-py"
  },
  "language_info": {
   "codemirror_mode": {
    "name": "ipython",
    "version": 3
   },
   "file_extension": ".py",
   "mimetype": "text/x-python",
   "name": "python",
   "nbconvert_exporter": "python",
   "pygments_lexer": "ipython3",
   "version": "3.6.8"
  },
  "latex_envs": {
   "LaTeX_envs_menu_present": true,
   "autoclose": false,
   "autocomplete": true,
   "bibliofile": "biblio.bib",
   "cite_by": "apalike",
   "current_citInitial": 1,
   "eqLabelWithNumbers": true,
   "eqNumInitial": 1,
   "hotkeys": {
    "equation": "Ctrl-E",
    "itemize": "Ctrl-I"
   },
   "labels_anchors": false,
   "latex_user_defs": false,
   "report_style_numbering": false,
   "user_envs_cfg": false
  }
 },
 "nbformat": 4,
 "nbformat_minor": 2
}
