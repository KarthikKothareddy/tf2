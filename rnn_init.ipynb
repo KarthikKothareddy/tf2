{
 "cells": [
  {
   "cell_type": "code",
   "execution_count": 6,
   "metadata": {
    "ExecuteTime": {
     "end_time": "2020-03-19T01:13:02.933459Z",
     "start_time": "2020-03-19T01:13:02.928219Z"
    }
   },
   "outputs": [],
   "source": [
    "from tensorflow.keras.layers import Input, Dense, SimpleRNN, Flatten\n",
    "from tensorflow.keras.models import Model\n",
    "from tensorflow.keras.optimizers import SGD, Adam\n",
    "\n",
    "import numpy as np\n",
    "import pandas as pd\n",
    "import matplotlib.pyplot as plt\n",
    "%matplotlib inline\n"
   ]
  },
  {
   "cell_type": "code",
   "execution_count": 2,
   "metadata": {
    "ExecuteTime": {
     "end_time": "2020-03-19T01:10:10.910990Z",
     "start_time": "2020-03-19T01:10:10.758775Z"
    }
   },
   "outputs": [
    {
     "name": "stdout",
     "output_type": "stream",
     "text": [
      "200\n"
     ]
    },
    {
     "data": {
      "image/png": "[encoded data removed]",
      "text/plain": [
       "<Figure size 432x288 with 1 Axes>"
      ]
     },
     "metadata": {
      "needs_background": "light"
     },
     "output_type": "display_data"
    }
   ],
   "source": [
    "# make synthetic data\n",
    "series = np.sin(0.1 * np.arange(200))\n",
    "\n",
    "# optional add noise\n",
    "# series = series + np.random.randn(200)*0.1\n",
    "print(len(series))\n",
    "\n",
    "# plot\n",
    "plt.plot(series)\n",
    "plt.show();"
   ]
  },
  {
   "cell_type": "code",
   "execution_count": 10,
   "metadata": {
    "ExecuteTime": {
     "end_time": "2020-03-19T01:15:46.289956Z",
     "start_time": "2020-03-19T01:15:46.283534Z"
    }
   },
   "outputs": [
    {
     "name": "stdout",
     "output_type": "stream",
     "text": [
      "X.shape:  (190, 10, 1)  Y.shape:  (190,)\n"
     ]
    }
   ],
   "source": [
    "# build the dataset\n",
    "T = 10 \n",
    "D = 1\n",
    "X = []\n",
    "Y = []\n",
    "\n",
    "for t in range(len(series) - T):\n",
    "    x = series[t:t+T]\n",
    "    X.append(x)\n",
    "    y = series[t+T]\n",
    "    Y.append(y)\n",
    "    \n",
    "X = np.array(X).reshape(-1, T, 1) # Now the data should be N x T x D\n",
    "Y = np.array(Y)\n",
    "N = len(X)\n",
    "print(\"X.shape: \", X.shape, \" Y.shape: \", Y.shape)"
   ]
  },
  {
   "cell_type": "code",
   "execution_count": 11,
   "metadata": {
    "ExecuteTime": {
     "end_time": "2020-03-19T01:15:46.644510Z",
     "start_time": "2020-03-19T01:15:46.490177Z"
    }
   },
   "outputs": [],
   "source": [
    "# autoregressive Linear Model\n",
    "_input = Input(shape=(T, 1))\n",
    "x = SimpleRNN(5, activation=\"relu\")(_input)\n",
    "x = Dense(1)(x)\n",
    "model = Model(_input, x)\n",
    "\n",
    "model.compile(\n",
    "    loss=\"mse\",\n",
    "    optimizer=Adam(lr=0.1),\n",
    ")"
   ]
  },
  {
   "cell_type": "code",
   "execution_count": 14,
   "metadata": {
    "ExecuteTime": {
     "end_time": "2020-03-19T01:17:22.120938Z",
     "start_time": "2020-03-19T01:17:20.038134Z"
    },
    "collapsed": true
   },
   "outputs": [
    {
     "name": "stdout",
     "output_type": "stream",
     "text": [
      "Train on 95 samples, validate on 95 samples\n",
      "Epoch 1/80\n",
      "95/95 [==============================] - 1s 6ms/sample - loss: 0.2457 - val_loss: 0.1928\n",
      "Epoch 2/80\n",
      "95/95 [==============================] - 0s 177us/sample - loss: 0.1136 - val_loss: 0.0219\n",
      "Epoch 3/80\n",
      "95/95 [==============================] - 0s 184us/sample - loss: 0.0161 - val_loss: 0.0523\n",
      "Epoch 4/80\n",
      "95/95 [==============================] - 0s 187us/sample - loss: 0.0339 - val_loss: 0.0369\n",
      "Epoch 5/80\n",
      "95/95 [==============================] - 0s 175us/sample - loss: 0.0120 - val_loss: 0.0123\n",
      "Epoch 6/80\n",
      "95/95 [==============================] - 0s 178us/sample - loss: 0.0119 - val_loss: 0.0233\n",
      "Epoch 7/80\n",
      "95/95 [==============================] - 0s 180us/sample - loss: 0.0171 - val_loss: 0.0194\n",
      "Epoch 8/80\n",
      "95/95 [==============================] - 0s 178us/sample - loss: 0.0108 - val_loss: 0.0119\n",
      "Epoch 9/80\n",
      "95/95 [==============================] - 0s 180us/sample - loss: 0.0074 - val_loss: 0.0139\n",
      "Epoch 10/80\n",
      "95/95 [==============================] - 0s 179us/sample - loss: 0.0079 - val_loss: 0.0039\n",
      "Epoch 11/80\n",
      "95/95 [==============================] - 0s 175us/sample - loss: 0.0031 - val_loss: 0.0064\n",
      "Epoch 12/80\n",
      "95/95 [==============================] - 0s 180us/sample - loss: 0.0043 - val_loss: 0.0026\n",
      "Epoch 13/80\n",
      "95/95 [==============================] - 0s 178us/sample - loss: 0.0044 - val_loss: 0.0023\n",
      "Epoch 14/80\n",
      "95/95 [==============================] - 0s 174us/sample - loss: 0.0037 - val_loss: 0.0055\n",
      "Epoch 15/80\n",
      "95/95 [==============================] - 0s 177us/sample - loss: 0.0028 - val_loss: 0.0023\n",
      "Epoch 16/80\n",
      "95/95 [==============================] - 0s 179us/sample - loss: 0.0032 - val_loss: 0.0023\n",
      "Epoch 17/80\n",
      "95/95 [==============================] - 0s 181us/sample - loss: 0.0022 - val_loss: 0.0026\n",
      "Epoch 18/80\n",
      "95/95 [==============================] - 0s 184us/sample - loss: 0.0021 - val_loss: 0.0016\n",
      "Epoch 19/80\n",
      "95/95 [==============================] - 0s 186us/sample - loss: 0.0021 - val_loss: 0.0031\n",
      "Epoch 20/80\n",
      "95/95 [==============================] - 0s 182us/sample - loss: 0.0020 - val_loss: 0.0014\n",
      "Epoch 21/80\n",
      "95/95 [==============================] - 0s 183us/sample - loss: 0.0017 - val_loss: 0.0018\n",
      "Epoch 22/80\n",
      "95/95 [==============================] - 0s 193us/sample - loss: 0.0017 - val_loss: 0.0021\n",
      "Epoch 23/80\n",
      "95/95 [==============================] - 0s 212us/sample - loss: 0.0015 - val_loss: 0.0014\n",
      "Epoch 24/80\n",
      "95/95 [==============================] - 0s 187us/sample - loss: 0.0015 - val_loss: 0.0015\n",
      "Epoch 25/80\n",
      "95/95 [==============================] - 0s 187us/sample - loss: 0.0016 - val_loss: 0.0020\n",
      "Epoch 26/80\n",
      "95/95 [==============================] - 0s 192us/sample - loss: 0.0013 - val_loss: 0.0012\n",
      "Epoch 27/80\n",
      "95/95 [==============================] - 0s 182us/sample - loss: 0.0015 - val_loss: 0.0016\n",
      "Epoch 28/80\n",
      "95/95 [==============================] - 0s 183us/sample - loss: 0.0013 - val_loss: 0.0015\n",
      "Epoch 29/80\n",
      "95/95 [==============================] - 0s 184us/sample - loss: 0.0013 - val_loss: 0.0011\n",
      "Epoch 30/80\n",
      "95/95 [==============================] - 0s 181us/sample - loss: 0.0013 - val_loss: 0.0016\n",
      "Epoch 31/80\n",
      "95/95 [==============================] - 0s 169us/sample - loss: 0.0011 - val_loss: 0.0011\n",
      "Epoch 32/80\n",
      "95/95 [==============================] - 0s 172us/sample - loss: 0.0011 - val_loss: 0.0013\n",
      "Epoch 33/80\n",
      "95/95 [==============================] - 0s 184us/sample - loss: 0.0011 - val_loss: 0.0011\n",
      "Epoch 34/80\n",
      "95/95 [==============================] - 0s 182us/sample - loss: 0.0011 - val_loss: 0.0011\n",
      "Epoch 35/80\n",
      "95/95 [==============================] - 0s 183us/sample - loss: 9.6516e-04 - val_loss: 0.0013\n",
      "Epoch 36/80\n",
      "95/95 [==============================] - 0s 188us/sample - loss: 9.4051e-04 - val_loss: 9.9225e-04\n",
      "Epoch 37/80\n",
      "95/95 [==============================] - 0s 182us/sample - loss: 0.0011 - val_loss: 0.0011\n",
      "Epoch 38/80\n",
      "95/95 [==============================] - 0s 196us/sample - loss: 0.0010 - val_loss: 0.0011\n",
      "Epoch 39/80\n",
      "95/95 [==============================] - 0s 188us/sample - loss: 9.4967e-04 - val_loss: 8.6751e-04\n",
      "Epoch 40/80\n",
      "95/95 [==============================] - 0s 193us/sample - loss: 8.9052e-04 - val_loss: 0.0014\n",
      "Epoch 41/80\n",
      "95/95 [==============================] - 0s 183us/sample - loss: 9.3182e-04 - val_loss: 9.8780e-04\n",
      "Epoch 42/80\n",
      "95/95 [==============================] - 0s 179us/sample - loss: 9.4651e-04 - val_loss: 0.0010\n",
      "Epoch 43/80\n",
      "95/95 [==============================] - 0s 185us/sample - loss: 9.0585e-04 - val_loss: 9.7184e-04\n",
      "Epoch 44/80\n",
      "95/95 [==============================] - 0s 173us/sample - loss: 7.2399e-04 - val_loss: 8.1554e-04\n",
      "Epoch 45/80\n",
      "95/95 [==============================] - 0s 174us/sample - loss: 6.4440e-04 - val_loss: 7.9724e-04\n",
      "Epoch 46/80\n",
      "95/95 [==============================] - 0s 181us/sample - loss: 5.8205e-04 - val_loss: 6.2097e-04\n",
      "Epoch 47/80\n",
      "95/95 [==============================] - 0s 184us/sample - loss: 4.7208e-04 - val_loss: 4.3408e-04\n",
      "Epoch 48/80\n",
      "95/95 [==============================] - 0s 188us/sample - loss: 3.5188e-04 - val_loss: 3.4484e-04\n",
      "Epoch 49/80\n",
      "95/95 [==============================] - 0s 193us/sample - loss: 2.2709e-04 - val_loss: 2.6527e-04\n",
      "Epoch 50/80\n",
      "95/95 [==============================] - 0s 195us/sample - loss: 1.9654e-04 - val_loss: 2.3556e-04\n",
      "Epoch 51/80\n",
      "95/95 [==============================] - 0s 183us/sample - loss: 2.3305e-04 - val_loss: 2.0836e-04\n",
      "Epoch 52/80\n",
      "95/95 [==============================] - 0s 187us/sample - loss: 2.1543e-04 - val_loss: 1.6389e-04\n",
      "Epoch 53/80\n",
      "95/95 [==============================] - 0s 182us/sample - loss: 1.9467e-04 - val_loss: 1.5534e-04\n",
      "Epoch 54/80\n",
      "95/95 [==============================] - 0s 187us/sample - loss: 1.3953e-04 - val_loss: 1.5940e-04\n",
      "Epoch 55/80\n",
      "95/95 [==============================] - 0s 184us/sample - loss: 1.2941e-04 - val_loss: 1.7268e-04\n",
      "Epoch 56/80\n",
      "95/95 [==============================] - 0s 184us/sample - loss: 1.3902e-04 - val_loss: 1.7169e-04\n",
      "Epoch 57/80\n",
      "95/95 [==============================] - 0s 191us/sample - loss: 1.3197e-04 - val_loss: 1.3478e-04\n",
      "Epoch 58/80\n",
      "95/95 [==============================] - 0s 195us/sample - loss: 1.1973e-04 - val_loss: 1.2056e-04\n",
      "Epoch 59/80\n",
      "95/95 [==============================] - 0s 182us/sample - loss: 1.1397e-04 - val_loss: 1.0903e-04\n",
      "Epoch 60/80\n",
      "95/95 [==============================] - 0s 187us/sample - loss: 1.1652e-04 - val_loss: 1.2134e-04\n",
      "Epoch 61/80\n",
      "95/95 [==============================] - 0s 190us/sample - loss: 1.2054e-04 - val_loss: 1.2689e-04\n",
      "Epoch 62/80\n",
      "95/95 [==============================] - 0s 182us/sample - loss: 1.0994e-04 - val_loss: 1.1032e-04\n",
      "Epoch 63/80\n",
      "95/95 [==============================] - 0s 182us/sample - loss: 1.0633e-04 - val_loss: 1.2088e-04\n",
      "Epoch 64/80\n",
      "95/95 [==============================] - 0s 180us/sample - loss: 1.0698e-04 - val_loss: 1.1908e-04\n",
      "Epoch 65/80\n",
      "95/95 [==============================] - 0s 178us/sample - loss: 1.0562e-04 - val_loss: 1.2192e-04\n",
      "Epoch 66/80\n",
      "95/95 [==============================] - 0s 177us/sample - loss: 1.0468e-04 - val_loss: 1.1737e-04\n",
      "Epoch 67/80\n",
      "95/95 [==============================] - 0s 173us/sample - loss: 1.0450e-04 - val_loss: 1.2128e-04\n",
      "Epoch 68/80\n",
      "95/95 [==============================] - 0s 175us/sample - loss: 1.0276e-04 - val_loss: 1.1025e-04\n",
      "Epoch 69/80\n",
      "95/95 [==============================] - 0s 172us/sample - loss: 9.6032e-05 - val_loss: 1.1921e-04\n",
      "Epoch 70/80\n",
      "95/95 [==============================] - 0s 179us/sample - loss: 9.4445e-05 - val_loss: 1.0427e-04\n",
      "Epoch 71/80\n",
      "95/95 [==============================] - 0s 182us/sample - loss: 8.7777e-05 - val_loss: 1.1191e-04\n",
      "Epoch 72/80\n",
      "95/95 [==============================] - 0s 177us/sample - loss: 9.2737e-05 - val_loss: 1.0883e-04\n",
      "Epoch 73/80\n",
      "95/95 [==============================] - 0s 178us/sample - loss: 8.4105e-05 - val_loss: 1.2857e-04\n",
      "Epoch 74/80\n",
      "95/95 [==============================] - 0s 182us/sample - loss: 9.0211e-05 - val_loss: 1.0963e-04\n",
      "Epoch 75/80\n",
      "95/95 [==============================] - 0s 187us/sample - loss: 7.7067e-05 - val_loss: 1.2624e-04\n",
      "Epoch 76/80\n",
      "95/95 [==============================] - 0s 182us/sample - loss: 7.8178e-05 - val_loss: 1.1175e-04\n",
      "Epoch 77/80\n"
     ]
    },
    {
     "name": "stdout",
     "output_type": "stream",
     "text": [
      "95/95 [==============================] - 0s 181us/sample - loss: 8.1938e-05 - val_loss: 1.1038e-04\n",
      "Epoch 78/80\n",
      "95/95 [==============================] - 0s 181us/sample - loss: 7.9664e-05 - val_loss: 1.1152e-04\n",
      "Epoch 79/80\n",
      "95/95 [==============================] - 0s 180us/sample - loss: 7.4601e-05 - val_loss: 1.1165e-04\n",
      "Epoch 80/80\n",
      "95/95 [==============================] - 0s 180us/sample - loss: 7.7198e-05 - val_loss: 1.0720e-04\n"
     ]
    }
   ],
   "source": [
    "r = model.fit(\n",
    "    X[:-N//2], Y[:-N//2],\n",
    "    epochs=80,\n",
    "    validation_data=(X[-N//2: ], Y[-N//2: ])\n",
    ")"
   ]
  },
  {
   "cell_type": "code",
   "execution_count": 15,
   "metadata": {
    "ExecuteTime": {
     "end_time": "2020-03-19T01:17:53.878644Z",
     "start_time": "2020-03-19T01:17:53.716037Z"
    }
   },
   "outputs": [
    {
     "data": {
      "image/png": "[encoded data removed]",
      "text/plain": [
       "<Figure size 432x288 with 1 Axes>"
      ]
     },
     "metadata": {
      "needs_background": "light"
     },
     "output_type": "display_data"
    }
   ],
   "source": [
    "# plot loss per iteration\n",
    "plt.plot(r.history[\"loss\"], label=\"loss\")\n",
    "plt.plot(r.history[\"val_loss\"], label=\"val_loss\")\n",
    "plt.legend();"
   ]
  },
  {
   "cell_type": "code",
   "execution_count": null,
   "metadata": {
    "ExecuteTime": {
     "end_time": "2020-03-19T01:16:17.784585Z",
     "start_time": "2020-03-19T01:16:17.780675Z"
    }
   },
   "outputs": [],
   "source": []
  },
  {
   "cell_type": "code",
   "execution_count": null,
   "metadata": {
    "ExecuteTime": {
     "end_time": "2020-03-19T01:16:27.928701Z",
     "start_time": "2020-03-19T01:16:27.924672Z"
    }
   },
   "outputs": [],
   "source": []
  },
  {
   "cell_type": "code",
   "execution_count": null,
   "metadata": {},
   "outputs": [],
   "source": []
  },
  {
   "cell_type": "code",
   "execution_count": null,
   "metadata": {},
   "outputs": [],
   "source": []
  },
  {
   "cell_type": "code",
   "execution_count": null,
   "metadata": {},
   "outputs": [],
   "source": []
  },
  {
   "cell_type": "code",
   "execution_count": null,
   "metadata": {},
   "outputs": [],
   "source": []
  },
  {
   "cell_type": "code",
   "execution_count": null,
   "metadata": {},
   "outputs": [],
   "source": []
  }
 ],
 "metadata": {
  "kernelspec": {
   "display_name": "Python [conda env:py36] *",
   "language": "python",
   "name": "conda-env-py36-py"
  },
  "language_info": {
   "codemirror_mode": {
    "name": "ipython",
    "version": 3
   },
   "file_extension": ".py",
   "mimetype": "text/x-python",
   "name": "python",
   "nbconvert_exporter": "python",
   "pygments_lexer": "ipython3",
   "version": "3.6.8"
  },
  "latex_envs": {
   "LaTeX_envs_menu_present": true,
   "autoclose": false,
   "autocomplete": true,
   "bibliofile": "biblio.bib",
   "cite_by": "apalike",
   "current_citInitial": 1,
   "eqLabelWithNumbers": true,
   "eqNumInitial": 1,
   "hotkeys": {
    "equation": "Ctrl-E",
    "itemize": "Ctrl-I"
   },
   "labels_anchors": false,
   "latex_user_defs": false,
   "report_style_numbering": false,
   "user_envs_cfg": false
  }
 },
 "nbformat": 4,
 "nbformat_minor": 2
}
