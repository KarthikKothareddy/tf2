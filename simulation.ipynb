{
 "cells": [
  {
   "cell_type": "code",
   "execution_count": 1,
   "metadata": {
    "ExecuteTime": {
     "end_time": "2020-03-20T03:47:39.755531Z",
     "start_time": "2020-03-20T03:47:39.359407Z"
    }
   },
   "outputs": [],
   "source": [
    "import numpy as np\n",
    "import pandas as pd\n",
    "import os \n",
    "import sys"
   ]
  },
  {
   "cell_type": "code",
   "execution_count": 34,
   "metadata": {
    "ExecuteTime": {
     "end_time": "2020-03-20T04:12:29.556609Z",
     "start_time": "2020-03-20T04:12:29.529793Z"
    }
   },
   "outputs": [],
   "source": [
    "SIZE = 10000\n",
    "\n",
    "t1 = {\n",
    "    \"EI\": np.round(np.random.uniform(low=-3, high=1, size=SIZE), 3),\n",
    "    \"QI\": np.round(np.random.uniform(low=1.1, high=20, size=SIZE), 3),\n",
    "    \"Y\": [1] * SIZE,\n",
    "}\n",
    "df = pd.DataFrame(t1)\n",
    "\n",
    "t2 = {\n",
    "    \"EI\": np.round(np.random.uniform(low=-3, high=1, size=SIZE), 3),\n",
    "    \"QI\": np.round(np.random.uniform(low=-3, high=1.001, size=SIZE), 3),\n",
    "    \"Y\": [2] * SIZE,\n",
    "}\n",
    "df = pd.concat([df, pd.DataFrame(t2)], axis=0)\n",
    "\n",
    "t3 = {\n",
    "    \"EI\": np.round(np.random.uniform(low=1, high=20, size=SIZE), 3),\n",
    "    \"QI\": np.round(np.random.uniform(low=1, high=20, size=SIZE), 3),\n",
    "    \"Y\": [3] * SIZE,\n",
    "}\n",
    "df = pd.concat([df, pd.DataFrame(t3)], axis=0)\n",
    "\n",
    "t4 = {\n",
    "    \"EI\": np.round(np.random.uniform(low=1, high=20, size=SIZE), 3),\n",
    "    \"QI\": np.round(np.random.uniform(low=-3, high=1.001, size=SIZE), 3),\n",
    "    \"Y\": [4] * SIZE,\n",
    "}\n",
    "df = pd.concat([df, pd.DataFrame(t4)], axis=0)"
   ]
  },
  {
   "cell_type": "code",
   "execution_count": 36,
   "metadata": {
    "ExecuteTime": {
     "end_time": "2020-03-20T04:13:14.304614Z",
     "start_time": "2020-03-20T04:13:14.291056Z"
    }
   },
   "outputs": [
    {
     "data": {
      "text/html": [
       "<div>\n",
       "<style scoped>\n",
       "    .dataframe tbody tr th:only-of-type {\n",
       "        vertical-align: middle;\n",
       "    }\n",
       "\n",
       "    .dataframe tbody tr th {\n",
       "        vertical-align: top;\n",
       "    }\n",
       "\n",
       "    .dataframe thead th {\n",
       "        text-align: right;\n",
       "    }\n",
       "</style>\n",
       "<table border=\"1\" class=\"dataframe\">\n",
       "  <thead>\n",
       "    <tr style=\"text-align: right;\">\n",
       "      <th></th>\n",
       "      <th>EI</th>\n",
       "      <th>QI</th>\n",
       "      <th>Y</th>\n",
       "    </tr>\n",
       "  </thead>\n",
       "  <tbody>\n",
       "    <tr>\n",
       "      <th>0</th>\n",
       "      <td>17.211</td>\n",
       "      <td>-0.819</td>\n",
       "      <td>4</td>\n",
       "    </tr>\n",
       "    <tr>\n",
       "      <th>1</th>\n",
       "      <td>15.303</td>\n",
       "      <td>17.214</td>\n",
       "      <td>3</td>\n",
       "    </tr>\n",
       "    <tr>\n",
       "      <th>2</th>\n",
       "      <td>-2.790</td>\n",
       "      <td>12.593</td>\n",
       "      <td>1</td>\n",
       "    </tr>\n",
       "    <tr>\n",
       "      <th>3</th>\n",
       "      <td>19.768</td>\n",
       "      <td>-1.784</td>\n",
       "      <td>4</td>\n",
       "    </tr>\n",
       "    <tr>\n",
       "      <th>4</th>\n",
       "      <td>-0.124</td>\n",
       "      <td>4.563</td>\n",
       "      <td>1</td>\n",
       "    </tr>\n",
       "  </tbody>\n",
       "</table>\n",
       "</div>"
      ],
      "text/plain": [
       "       EI      QI  Y\n",
       "0  17.211  -0.819  4\n",
       "1  15.303  17.214  3\n",
       "2  -2.790  12.593  1\n",
       "3  19.768  -1.784  4\n",
       "4  -0.124   4.563  1"
      ]
     },
     "execution_count": 36,
     "metadata": {},
     "output_type": "execute_result"
    }
   ],
   "source": [
    "df = df.sample(frac=1).reset_index(drop=True)\n",
    "df.head()"
   ]
  },
  {
   "cell_type": "code",
   "execution_count": 38,
   "metadata": {
    "ExecuteTime": {
     "end_time": "2020-03-20T04:16:41.946375Z",
     "start_time": "2020-03-20T04:16:41.942521Z"
    }
   },
   "outputs": [],
   "source": [
    "import numpy as np\n",
    "import matplotlib.pyplot as plt\n",
    "\n",
    "from tensorflow.keras.layers import Input, Flatten, Dense, Conv2D\n",
    "from tensorflow.keras.models import Model\n",
    "from tensorflow.keras.optimizers import Adam\n",
    "from tensorflow.keras.utils import to_categorical\n",
    "\n",
    "from sklearn.model_selection import train_test_split"
   ]
  },
  {
   "cell_type": "code",
   "execution_count": 39,
   "metadata": {
    "ExecuteTime": {
     "end_time": "2020-03-20T04:18:10.023644Z",
     "start_time": "2020-03-20T04:18:10.006037Z"
    }
   },
   "outputs": [],
   "source": [
    "x_train, x_test, y_train, y_test = train_test_split(\n",
    "    df.drop([\"Y\"], axis=1), df[[\"Y\"]], test_size=0.25, random_state=255\n",
    ")"
   ]
  },
  {
   "cell_type": "code",
   "execution_count": 83,
   "metadata": {
    "ExecuteTime": {
     "end_time": "2020-03-20T04:45:45.046258Z",
     "start_time": "2020-03-20T04:45:44.989854Z"
    }
   },
   "outputs": [
    {
     "name": "stdout",
     "output_type": "stream",
     "text": [
      "Model: \"model_17\"\n",
      "_________________________________________________________________\n",
      "Layer (type)                 Output Shape              Param #   \n",
      "=================================================================\n",
      "input_19 (InputLayer)        [(None, 2)]               0         \n",
      "_________________________________________________________________\n",
      "dense_81 (Dense)             (None, 50)                150       \n",
      "_________________________________________________________________\n",
      "dense_82 (Dense)             (None, 20)                1020      \n",
      "_________________________________________________________________\n",
      "dense_83 (Dense)             (None, 10)                210       \n",
      "_________________________________________________________________\n",
      "dense_84 (Dense)             (None, 1)                 11        \n",
      "_________________________________________________________________\n",
      "dense_85 (Dense)             (None, 10)                20        \n",
      "_________________________________________________________________\n",
      "dense_86 (Dense)             (None, 20)                220       \n",
      "_________________________________________________________________\n",
      "dense_87 (Dense)             (None, 50)                1050      \n",
      "_________________________________________________________________\n",
      "dense_88 (Dense)             (None, 1)                 51        \n",
      "=================================================================\n",
      "Total params: 2,732\n",
      "Trainable params: 2,732\n",
      "Non-trainable params: 0\n",
      "_________________________________________________________________\n"
     ]
    }
   ],
   "source": [
    "\"\"\"\n",
    "# ENCODER\n",
    "_input = Input(shape=(2, ))\n",
    "# xe = Dense(4, activation=\"relu\")(_input)\n",
    "encoded = Dense(1)(_input)\n",
    "\n",
    "# model\n",
    "encoder = Model(_input, encoded)\n",
    "\n",
    "# encoded input\n",
    "encoded_input = Input(shape=(1, ))\n",
    "\n",
    "# DECODER\n",
    "# xd = Dense(4, activation=\"relu\")(encoded_input)\n",
    "\n",
    "decoded_output = Dense(2, activation=\"sigmoid\")(encoded_input)\n",
    "\n",
    "autoencoder = Model(_input, decoded_output)\n",
    "\"\"\"\n",
    "\n",
    "latent_features = 1\n",
    "\n",
    "# input 4, 2, 1\n",
    "_input = Input(shape=(2, ))\n",
    "x = Dense(50)(_input)\n",
    "x = Dense(20)(x)\n",
    "x = Dense(10)(x)\n",
    "# encoded\n",
    "encoded = Dense(latent_features, activation=\"relu\")(x)\n",
    "\n",
    "# decoded \n",
    "x = Dense(10)(encoded)\n",
    "x = Dense(20)(x)\n",
    "x = Dense(50)(x)\n",
    "decoded = Dense(1, activation=\"sigmoid\")(x)\n",
    "\n",
    "# autoencoder\n",
    "autoencoder = Model(_input, decoded)\n",
    "\n",
    "autoencoder.summary()"
   ]
  },
  {
   "cell_type": "code",
   "execution_count": 86,
   "metadata": {
    "ExecuteTime": {
     "end_time": "2020-03-20T04:45:57.092542Z",
     "start_time": "2020-03-20T04:45:57.077125Z"
    }
   },
   "outputs": [],
   "source": [
    "autoencoder.compile(optimizer=\"adam\", loss=\"mse\")"
   ]
  },
  {
   "cell_type": "code",
   "execution_count": 87,
   "metadata": {
    "ExecuteTime": {
     "end_time": "2020-03-20T04:46:06.680847Z",
     "start_time": "2020-03-20T04:45:57.565412Z"
    }
   },
   "outputs": [
    {
     "name": "stdout",
     "output_type": "stream",
     "text": [
      "Train on 30000 samples, validate on 10000 samples\n",
      "Epoch 1/50\n",
      "30000/30000 [==============================] - 1s 17us/sample - loss: 3.8424 - val_loss: 3.5648\n",
      "Epoch 2/50\n",
      "30000/30000 [==============================] - 0s 6us/sample - loss: 3.5009 - val_loss: 3.5369\n",
      "Epoch 3/50\n",
      "30000/30000 [==============================] - 0s 6us/sample - loss: 3.4914 - val_loss: 3.5342\n",
      "Epoch 4/50\n",
      "30000/30000 [==============================] - 0s 6us/sample - loss: 3.4901 - val_loss: 3.5335\n",
      "Epoch 5/50\n",
      "30000/30000 [==============================] - 0s 6us/sample - loss: 3.4896 - val_loss: 3.5332\n",
      "Epoch 6/50\n",
      "30000/30000 [==============================] - 0s 6us/sample - loss: 3.4894 - val_loss: 3.5331\n",
      "Epoch 7/50\n",
      "30000/30000 [==============================] - 0s 6us/sample - loss: 3.4893 - val_loss: 3.5330\n",
      "Epoch 8/50\n",
      "30000/30000 [==============================] - 0s 6us/sample - loss: 3.4892 - val_loss: 3.5329\n",
      "Epoch 9/50\n",
      "30000/30000 [==============================] - 0s 6us/sample - loss: 3.4892 - val_loss: 3.5329\n",
      "Epoch 10/50\n",
      "30000/30000 [==============================] - 0s 6us/sample - loss: 3.4892 - val_loss: 3.5329\n",
      "Epoch 11/50\n",
      "30000/30000 [==============================] - 0s 6us/sample - loss: 3.4891 - val_loss: 3.5329\n",
      "Epoch 12/50\n",
      "30000/30000 [==============================] - 0s 6us/sample - loss: 3.4891 - val_loss: 3.5329\n",
      "Epoch 13/50\n",
      "30000/30000 [==============================] - 0s 6us/sample - loss: 3.4891 - val_loss: 3.5328\n",
      "Epoch 14/50\n",
      "30000/30000 [==============================] - 0s 6us/sample - loss: 3.4891 - val_loss: 3.5328\n",
      "Epoch 15/50\n",
      "30000/30000 [==============================] - 0s 6us/sample - loss: 3.4891 - val_loss: 3.5328\n",
      "Epoch 16/50\n",
      "30000/30000 [==============================] - 0s 6us/sample - loss: 3.4891 - val_loss: 3.5328\n",
      "Epoch 17/50\n",
      "30000/30000 [==============================] - 0s 6us/sample - loss: 3.4891 - val_loss: 3.5328\n",
      "Epoch 18/50\n",
      "30000/30000 [==============================] - 0s 6us/sample - loss: 3.4891 - val_loss: 3.5328\n",
      "Epoch 19/50\n",
      "30000/30000 [==============================] - 0s 6us/sample - loss: 3.4891 - val_loss: 3.5328\n",
      "Epoch 20/50\n",
      "30000/30000 [==============================] - 0s 6us/sample - loss: 3.4891 - val_loss: 3.5328\n",
      "Epoch 21/50\n",
      "30000/30000 [==============================] - 0s 6us/sample - loss: 3.4891 - val_loss: 3.5328\n",
      "Epoch 22/50\n",
      "30000/30000 [==============================] - 0s 6us/sample - loss: 3.4891 - val_loss: 3.5328\n",
      "Epoch 23/50\n",
      "30000/30000 [==============================] - 0s 6us/sample - loss: 3.4891 - val_loss: 3.5328\n",
      "Epoch 24/50\n",
      "30000/30000 [==============================] - 0s 6us/sample - loss: 3.4891 - val_loss: 3.5328\n",
      "Epoch 25/50\n",
      "30000/30000 [==============================] - 0s 6us/sample - loss: 3.4891 - val_loss: 3.5328\n",
      "Epoch 26/50\n",
      "30000/30000 [==============================] - 0s 6us/sample - loss: 3.4891 - val_loss: 3.5328\n",
      "Epoch 27/50\n",
      "30000/30000 [==============================] - 0s 6us/sample - loss: 3.4891 - val_loss: 3.5328\n",
      "Epoch 28/50\n",
      "30000/30000 [==============================] - 0s 6us/sample - loss: 3.4891 - val_loss: 3.5328\n",
      "Epoch 29/50\n",
      "30000/30000 [==============================] - 0s 6us/sample - loss: 3.4891 - val_loss: 3.5328\n",
      "Epoch 30/50\n",
      "30000/30000 [==============================] - 0s 6us/sample - loss: 3.4891 - val_loss: 3.5328\n",
      "Epoch 31/50\n",
      "30000/30000 [==============================] - 0s 6us/sample - loss: 3.4891 - val_loss: 3.5328\n",
      "Epoch 32/50\n",
      "30000/30000 [==============================] - 0s 6us/sample - loss: 3.4891 - val_loss: 3.5328\n",
      "Epoch 33/50\n",
      "30000/30000 [==============================] - 0s 6us/sample - loss: 3.4891 - val_loss: 3.5328\n",
      "Epoch 34/50\n",
      "30000/30000 [==============================] - 0s 6us/sample - loss: 3.4891 - val_loss: 3.5328\n",
      "Epoch 35/50\n",
      "30000/30000 [==============================] - 0s 6us/sample - loss: 3.4891 - val_loss: 3.5328\n",
      "Epoch 36/50\n",
      "30000/30000 [==============================] - 0s 6us/sample - loss: 3.4891 - val_loss: 3.5328\n",
      "Epoch 37/50\n",
      "30000/30000 [==============================] - 0s 6us/sample - loss: 3.4891 - val_loss: 3.5328\n",
      "Epoch 38/50\n",
      "30000/30000 [==============================] - 0s 6us/sample - loss: 3.4891 - val_loss: 3.5328\n",
      "Epoch 39/50\n",
      "30000/30000 [==============================] - 0s 6us/sample - loss: 3.4891 - val_loss: 3.5328\n",
      "Epoch 40/50\n",
      "30000/30000 [==============================] - 0s 6us/sample - loss: 3.4891 - val_loss: 3.5328\n",
      "Epoch 41/50\n",
      "30000/30000 [==============================] - 0s 6us/sample - loss: 3.4891 - val_loss: 3.5328\n",
      "Epoch 42/50\n",
      "30000/30000 [==============================] - 0s 6us/sample - loss: 3.4891 - val_loss: 3.5328\n",
      "Epoch 43/50\n",
      "30000/30000 [==============================] - 0s 6us/sample - loss: 3.4891 - val_loss: 3.5328\n",
      "Epoch 44/50\n",
      "30000/30000 [==============================] - 0s 6us/sample - loss: 3.4891 - val_loss: 3.5328\n",
      "Epoch 45/50\n",
      "30000/30000 [==============================] - 0s 6us/sample - loss: 3.4891 - val_loss: 3.5328\n",
      "Epoch 46/50\n",
      "30000/30000 [==============================] - 0s 6us/sample - loss: 3.4891 - val_loss: 3.5328\n",
      "Epoch 47/50\n",
      "30000/30000 [==============================] - 0s 6us/sample - loss: 3.4891 - val_loss: 3.5328\n",
      "Epoch 48/50\n",
      "30000/30000 [==============================] - 0s 6us/sample - loss: 3.4891 - val_loss: 3.5328\n",
      "Epoch 49/50\n",
      "30000/30000 [==============================] - 0s 6us/sample - loss: 3.4891 - val_loss: 3.5328\n",
      "Epoch 50/50\n",
      "30000/30000 [==============================] - 0s 6us/sample - loss: 3.4891 - val_loss: 3.5328\n"
     ]
    },
    {
     "data": {
      "text/plain": [
       "<tensorflow.python.keras.callbacks.History at 0x1a413c0940>"
      ]
     },
     "execution_count": 87,
     "metadata": {},
     "output_type": "execute_result"
    }
   ],
   "source": [
    "autoencoder.fit(\n",
    "    x_train, y_train,\n",
    "    epochs=50,\n",
    "    batch_size=256,\n",
    "    shuffle=True,\n",
    "    validation_data=(x_test, y_test)\n",
    ")"
   ]
  },
  {
   "cell_type": "code",
   "execution_count": null,
   "metadata": {
    "ExecuteTime": {
     "end_time": "2020-03-20T04:45:27.317504Z",
     "start_time": "2020-03-20T04:45:27.309335Z"
    }
   },
   "outputs": [],
   "source": []
  },
  {
   "cell_type": "code",
   "execution_count": null,
   "metadata": {},
   "outputs": [],
   "source": []
  }
 ],
 "metadata": {
  "kernelspec": {
   "display_name": "Python [conda env:py36] *",
   "language": "python",
   "name": "conda-env-py36-py"
  },
  "language_info": {
   "codemirror_mode": {
    "name": "ipython",
    "version": 3
   },
   "file_extension": ".py",
   "mimetype": "text/x-python",
   "name": "python",
   "nbconvert_exporter": "python",
   "pygments_lexer": "ipython3",
   "version": "3.6.8"
  },
  "latex_envs": {
   "LaTeX_envs_menu_present": true,
   "autoclose": false,
   "autocomplete": true,
   "bibliofile": "biblio.bib",
   "cite_by": "apalike",
   "current_citInitial": 1,
   "eqLabelWithNumbers": true,
   "eqNumInitial": 1,
   "hotkeys": {
    "equation": "Ctrl-E",
    "itemize": "Ctrl-I"
   },
   "labels_anchors": false,
   "latex_user_defs": false,
   "report_style_numbering": false,
   "user_envs_cfg": false
  }
 },
 "nbformat": 4,
 "nbformat_minor": 2
}
