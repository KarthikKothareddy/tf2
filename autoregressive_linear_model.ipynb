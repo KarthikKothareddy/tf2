{
 "cells": [
  {
   "cell_type": "code",
   "execution_count": 1,
   "metadata": {
    "ExecuteTime": {
     "end_time": "2020-03-19T00:11:00.996329Z",
     "start_time": "2020-03-19T00:11:00.751357Z"
    }
   },
   "outputs": [],
   "source": [
    "from tensorflow.keras.layers import Input, Dense\n",
    "from tensorflow.keras.models import Model\n",
    "from tensorflow.keras.optimizers import SGD, Adam\n",
    "\n",
    "import numpy as np\n",
    "import pandas as pd\n",
    "import matplotlib.pyplot as plt\n",
    "%matplotlib inline\n"
   ]
  },
  {
   "cell_type": "code",
   "execution_count": 8,
   "metadata": {
    "ExecuteTime": {
     "end_time": "2020-03-19T00:24:03.264652Z",
     "start_time": "2020-03-19T00:24:02.958099Z"
    }
   },
   "outputs": [
    {
     "name": "stdout",
     "output_type": "stream",
     "text": [
      "200\n"
     ]
    },
    {
     "data": {
      "image/png": "[encoded data removed]",
      "text/plain": [
       "<Figure size 432x288 with 1 Axes>"
      ]
     },
     "metadata": {
      "needs_background": "light"
     },
     "output_type": "display_data"
    }
   ],
   "source": [
    "# make synthetic data\n",
    "series = np.sin(0.1 * np.arange(200))\n",
    "\n",
    "# optional add noise\n",
    "#series = series + np.random.randn(200)*0.1\n",
    "print(len(series))\n",
    "\n",
    "# plot\n",
    "plt.plot(series)\n",
    "plt.show();"
   ]
  },
  {
   "cell_type": "code",
   "execution_count": 5,
   "metadata": {
    "ExecuteTime": {
     "end_time": "2020-03-19T00:20:42.577390Z",
     "start_time": "2020-03-19T00:20:42.570987Z"
    }
   },
   "outputs": [
    {
     "name": "stdout",
     "output_type": "stream",
     "text": [
      "X.shape:  (190, 10)  Y.shape:  (190,)\n"
     ]
    }
   ],
   "source": [
    "# build the dataset\n",
    "T = 10 \n",
    "X = []\n",
    "Y = []\n",
    "\n",
    "for t in range(len(series) - T):\n",
    "    x = series[t:t+T]\n",
    "    X.append(x)\n",
    "    y = series[t+T]\n",
    "    Y.append(y)\n",
    "    \n",
    "X = np.array(X).reshape(-1, T)\n",
    "Y = np.array(Y)\n",
    "N = len(X)\n",
    "print(\"X.shape: \", X.shape, \" Y.shape: \", Y.shape)"
   ]
  },
  {
   "cell_type": "code",
   "execution_count": 10,
   "metadata": {
    "ExecuteTime": {
     "end_time": "2020-03-19T00:25:30.559280Z",
     "start_time": "2020-03-19T00:25:30.535282Z"
    }
   },
   "outputs": [],
   "source": [
    "# autoregressive Linear Model\n",
    "_input = Input(shape=(T,))\n",
    "x = Dense(1)(_input)\n",
    "model = Model(_input, x)\n",
    "\n",
    "model.compile(\n",
    "    loss=\"mse\",\n",
    "    optimizer=Adam(lr=0.1),\n",
    ")"
   ]
  },
  {
   "cell_type": "code",
   "execution_count": 12,
   "metadata": {
    "ExecuteTime": {
     "end_time": "2020-03-19T00:26:55.201000Z",
     "start_time": "2020-03-19T00:26:54.024590Z"
    },
    "collapsed": true
   },
   "outputs": [
    {
     "name": "stdout",
     "output_type": "stream",
     "text": [
      "Train on 95 samples, validate on 95 samples\n",
      "Epoch 1/80\n",
      "95/95 [==============================] - 0s 3ms/sample - loss: 0.4111 - val_loss: 0.4048\n",
      "Epoch 2/80\n",
      "95/95 [==============================] - 0s 104us/sample - loss: 0.3440 - val_loss: 0.0467\n",
      "Epoch 3/80\n",
      "95/95 [==============================] - 0s 95us/sample - loss: 0.1056 - val_loss: 0.1773\n",
      "Epoch 4/80\n",
      "95/95 [==============================] - 0s 100us/sample - loss: 0.1303 - val_loss: 0.0027\n",
      "Epoch 5/80\n",
      "95/95 [==============================] - 0s 96us/sample - loss: 0.0276 - val_loss: 0.0782\n",
      "Epoch 6/80\n",
      "95/95 [==============================] - 0s 100us/sample - loss: 0.0699 - val_loss: 0.0119\n",
      "Epoch 7/80\n",
      "95/95 [==============================] - 0s 98us/sample - loss: 0.0146 - val_loss: 0.0429\n",
      "Epoch 8/80\n",
      "95/95 [==============================] - 0s 125us/sample - loss: 0.0455 - val_loss: 0.0190\n",
      "Epoch 9/80\n",
      "95/95 [==============================] - 0s 103us/sample - loss: 0.0117 - val_loss: 0.0220\n",
      "Epoch 10/80\n",
      "95/95 [==============================] - 0s 95us/sample - loss: 0.0277 - val_loss: 0.0182\n",
      "Epoch 11/80\n",
      "95/95 [==============================] - 0s 101us/sample - loss: 0.0081 - val_loss: 0.0070\n",
      "Epoch 12/80\n",
      "95/95 [==============================] - 0s 97us/sample - loss: 0.0119 - val_loss: 0.0065\n",
      "Epoch 13/80\n",
      "95/95 [==============================] - 0s 99us/sample - loss: 0.0030 - val_loss: 0.0028\n",
      "Epoch 14/80\n",
      "95/95 [==============================] - 0s 99us/sample - loss: 0.0059 - val_loss: 0.0034\n",
      "Epoch 15/80\n",
      "95/95 [==============================] - 0s 96us/sample - loss: 0.0026 - val_loss: 0.0037\n",
      "Epoch 16/80\n",
      "95/95 [==============================] - 0s 102us/sample - loss: 0.0042 - val_loss: 0.0021\n",
      "Epoch 17/80\n",
      "95/95 [==============================] - 0s 103us/sample - loss: 0.0012 - val_loss: 0.0021\n",
      "Epoch 18/80\n",
      "95/95 [==============================] - 0s 98us/sample - loss: 0.0025 - val_loss: 6.2479e-04\n",
      "Epoch 19/80\n",
      "95/95 [==============================] - 0s 102us/sample - loss: 5.0632e-04 - val_loss: 0.0015\n",
      "Epoch 20/80\n",
      "95/95 [==============================] - 0s 98us/sample - loss: 0.0013 - val_loss: 7.3139e-05\n",
      "Epoch 21/80\n",
      "95/95 [==============================] - 0s 99us/sample - loss: 4.2652e-04 - val_loss: 0.0010\n",
      "Epoch 22/80\n",
      "95/95 [==============================] - 0s 102us/sample - loss: 6.9433e-04 - val_loss: 1.5402e-04\n",
      "Epoch 23/80\n",
      "95/95 [==============================] - 0s 96us/sample - loss: 5.0485e-04 - val_loss: 4.1517e-04\n",
      "Epoch 24/80\n",
      "95/95 [==============================] - 0s 103us/sample - loss: 2.3672e-04 - val_loss: 2.8858e-04\n",
      "Epoch 25/80\n",
      "95/95 [==============================] - 0s 101us/sample - loss: 3.3016e-04 - val_loss: 6.5149e-05\n",
      "Epoch 26/80\n",
      "95/95 [==============================] - 0s 101us/sample - loss: 6.4701e-05 - val_loss: 2.4235e-04\n",
      "Epoch 27/80\n",
      "95/95 [==============================] - 0s 102us/sample - loss: 1.7152e-04 - val_loss: 1.2039e-05\n",
      "Epoch 28/80\n",
      "95/95 [==============================] - 0s 98us/sample - loss: 8.9246e-05 - val_loss: 1.2127e-04\n",
      "Epoch 29/80\n",
      "95/95 [==============================] - 0s 102us/sample - loss: 6.8980e-05 - val_loss: 4.9850e-05\n",
      "Epoch 30/80\n",
      "95/95 [==============================] - 0s 100us/sample - loss: 7.9586e-05 - val_loss: 1.4873e-05\n",
      "Epoch 31/80\n",
      "95/95 [==============================] - 0s 102us/sample - loss: 1.7821e-05 - val_loss: 4.2137e-05\n",
      "Epoch 32/80\n",
      "95/95 [==============================] - 0s 103us/sample - loss: 2.6481e-05 - val_loss: 6.1526e-06\n",
      "Epoch 33/80\n",
      "95/95 [==============================] - 0s 100us/sample - loss: 1.8201e-05 - val_loss: 1.3222e-05\n",
      "Epoch 34/80\n",
      "95/95 [==============================] - 0s 103us/sample - loss: 7.3450e-06 - val_loss: 1.6089e-05\n",
      "Epoch 35/80\n",
      "95/95 [==============================] - 0s 102us/sample - loss: 1.2702e-05 - val_loss: 2.9944e-06\n",
      "Epoch 36/80\n",
      "95/95 [==============================] - 0s 99us/sample - loss: 6.4823e-06 - val_loss: 5.3965e-06\n",
      "Epoch 37/80\n",
      "95/95 [==============================] - 0s 102us/sample - loss: 3.1185e-06 - val_loss: 3.9735e-06\n",
      "Epoch 38/80\n",
      "95/95 [==============================] - 0s 103us/sample - loss: 4.0795e-06 - val_loss: 2.9220e-07\n",
      "Epoch 39/80\n",
      "95/95 [==============================] - 0s 101us/sample - loss: 1.9120e-06 - val_loss: 2.9769e-06\n",
      "Epoch 40/80\n",
      "95/95 [==============================] - 0s 108us/sample - loss: 1.4465e-06 - val_loss: 2.1407e-06\n",
      "Epoch 41/80\n",
      "95/95 [==============================] - 0s 102us/sample - loss: 1.9570e-06 - val_loss: 2.5246e-07\n",
      "Epoch 42/80\n",
      "95/95 [==============================] - 0s 106us/sample - loss: 8.7951e-07 - val_loss: 6.5825e-07\n",
      "Epoch 43/80\n",
      "95/95 [==============================] - 0s 108us/sample - loss: 3.6858e-07 - val_loss: 6.8857e-07\n",
      "Epoch 44/80\n",
      "95/95 [==============================] - 0s 105us/sample - loss: 6.3527e-07 - val_loss: 1.0082e-07\n",
      "Epoch 45/80\n",
      "95/95 [==============================] - 0s 105us/sample - loss: 4.6140e-07 - val_loss: 3.8572e-07\n",
      "Epoch 46/80\n",
      "95/95 [==============================] - 0s 104us/sample - loss: 2.1311e-07 - val_loss: 4.8232e-07\n",
      "Epoch 47/80\n",
      "95/95 [==============================] - 0s 99us/sample - loss: 2.8171e-07 - val_loss: 5.2703e-08\n",
      "Epoch 48/80\n",
      "95/95 [==============================] - 0s 98us/sample - loss: 1.7908e-07 - val_loss: 5.6038e-08\n",
      "Epoch 49/80\n",
      "95/95 [==============================] - 0s 108us/sample - loss: 7.6652e-08 - val_loss: 1.1816e-07\n",
      "Epoch 50/80\n",
      "95/95 [==============================] - 0s 100us/sample - loss: 7.7322e-08 - val_loss: 7.5232e-08\n",
      "Epoch 51/80\n",
      "95/95 [==============================] - 0s 106us/sample - loss: 8.1321e-08 - val_loss: 1.0855e-08\n",
      "Epoch 52/80\n",
      "95/95 [==============================] - 0s 102us/sample - loss: 3.9515e-08 - val_loss: 5.0067e-08\n",
      "Epoch 53/80\n",
      "95/95 [==============================] - 0s 103us/sample - loss: 2.0977e-08 - val_loss: 3.4639e-08\n",
      "Epoch 54/80\n",
      "95/95 [==============================] - 0s 97us/sample - loss: 2.6265e-08 - val_loss: 3.4854e-09\n",
      "Epoch 55/80\n",
      "95/95 [==============================] - 0s 109us/sample - loss: 1.7945e-08 - val_loss: 5.3547e-09\n",
      "Epoch 56/80\n",
      "95/95 [==============================] - 0s 102us/sample - loss: 8.3713e-09 - val_loss: 1.2971e-08\n",
      "Epoch 57/80\n",
      "95/95 [==============================] - 0s 100us/sample - loss: 7.9076e-09 - val_loss: 9.0109e-09\n",
      "Epoch 58/80\n",
      "95/95 [==============================] - 0s 95us/sample - loss: 6.4668e-09 - val_loss: 2.0747e-10\n",
      "Epoch 59/80\n",
      "95/95 [==============================] - 0s 107us/sample - loss: 3.3851e-09 - val_loss: 2.6383e-09\n",
      "Epoch 60/80\n",
      "95/95 [==============================] - 0s 106us/sample - loss: 1.8232e-09 - val_loss: 3.3382e-09\n",
      "Epoch 61/80\n",
      "95/95 [==============================] - 0s 105us/sample - loss: 2.2206e-09 - val_loss: 2.2495e-09\n",
      "Epoch 62/80\n",
      "95/95 [==============================] - 0s 103us/sample - loss: 2.1618e-09 - val_loss: 2.2025e-10\n",
      "Epoch 63/80\n",
      "95/95 [==============================] - 0s 110us/sample - loss: 1.1429e-09 - val_loss: 6.8289e-10\n",
      "Epoch 64/80\n",
      "95/95 [==============================] - 0s 101us/sample - loss: 5.1598e-10 - val_loss: 1.1336e-09\n",
      "Epoch 65/80\n",
      "95/95 [==============================] - 0s 104us/sample - loss: 6.4440e-10 - val_loss: 6.5988e-10\n",
      "Epoch 66/80\n",
      "95/95 [==============================] - 0s 113us/sample - loss: 6.9050e-10 - val_loss: 1.8037e-10\n",
      "Epoch 67/80\n",
      "95/95 [==============================] - 0s 109us/sample - loss: 3.3776e-10 - val_loss: 1.0292e-10\n",
      "Epoch 68/80\n",
      "95/95 [==============================] - 0s 103us/sample - loss: 1.2475e-10 - val_loss: 2.8241e-10\n",
      "Epoch 69/80\n",
      "95/95 [==============================] - 0s 123us/sample - loss: 1.2196e-10 - val_loss: 1.7732e-10\n",
      "Epoch 70/80\n",
      "95/95 [==============================] - 0s 97us/sample - loss: 1.4320e-10 - val_loss: 7.3158e-11\n",
      "Epoch 71/80\n",
      "95/95 [==============================] - 0s 101us/sample - loss: 9.8466e-11 - val_loss: 3.0652e-11\n",
      "Epoch 72/80\n",
      "95/95 [==============================] - 0s 95us/sample - loss: 4.1038e-11 - val_loss: 3.0259e-11\n",
      "Epoch 73/80\n",
      "95/95 [==============================] - 0s 102us/sample - loss: 2.0402e-11 - val_loss: 5.9733e-11\n",
      "Epoch 74/80\n",
      "95/95 [==============================] - 0s 94us/sample - loss: 2.6944e-11 - val_loss: 2.1507e-11\n",
      "Epoch 75/80\n",
      "95/95 [==============================] - 0s 99us/sample - loss: 2.3970e-11 - val_loss: 1.0288e-11\n",
      "Epoch 76/80\n"
     ]
    },
    {
     "name": "stdout",
     "output_type": "stream",
     "text": [
      "95/95 [==============================] - 0s 98us/sample - loss: 2.2036e-11 - val_loss: 3.4011e-12\n",
      "Epoch 77/80\n",
      "95/95 [==============================] - 0s 100us/sample - loss: 7.6890e-12 - val_loss: 3.6322e-12\n",
      "Epoch 78/80\n",
      "95/95 [==============================] - 0s 113us/sample - loss: 5.0674e-12 - val_loss: 1.2175e-11\n",
      "Epoch 79/80\n",
      "95/95 [==============================] - 0s 106us/sample - loss: 6.1002e-12 - val_loss: 7.2550e-12\n",
      "Epoch 80/80\n",
      "95/95 [==============================] - 0s 100us/sample - loss: 5.1768e-12 - val_loss: 3.3233e-12\n"
     ]
    }
   ],
   "source": [
    "# train\n",
    "r = model.fit(\n",
    "    X[:-N//2], Y[:-N//2],\n",
    "    epochs=80,\n",
    "    validation_data=(X[-N//2:], Y[-N//2:]),\n",
    ")"
   ]
  },
  {
   "cell_type": "code",
   "execution_count": 14,
   "metadata": {
    "ExecuteTime": {
     "end_time": "2020-03-19T00:28:38.432985Z",
     "start_time": "2020-03-19T00:28:38.169770Z"
    }
   },
   "outputs": [
    {
     "data": {
      "image/png": "[encoded data removed]",
      "text/plain": [
       "<Figure size 432x288 with 1 Axes>"
      ]
     },
     "metadata": {
      "needs_background": "light"
     },
     "output_type": "display_data"
    }
   ],
   "source": [
    "# plot loss per iteration\n",
    "plt.plot(r.history[\"loss\"], label=\"loss\")\n",
    "plt.plot(r.history[\"val_loss\"], label=\"val_loss\")\n",
    "plt.legend();"
   ]
  },
  {
   "cell_type": "code",
   "execution_count": 15,
   "metadata": {
    "ExecuteTime": {
     "end_time": "2020-03-19T00:33:54.007702Z",
     "start_time": "2020-03-19T00:33:52.163687Z"
    }
   },
   "outputs": [],
   "source": [
    "# WRONG forecasting using true targets\n",
    "validation_target = Y[-N//2:]\n",
    "validation_predictions = []\n",
    "\n",
    "# index of first validation input\n",
    "i = -N//2\n",
    "\n",
    "while len(validation_predictions) < len(validation_target):\n",
    "    p = model.predict(X[i].reshape(1, -1))[0, 0] # 1x1 array -> scalar\n",
    "    i += 1\n",
    "    validation_predictions.append(p)"
   ]
  },
  {
   "cell_type": "code",
   "execution_count": 16,
   "metadata": {
    "ExecuteTime": {
     "end_time": "2020-03-19T00:34:37.297964Z",
     "start_time": "2020-03-19T00:34:37.109588Z"
    }
   },
   "outputs": [
    {
     "data": {
      "image/png": "[encoded data removed]",
      "text/plain": [
       "<Figure size 432x288 with 1 Axes>"
      ]
     },
     "metadata": {
      "needs_background": "light"
     },
     "output_type": "display_data"
    }
   ],
   "source": [
    "# plot \n",
    "plt.plot(validation_target, label=\"forecast target\")\n",
    "plt.plot(validation_predictions, label=\"forecast predictions\")\n",
    "plt.legend();"
   ]
  },
  {
   "cell_type": "code",
   "execution_count": 19,
   "metadata": {
    "ExecuteTime": {
     "end_time": "2020-03-19T00:39:00.888468Z",
     "start_time": "2020-03-19T00:38:59.360850Z"
    }
   },
   "outputs": [],
   "source": [
    "# CORRECT way of forecasting\n",
    "validation_target = Y[-N//2:]\n",
    "validation_predictions = []\n",
    "\n",
    "# last train input\n",
    "last_x = X[-N//2] # 1-D array of length T\n",
    "\n",
    "while len(validation_predictions) < len(validation_target):\n",
    "    p = model.predict(last_x.reshape(1, -1))[0, 0] \n",
    "    \n",
    "    # update\n",
    "    validation_predictions.append(p)\n",
    "    \n",
    "    # make the new input\n",
    "    last_x = np.roll(last_x, -1)\n",
    "    last_x[-1] = p"
   ]
  },
  {
   "cell_type": "code",
   "execution_count": 20,
   "metadata": {
    "ExecuteTime": {
     "end_time": "2020-03-19T00:39:08.587004Z",
     "start_time": "2020-03-19T00:39:08.407571Z"
    }
   },
   "outputs": [
    {
     "data": {
      "image/png": "[encoded data removed]",
      "text/plain": [
       "<Figure size 432x288 with 1 Axes>"
      ]
     },
     "metadata": {
      "needs_background": "light"
     },
     "output_type": "display_data"
    }
   ],
   "source": [
    "# plot \n",
    "plt.plot(validation_target, label=\"forecast target\")\n",
    "plt.plot(validation_predictions, label=\"forecast predictions\")\n",
    "plt.legend();"
   ]
  },
  {
   "cell_type": "code",
   "execution_count": null,
   "metadata": {},
   "outputs": [],
   "source": []
  },
  {
   "cell_type": "code",
   "execution_count": null,
   "metadata": {},
   "outputs": [],
   "source": []
  },
  {
   "cell_type": "code",
   "execution_count": 21,
   "metadata": {
    "ExecuteTime": {
     "end_time": "2020-03-19T00:40:33.996944Z",
     "start_time": "2020-03-19T00:40:33.994138Z"
    }
   },
   "outputs": [],
   "source": [
    "s = np.array([1, 2, 3, 4])"
   ]
  },
  {
   "cell_type": "code",
   "execution_count": null,
   "metadata": {},
   "outputs": [],
   "source": []
  },
  {
   "cell_type": "code",
   "execution_count": null,
   "metadata": {},
   "outputs": [],
   "source": []
  },
  {
   "cell_type": "code",
   "execution_count": null,
   "metadata": {},
   "outputs": [],
   "source": []
  }
 ],
 "metadata": {
  "kernelspec": {
   "display_name": "Python [conda env:py36] *",
   "language": "python",
   "name": "conda-env-py36-py"
  },
  "language_info": {
   "codemirror_mode": {
    "name": "ipython",
    "version": 3
   },
   "file_extension": ".py",
   "mimetype": "text/x-python",
   "name": "python",
   "nbconvert_exporter": "python",
   "pygments_lexer": "ipython3",
   "version": "3.6.8"
  },
  "latex_envs": {
   "LaTeX_envs_menu_present": true,
   "autoclose": false,
   "autocomplete": true,
   "bibliofile": "biblio.bib",
   "cite_by": "apalike",
   "current_citInitial": 1,
   "eqLabelWithNumbers": true,
   "eqNumInitial": 1,
   "hotkeys": {
    "equation": "Ctrl-E",
    "itemize": "Ctrl-I"
   },
   "labels_anchors": false,
   "latex_user_defs": false,
   "report_style_numbering": false,
   "user_envs_cfg": false
  }
 },
 "nbformat": 4,
 "nbformat_minor": 2
}
